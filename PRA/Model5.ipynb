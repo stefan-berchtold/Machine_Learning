{
 "cells": [
  {
   "cell_type": "markdown",
   "metadata": {},
   "source": [
    "## Libraries "
   ]
  },
  {
   "cell_type": "code",
   "execution_count": 1,
   "metadata": {},
   "outputs": [],
   "source": [
    "import random\n",
    "import numpy as np\n",
    "import string\n",
    "import matplotlib.pyplot as plt\n",
    "from keras.models import Sequential, load_model\n",
    "from keras import layers"
   ]
  },
  {
   "cell_type": "markdown",
   "metadata": {},
   "source": [
    "## Morse dictionary"
   ]
  },
  {
   "cell_type": "code",
   "execution_count": 2,
   "metadata": {},
   "outputs": [],
   "source": [
    "# basic morse dictionary, we use '-' to mark word spaces\n",
    "\n",
    "alphabet = list('abcdefghijklmnopqrstuvwxyz-')\n",
    "values = ['.-', '-...', '-.-.', '-..', '.', '..-.', '--.', '....', '..', '.---', '-.-', \n",
    "          '.-..', '--', '-.','---', '.--.', '--.-', \n",
    "          '.-.', '...', '-', '..-', '...-', '.--', '-..-', '-.--', '--..','-....-']\n",
    "\n",
    "morse_dict = dict(zip(alphabet, values))\n",
    "ascii_dict = dict(map(reversed, morse_dict.items())) # inverse mapping\n",
    "\n",
    "# convert text to morse code\n",
    "def morse_encode(text):\n",
    "    t = ''.join([c for c in text.lower() if c in alphabet])\n",
    "    return ' '.join([''.join(morse_dict[i]) for i in t])\n",
    " \n",
    "# convert morse code to text\n",
    "def morse_decode(code):\n",
    "    return ''.join([ascii_dict[i] for i in code.split(' ')])"
   ]
  },
  {
   "cell_type": "markdown",
   "metadata": {},
   "source": [
    "## Generating data for training"
   ]
  },
  {
   "cell_type": "code",
   "execution_count": 3,
   "metadata": {},
   "outputs": [],
   "source": [
    "word_len = 6                                    # number of characters output\n",
    "\n",
    "max_len_x = len(max(values, key=len))*word_len+(word_len-1)  # number of morse symbols\n",
    "max_len_y = word_len\n",
    "    \n",
    "# generate data for training \n",
    "\n",
    "def generate_data (n):\n",
    "    output_list = [(''.join([random.choice(string.ascii_lowercase + '-') \n",
    "        for _ in range(word_len)])) \n",
    "            for _ in range(n)]\n",
    "    return  output_list, [morse_encode(s) for s in output_list]\n",
    "    \n",
    "output_list, input_list = generate_data(10000)"
   ]
  },
  {
   "cell_type": "markdown",
   "metadata": {},
   "source": [
    "## Embedding, simply my mapping a one-hot encoding"
   ]
  },
  {
   "cell_type": "code",
   "execution_count": 4,
   "metadata": {},
   "outputs": [],
   "source": [
    "class Embedding(object):\n",
    "    def __init__(self, chars):\n",
    "        self.chars = sorted(set(chars))\n",
    "        self.char_indices = dict((c, i) for i, c in\n",
    "                                            enumerate(self.chars))\n",
    "        self.indices_char = dict((i, c) for i, c in \n",
    "                                            enumerate(self.chars))\n",
    "    def encode(self, token, num_rows):\n",
    "        x = np.zeros((num_rows, len(self.chars)))   # zeros, except ..\n",
    "        for i, c in enumerate(token):               # one \n",
    "            x[i, self.char_indices[c]] = 1\n",
    "        return x\n",
    "    \n",
    "    def decode(self, x):\n",
    "        x = [x.argmax(axis=-1)]\n",
    "        return ''.join(self.indices_char[int(v)] for v in x)\n",
    "    "
   ]
  },
  {
   "cell_type": "markdown",
   "metadata": {},
   "source": [
    "## Prepare data for feeding to network, i.e. represent by one-hot encoding"
   ]
  },
  {
   "cell_type": "code",
   "execution_count": 5,
   "metadata": {},
   "outputs": [
    {
     "name": "stdout",
     "output_type": "stream",
     "text": [
      "..-. -....- --.- .... -. ..               f-qhni\n",
      "- --. -... . .-- .--                      tgbeww\n",
      "-.-. -.- -.- --.. .--. .-.                ckkzpr\n",
      "--.- -.. .-.. -.. .--. -...               qdldpb\n",
      ".--. --. .- --.- .- -....-                pgaqa-\n"
     ]
    }
   ],
   "source": [
    "# character sets used at input (morse code) and output (text)\n",
    "\n",
    "chars_in = '-. '\n",
    "chars_out = ''.join(alphabet)\n",
    "\n",
    "embedding_in = Embedding(chars_in)\n",
    "embedding_out = Embedding(chars_out)\n",
    "\n",
    "# x : input to encoder, y : output from decoder\n",
    "x = np.zeros((len(input_list), max_len_x, len(chars_in)))\n",
    "y = np.zeros((len(output_list), max_len_y, len(chars_out)))\n",
    "\n",
    "for i, token in enumerate(input_list):\n",
    "    x[i] = embedding_in.encode(token, max_len_x)\n",
    "    \n",
    "for i, token in enumerate(output_list):\n",
    "    y[i] = embedding_out.encode(token, max_len_y)\n",
    "    \n",
    "# split data set : 3/4 for training, 1/4 for evaluation\n",
    "m = 3*len(x)// 4\n",
    "(x_train, x_val) = x[:m], x[m:]\n",
    "(y_train, y_val) = y[:m], y[m:]\n",
    "\n",
    "# show some examples ...\n",
    "for i in range(5):\n",
    "    print(''.join([embedding_in.decode(token) for token in x_train[i]]),\n",
    "          ''.join([embedding_out.decode(token) for token in y_train[i]]))"
   ]
  },
  {
   "cell_type": "markdown",
   "metadata": {},
   "source": [
    "## Create model"
   ]
  },
  {
   "cell_type": "code",
   "execution_count": 6,
   "metadata": {},
   "outputs": [
    {
     "name": "stdout",
     "output_type": "stream",
     "text": [
      "Model: \"sequential\"\n",
      "_________________________________________________________________\n",
      "Layer (type)                 Output Shape              Param #   \n",
      "=================================================================\n",
      "lstm (LSTM)                  (None, 200)               163200    \n",
      "_________________________________________________________________\n",
      "repeat_vector (RepeatVector) (None, 6, 200)            0         \n",
      "_________________________________________________________________\n",
      "lstm_1 (LSTM)                (None, 6, 200)            320800    \n",
      "_________________________________________________________________\n",
      "time_distributed (TimeDistri (None, 6, 27)             5427      \n",
      "_________________________________________________________________\n",
      "activation (Activation)      (None, 6, 27)             0         \n",
      "=================================================================\n",
      "Total params: 489,427\n",
      "Trainable params: 489,427\n",
      "Non-trainable params: 0\n",
      "_________________________________________________________________\n"
     ]
    }
   ],
   "source": [
    "latent_dim = 200\n",
    "\n",
    "model = Sequential()\n",
    "model.add(layers.LSTM(latent_dim, input_shape=(max_len_x,len(chars_in))))\n",
    "model.add(layers.RepeatVector(max_len_y))\n",
    "model.add(layers.LSTM(latent_dim, return_sequences=True))\n",
    "model.add(layers.TimeDistributed(layers.Dense(len(chars_out))))\n",
    "model.add(layers.Activation('softmax'))\n",
    "model.compile(loss='categorical_crossentropy', optimizer='adam', \n",
    "              metrics=['accuracy'])\n",
    "model.summary()"
   ]
  },
  {
   "cell_type": "markdown",
   "metadata": {},
   "source": [
    "## Train model"
   ]
  },
  {
   "cell_type": "code",
   "execution_count": 7,
   "metadata": {},
   "outputs": [
    {
     "name": "stdout",
     "output_type": "stream",
     "text": [
      "Epoch 1/74\n",
      "8/8 [==============================] - 5s 603ms/step - loss: 3.2938 - accuracy: 0.0410 - val_loss: 3.2849 - val_accuracy: 0.0359\n",
      "Epoch 2/74\n",
      "8/8 [==============================] - 4s 559ms/step - loss: 3.2617 - accuracy: 0.0592 - val_loss: 3.2260 - val_accuracy: 0.0693\n",
      "Epoch 3/74\n",
      "8/8 [==============================] - 4s 543ms/step - loss: 3.2144 - accuracy: 0.0759 - val_loss: 3.1792 - val_accuracy: 0.0837\n",
      "Epoch 4/74\n",
      "8/8 [==============================] - 4s 545ms/step - loss: 3.1738 - accuracy: 0.0830 - val_loss: 3.1635 - val_accuracy: 0.0832\n",
      "Epoch 5/74\n",
      "8/8 [==============================] - 5s 582ms/step - loss: 3.1491 - accuracy: 0.0865 - val_loss: 3.1383 - val_accuracy: 0.0851\n",
      "Epoch 6/74\n",
      "8/8 [==============================] - 4s 561ms/step - loss: 3.1377 - accuracy: 0.0863 - val_loss: 3.1335 - val_accuracy: 0.0875\n",
      "Epoch 7/74\n",
      "8/8 [==============================] - 5s 608ms/step - loss: 3.1290 - accuracy: 0.0886 - val_loss: 3.1203 - val_accuracy: 0.0855\n",
      "Epoch 8/74\n",
      "8/8 [==============================] - 5s 647ms/step - loss: 3.1201 - accuracy: 0.0890 - val_loss: 3.1144 - val_accuracy: 0.0863\n",
      "Epoch 9/74\n",
      "8/8 [==============================] - 5s 565ms/step - loss: 3.1145 - accuracy: 0.0906 - val_loss: 3.1110 - val_accuracy: 0.0831\n",
      "Epoch 10/74\n",
      "8/8 [==============================] - 4s 559ms/step - loss: 3.1106 - accuracy: 0.0902 - val_loss: 3.1077 - val_accuracy: 0.0859\n",
      "Epoch 11/74\n",
      "8/8 [==============================] - 5s 582ms/step - loss: 3.1084 - accuracy: 0.0911 - val_loss: 3.1072 - val_accuracy: 0.0859\n",
      "Epoch 12/74\n",
      "8/8 [==============================] - 5s 566ms/step - loss: 3.1094 - accuracy: 0.0908 - val_loss: 3.1055 - val_accuracy: 0.0851\n",
      "Epoch 13/74\n",
      "8/8 [==============================] - 5s 565ms/step - loss: 3.1054 - accuracy: 0.0908 - val_loss: 3.1014 - val_accuracy: 0.0852\n",
      "Epoch 14/74\n",
      "8/8 [==============================] - 5s 587ms/step - loss: 3.1024 - accuracy: 0.0900 - val_loss: 3.0986 - val_accuracy: 0.0868\n",
      "Epoch 15/74\n",
      "8/8 [==============================] - 5s 604ms/step - loss: 3.0989 - accuracy: 0.0904 - val_loss: 3.0940 - val_accuracy: 0.0867\n",
      "Epoch 16/74\n",
      "8/8 [==============================] - 5s 606ms/step - loss: 3.0923 - accuracy: 0.0919 - val_loss: 3.0941 - val_accuracy: 0.0877\n",
      "Epoch 17/74\n",
      "8/8 [==============================] - 5s 581ms/step - loss: 3.0979 - accuracy: 0.0939 - val_loss: 3.0838 - val_accuracy: 0.0877\n",
      "Epoch 18/74\n",
      "8/8 [==============================] - 5s 583ms/step - loss: 3.0882 - accuracy: 0.0935 - val_loss: 3.0727 - val_accuracy: 0.0953\n",
      "Epoch 19/74\n",
      "8/8 [==============================] - 5s 580ms/step - loss: 3.0710 - accuracy: 0.0982 - val_loss: 3.0617 - val_accuracy: 0.0980\n",
      "Epoch 20/74\n",
      "8/8 [==============================] - 5s 586ms/step - loss: 3.0555 - accuracy: 0.1013 - val_loss: 3.0440 - val_accuracy: 0.1005\n",
      "Epoch 21/74\n",
      "8/8 [==============================] - 5s 589ms/step - loss: 3.0403 - accuracy: 0.1034 - val_loss: 3.0285 - val_accuracy: 0.0984\n",
      "Epoch 22/74\n",
      "8/8 [==============================] - 5s 584ms/step - loss: 3.0273 - accuracy: 0.1053 - val_loss: 3.0252 - val_accuracy: 0.1043\n",
      "Epoch 23/74\n",
      "8/8 [==============================] - 5s 590ms/step - loss: 3.0260 - accuracy: 0.1064 - val_loss: 3.0293 - val_accuracy: 0.1018\n",
      "Epoch 24/74\n",
      "8/8 [==============================] - 5s 590ms/step - loss: 3.0188 - accuracy: 0.1056 - val_loss: 3.0093 - val_accuracy: 0.1043\n",
      "Epoch 25/74\n",
      "8/8 [==============================] - 5s 602ms/step - loss: 3.0025 - accuracy: 0.1089 - val_loss: 2.9954 - val_accuracy: 0.1043\n",
      "Epoch 26/74\n",
      "8/8 [==============================] - 5s 597ms/step - loss: 2.9973 - accuracy: 0.1083 - val_loss: 2.9942 - val_accuracy: 0.1051\n",
      "Epoch 27/74\n",
      "8/8 [==============================] - 5s 596ms/step - loss: 2.9891 - accuracy: 0.1131 - val_loss: 2.9824 - val_accuracy: 0.1078\n",
      "Epoch 28/74\n",
      "8/8 [==============================] - 5s 592ms/step - loss: 2.9789 - accuracy: 0.1148 - val_loss: 2.9721 - val_accuracy: 0.1105\n",
      "Epoch 29/74\n",
      "8/8 [==============================] - 5s 612ms/step - loss: 2.9890 - accuracy: 0.1118 - val_loss: 3.0170 - val_accuracy: 0.1014\n",
      "Epoch 30/74\n",
      "8/8 [==============================] - 5s 626ms/step - loss: 2.9941 - accuracy: 0.1099 - val_loss: 2.9884 - val_accuracy: 0.1095\n",
      "Epoch 31/74\n",
      "8/8 [==============================] - 5s 644ms/step - loss: 2.9811 - accuracy: 0.1131 - val_loss: 2.9691 - val_accuracy: 0.1093\n",
      "Epoch 32/74\n",
      "8/8 [==============================] - 5s 631ms/step - loss: 2.9632 - accuracy: 0.1180 - val_loss: 2.9558 - val_accuracy: 0.1147\n",
      "Epoch 33/74\n",
      "8/8 [==============================] - 5s 617ms/step - loss: 2.9539 - accuracy: 0.1207 - val_loss: 2.9477 - val_accuracy: 0.1142\n",
      "Epoch 34/74\n",
      "8/8 [==============================] - 5s 609ms/step - loss: 2.9419 - accuracy: 0.1247 - val_loss: 2.9376 - val_accuracy: 0.1177\n",
      "Epoch 35/74\n",
      "8/8 [==============================] - 5s 626ms/step - loss: 2.9305 - accuracy: 0.1264 - val_loss: 2.9301 - val_accuracy: 0.1171\n",
      "Epoch 36/74\n",
      "8/8 [==============================] - 5s 601ms/step - loss: 2.9683 - accuracy: 0.1188 - val_loss: 3.0217 - val_accuracy: 0.1025\n",
      "Epoch 37/74\n",
      "8/8 [==============================] - 5s 659ms/step - loss: 2.9742 - accuracy: 0.1152 - val_loss: 2.9584 - val_accuracy: 0.1151\n",
      "Epoch 38/74\n",
      "8/8 [==============================] - 5s 672ms/step - loss: 2.9421 - accuracy: 0.1220 - val_loss: 2.9290 - val_accuracy: 0.1191\n",
      "Epoch 39/74\n",
      "8/8 [==============================] - 5s 605ms/step - loss: 2.9172 - accuracy: 0.1282 - val_loss: 2.9268 - val_accuracy: 0.1188\n",
      "Epoch 40/74\n",
      "8/8 [==============================] - 5s 637ms/step - loss: 2.9115 - accuracy: 0.1312 - val_loss: 2.9041 - val_accuracy: 0.1261\n",
      "Epoch 41/74\n",
      "8/8 [==============================] - 5s 617ms/step - loss: 2.8903 - accuracy: 0.1349 - val_loss: 2.8867 - val_accuracy: 0.1337\n",
      "Epoch 42/74\n",
      "8/8 [==============================] - 5s 606ms/step - loss: 2.8795 - accuracy: 0.1384 - val_loss: 2.8778 - val_accuracy: 0.1385\n",
      "Epoch 43/74\n",
      "8/8 [==============================] - 5s 619ms/step - loss: 2.8917 - accuracy: 0.1343 - val_loss: 2.9062 - val_accuracy: 0.1246\n",
      "Epoch 44/74\n",
      "8/8 [==============================] - 5s 629ms/step - loss: 2.8702 - accuracy: 0.1414 - val_loss: 2.8673 - val_accuracy: 0.1379\n",
      "Epoch 45/74\n",
      "8/8 [==============================] - 5s 624ms/step - loss: 2.8589 - accuracy: 0.1434 - val_loss: 2.8698 - val_accuracy: 0.1379\n",
      "Epoch 46/74\n",
      "8/8 [==============================] - 5s 658ms/step - loss: 2.8516 - accuracy: 0.1481 - val_loss: 2.8387 - val_accuracy: 0.1491\n",
      "Epoch 47/74\n",
      "8/8 [==============================] - 5s 643ms/step - loss: 2.8292 - accuracy: 0.1542 - val_loss: 2.8236 - val_accuracy: 0.1547\n",
      "Epoch 48/74\n",
      "8/8 [==============================] - 5s 656ms/step - loss: 2.8166 - accuracy: 0.1581 - val_loss: 2.8191 - val_accuracy: 0.1526\n",
      "Epoch 49/74\n",
      "8/8 [==============================] - 5s 673ms/step - loss: 2.8493 - accuracy: 0.1461 - val_loss: 2.8403 - val_accuracy: 0.1446\n",
      "Epoch 50/74\n",
      "8/8 [==============================] - 5s 630ms/step - loss: 2.8360 - accuracy: 0.1541 - val_loss: 2.8372 - val_accuracy: 0.1439\n",
      "Epoch 51/74\n",
      "8/8 [==============================] - 5s 622ms/step - loss: 2.8118 - accuracy: 0.1569 - val_loss: 2.8024 - val_accuracy: 0.1586\n",
      "Epoch 52/74\n",
      "8/8 [==============================] - 5s 666ms/step - loss: 2.7843 - accuracy: 0.1691 - val_loss: 2.7806 - val_accuracy: 0.1691\n",
      "Epoch 53/74\n",
      "8/8 [==============================] - 5s 667ms/step - loss: 2.7647 - accuracy: 0.1773 - val_loss: 2.8116 - val_accuracy: 0.1565\n",
      "Epoch 54/74\n",
      "8/8 [==============================] - 6s 703ms/step - loss: 2.8015 - accuracy: 0.1582 - val_loss: 2.7879 - val_accuracy: 0.1579\n",
      "Epoch 55/74\n",
      "8/8 [==============================] - 6s 692ms/step - loss: 2.7650 - accuracy: 0.1719 - val_loss: 2.7744 - val_accuracy: 0.1629\n",
      "Epoch 56/74\n",
      "8/8 [==============================] - 5s 643ms/step - loss: 2.7494 - accuracy: 0.1803 - val_loss: 2.7431 - val_accuracy: 0.1794\n",
      "Epoch 57/74\n",
      "8/8 [==============================] - 6s 697ms/step - loss: 2.7293 - accuracy: 0.1873 - val_loss: 2.7427 - val_accuracy: 0.1786\n",
      "Epoch 58/74\n",
      "8/8 [==============================] - 5s 661ms/step - loss: 2.7485 - accuracy: 0.1777 - val_loss: 2.8034 - val_accuracy: 0.1507\n",
      "Epoch 59/74\n"
     ]
    },
    {
     "name": "stdout",
     "output_type": "stream",
     "text": [
      "8/8 [==============================] - 5s 642ms/step - loss: 2.7551 - accuracy: 0.1744 - val_loss: 2.7401 - val_accuracy: 0.1791\n",
      "Epoch 60/74\n",
      "8/8 [==============================] - 5s 648ms/step - loss: 2.7234 - accuracy: 0.1858 - val_loss: 2.7111 - val_accuracy: 0.1884\n",
      "Epoch 61/74\n",
      "8/8 [==============================] - 5s 663ms/step - loss: 2.6993 - accuracy: 0.1969 - val_loss: 2.7044 - val_accuracy: 0.1935\n",
      "Epoch 62/74\n",
      "8/8 [==============================] - 5s 657ms/step - loss: 2.6881 - accuracy: 0.1993 - val_loss: 2.7133 - val_accuracy: 0.1868\n",
      "Epoch 63/74\n",
      "8/8 [==============================] - 5s 635ms/step - loss: 2.6965 - accuracy: 0.1912 - val_loss: 2.7286 - val_accuracy: 0.1721\n",
      "Epoch 64/74\n",
      "8/8 [==============================] - 5s 634ms/step - loss: 2.7036 - accuracy: 0.1872 - val_loss: 2.6905 - val_accuracy: 0.1928\n",
      "Epoch 65/74\n",
      "8/8 [==============================] - 5s 660ms/step - loss: 2.6709 - accuracy: 0.2010 - val_loss: 2.6681 - val_accuracy: 0.2021\n",
      "Epoch 66/74\n",
      "8/8 [==============================] - 5s 638ms/step - loss: 2.6550 - accuracy: 0.2064 - val_loss: 2.6535 - val_accuracy: 0.2091\n",
      "Epoch 67/74\n",
      "8/8 [==============================] - 5s 635ms/step - loss: 2.6389 - accuracy: 0.2139 - val_loss: 2.6359 - val_accuracy: 0.2157\n",
      "Epoch 68/74\n",
      "8/8 [==============================] - 5s 680ms/step - loss: 2.6479 - accuracy: 0.2064 - val_loss: 2.6554 - val_accuracy: 0.2011\n",
      "Epoch 69/74\n",
      "8/8 [==============================] - 5s 637ms/step - loss: 2.6469 - accuracy: 0.2043 - val_loss: 2.6390 - val_accuracy: 0.2065\n",
      "Epoch 70/74\n",
      "8/8 [==============================] - 5s 651ms/step - loss: 2.6204 - accuracy: 0.2159 - val_loss: 2.6317 - val_accuracy: 0.2091\n",
      "Epoch 71/74\n",
      "8/8 [==============================] - 5s 644ms/step - loss: 2.6135 - accuracy: 0.2171 - val_loss: 2.6063 - val_accuracy: 0.2228\n",
      "Epoch 72/74\n",
      "8/8 [==============================] - 5s 638ms/step - loss: 2.6011 - accuracy: 0.2226 - val_loss: 2.6215 - val_accuracy: 0.2063\n",
      "Epoch 73/74\n",
      "8/8 [==============================] - 5s 656ms/step - loss: 2.5962 - accuracy: 0.2215 - val_loss: 2.6036 - val_accuracy: 0.2177\n",
      "Epoch 74/74\n",
      "8/8 [==============================] - 5s 638ms/step - loss: 2.5845 - accuracy: 0.2251 - val_loss: 2.6021 - val_accuracy: 0.2112\n"
     ]
    },
    {
     "data": {
      "image/png": "[encoded data removed]",
      "text/plain": [
       "<Figure size 1080x360 with 2 Axes>"
      ]
     },
     "metadata": {
      "needs_background": "light"
     },
     "output_type": "display_data"
    }
   ],
   "source": [
    "Epochs = 74\n",
    "Batch_size = 1000\n",
    "\n",
    "# train\n",
    "hist = model.fit(x_train, y_train, \n",
    "                 batch_size=Batch_size, epochs=Epochs, \n",
    "                 validation_data=(x_val, y_val))\n",
    "\n",
    "#show history of progress\n",
    "def show_progress():\n",
    "    plt.figure(figsize=(15,5))\n",
    "    plt.subplot(121)\n",
    "    plt.plot(hist.history['accuracy'])\n",
    "    plt.plot(hist.history['val_accuracy'])\n",
    "    plt.title('model accuracy')\n",
    "    plt.ylabel('accuracy')\n",
    "    plt.xlabel('epoch')\n",
    "    plt.legend(['train', 'validation'], loc='upper left')\n",
    "    plt.subplot(122)\n",
    "    plt.plot(hist.history['loss'])\n",
    "    plt.plot(hist.history['val_loss'])\n",
    "    plt.title('model loss')\n",
    "    plt.ylabel('loss')\n",
    "    plt.xlabel('epoch')\n",
    "    plt.legend(['train', 'validation'], loc='upper right')\n",
    "    plt.show()\n",
    "\n",
    "show_progress()"
   ]
  },
  {
   "cell_type": "markdown",
   "metadata": {},
   "source": [
    "## Test model"
   ]
  },
  {
   "cell_type": "code",
   "execution_count": 8,
   "metadata": {},
   "outputs": [
    {
     "name": "stdout",
     "output_type": "stream",
     "text": [
      ".- -... -.-. -.. . ..-.                   eeeiif  <->  abcdef\n",
      "-....- .... ... .-.. ..- -....-           hhhhl-  <->  -hslu-\n",
      ".... .- .... .- .... .-                   hhhhsu  <->  hahaha\n",
      "-....- -....- -....- -....- -....- -....- ------  <->  ------\n",
      "-..- -.-- --.. ..- ...- .--               czzlhw  <->  xyzuvw\n",
      ".--. .. .--. .- .--. ---                  ssruwy  <->  pipapo\n",
      ".... . .-.. .-.. --- -....-               sssa--  <->  hello-\n",
      ".-- --- .-. .-.. -.. -....-               mmop--  <->  world-\n"
     ]
    }
   ],
   "source": [
    "test = ['abcdef', '-hslu-','hahaha','------','xyzuvw','pipapo','hello-','world-']\n",
    "        \n",
    "x = np.zeros((len(test), max_len_x, len(chars_in)))\n",
    "for i, token in enumerate(test):\n",
    "    x[i] = embedding_in.encode(morse_encode(token), max_len_x)\n",
    "\n",
    "pre = model.predict(x)\n",
    "\n",
    "for i in range(len(test)):\n",
    "    print(''.join([embedding_in.decode(code) for code in x[i]]),\n",
    "          ''.join([embedding_out.decode(code) for code in pre[i]]), ' <-> ', \n",
    "          ''.join(test[i]))"
   ]
  },
  {
   "cell_type": "markdown",
   "metadata": {},
   "source": [
    "## Save and load models"
   ]
  },
  {
   "cell_type": "code",
   "execution_count": 11,
   "metadata": {},
   "outputs": [],
   "source": [
    "model.save('model_best.h5')\n"
   ]
  },
  {
   "cell_type": "code",
   "execution_count": 3,
   "metadata": {},
   "outputs": [],
   "source": [
    "mx = load_model('model_best.h5')\n"
   ]
  }
 ],
 "metadata": {
  "kernelspec": {
   "display_name": "Python 3",
   "language": "python",
   "name": "python3"
  },
  "language_info": {
   "codemirror_mode": {
    "name": "ipython",
    "version": 3
   },
   "file_extension": ".py",
   "mimetype": "text/x-python",
   "name": "python",
   "nbconvert_exporter": "python",
   "pygments_lexer": "ipython3",
   "version": "3.7.3"
  }
 },
 "nbformat": 4,
 "nbformat_minor": 2
}
