{
 "cells": [
  {
   "cell_type": "markdown",
   "metadata": {},
   "source": [
    "## Libraries "
   ]
  },
  {
   "cell_type": "code",
   "execution_count": 2,
   "metadata": {},
   "outputs": [],
   "source": [
    "import random\n",
    "import numpy as np\n",
    "import string\n",
    "import matplotlib.pyplot as plt\n",
    "from keras.models import Sequential, load_model\n",
    "from keras import layers"
   ]
  },
  {
   "cell_type": "markdown",
   "metadata": {},
   "source": [
    "## Morse dictionary"
   ]
  },
  {
   "cell_type": "code",
   "execution_count": 3,
   "metadata": {},
   "outputs": [],
   "source": [
    "# basic morse dictionary, we use '-' to mark word spaces\n",
    "\n",
    "alphabet = list('abcdefghijklmnopqrstuvwxyz-')\n",
    "values = ['.-', '-...', '-.-.', '-..', '.', '..-.', '--.', '....', '..', '.---', '-.-', \n",
    "          '.-..', '--', '-.','---', '.--.', '--.-', \n",
    "          '.-.', '...', '-', '..-', '...-', '.--', '-..-', '-.--', '--..','-....-']\n",
    "\n",
    "morse_dict = dict(zip(alphabet, values))\n",
    "ascii_dict = dict(map(reversed, morse_dict.items())) # inverse mapping\n",
    "\n",
    "# convert text to morse code\n",
    "def morse_encode(text):\n",
    "    t = ''.join([c for c in text.lower() if c in alphabet])\n",
    "    return ' '.join([''.join(morse_dict[i]) for i in t])\n",
    " \n",
    "# convert morse code to text\n",
    "def morse_decode(code):\n",
    "    return ''.join([ascii_dict[i] for i in code.split(' ')])"
   ]
  },
  {
   "cell_type": "markdown",
   "metadata": {},
   "source": [
    "## Generating data for training"
   ]
  },
  {
   "cell_type": "code",
   "execution_count": 4,
   "metadata": {},
   "outputs": [],
   "source": [
    "word_len = 6                                    # number of characters output\n",
    "\n",
    "max_len_x = len(max(values, key=len))*word_len+(word_len-1)  # number of morse symbols\n",
    "max_len_y = word_len\n",
    "    \n",
    "# generate data for training \n",
    "\n",
    "def generate_data (n):\n",
    "    output_list = [(''.join([random.choice(string.ascii_lowercase + '-') \n",
    "        for _ in range(word_len)])) \n",
    "            for _ in range(n)]\n",
    "    return  output_list, [morse_encode(s) for s in output_list]\n",
    "    \n",
    "output_list, input_list = generate_data(10000)"
   ]
  },
  {
   "cell_type": "markdown",
   "metadata": {},
   "source": [
    "## Embedding, simply my mapping a one-hot encoding"
   ]
  },
  {
   "cell_type": "code",
   "execution_count": 5,
   "metadata": {},
   "outputs": [],
   "source": [
    "class Embedding(object):\n",
    "    def __init__(self, chars):\n",
    "        self.chars = sorted(set(chars))\n",
    "        self.char_indices = dict((c, i) for i, c in\n",
    "                                            enumerate(self.chars))\n",
    "        self.indices_char = dict((i, c) for i, c in \n",
    "                                            enumerate(self.chars))\n",
    "    def encode(self, token, num_rows):\n",
    "        x = np.zeros((num_rows, len(self.chars)))   # zeros, except ..\n",
    "        for i, c in enumerate(token):               # one \n",
    "            x[i, self.char_indices[c]] = 1\n",
    "        return x\n",
    "    \n",
    "    def decode(self, x):\n",
    "        x = [x.argmax(axis=-1)]\n",
    "        return ''.join(self.indices_char[int(v)] for v in x)\n",
    "    "
   ]
  },
  {
   "cell_type": "markdown",
   "metadata": {},
   "source": [
    "## Prepare data for feeding to network, i.e. represent by one-hot encoding"
   ]
  },
  {
   "cell_type": "code",
   "execution_count": 6,
   "metadata": {},
   "outputs": [
    {
     "name": "stdout",
     "output_type": "stream",
     "text": [
      "..- -. --- -.. --. .-                     unodga\n",
      "..- -.- .--- -.. -.. --.                  ukjddg\n",
      "-....- ...- -.-. .-.. - ...               -vclts\n",
      "... -- .-.. -.-- .. ....                  smlyih\n",
      "--. .. ..-. ...- -..- ..                  gifvxi\n"
     ]
    }
   ],
   "source": [
    "# character sets used at input (morse code) and output (text)\n",
    "\n",
    "chars_in = '-. '\n",
    "chars_out = ''.join(alphabet)\n",
    "\n",
    "embedding_in = Embedding(chars_in)\n",
    "embedding_out = Embedding(chars_out)\n",
    "\n",
    "# x : input to encoder, y : output from decoder\n",
    "x = np.zeros((len(input_list), max_len_x, len(chars_in)))\n",
    "y = np.zeros((len(output_list), max_len_y, len(chars_out)))\n",
    "\n",
    "for i, token in enumerate(input_list):\n",
    "    x[i] = embedding_in.encode(token, max_len_x)\n",
    "    \n",
    "for i, token in enumerate(output_list):\n",
    "    y[i] = embedding_out.encode(token, max_len_y)\n",
    "    \n",
    "# split data set : 3/4 for training, 1/4 for evaluation\n",
    "m = 3*len(x)// 4\n",
    "(x_train, x_val) = x[:m], x[m:]\n",
    "(y_train, y_val) = y[:m], y[m:]\n",
    "\n",
    "# show some examples ...\n",
    "for i in range(5):\n",
    "    print(''.join([embedding_in.decode(token) for token in x_train[i]]),\n",
    "          ''.join([embedding_out.decode(token) for token in y_train[i]]))"
   ]
  },
  {
   "cell_type": "markdown",
   "metadata": {},
   "source": [
    "## Create model"
   ]
  },
  {
   "cell_type": "code",
   "execution_count": 7,
   "metadata": {},
   "outputs": [
    {
     "name": "stdout",
     "output_type": "stream",
     "text": [
      "Model: \"sequential\"\n",
      "_________________________________________________________________\n",
      "Layer (type)                 Output Shape              Param #   \n",
      "=================================================================\n",
      "lstm (LSTM)                  (None, 200)               163200    \n",
      "_________________________________________________________________\n",
      "repeat_vector (RepeatVector) (None, 6, 200)            0         \n",
      "_________________________________________________________________\n",
      "lstm_1 (LSTM)                (None, 6, 200)            320800    \n",
      "_________________________________________________________________\n",
      "time_distributed (TimeDistri (None, 6, 27)             5427      \n",
      "_________________________________________________________________\n",
      "activation (Activation)      (None, 6, 27)             0         \n",
      "=================================================================\n",
      "Total params: 489,427\n",
      "Trainable params: 489,427\n",
      "Non-trainable params: 0\n",
      "_________________________________________________________________\n"
     ]
    }
   ],
   "source": [
    "latent_dim = 200\n",
    "\n",
    "model = Sequential()\n",
    "model.add(layers.LSTM(latent_dim, input_shape=(max_len_x,len(chars_in))))\n",
    "model.add(layers.RepeatVector(max_len_y))\n",
    "model.add(layers.LSTM(latent_dim, return_sequences=True))\n",
    "model.add(layers.TimeDistributed(layers.Dense(len(chars_out))))\n",
    "model.add(layers.Activation('softmax'))\n",
    "model.compile(loss='categorical_crossentropy', optimizer='adam', \n",
    "              metrics=['accuracy'])\n",
    "model.summary()"
   ]
  },
  {
   "cell_type": "markdown",
   "metadata": {},
   "source": [
    "## Train model"
   ]
  },
  {
   "cell_type": "code",
   "execution_count": 10,
   "metadata": {},
   "outputs": [
    {
     "name": "stdout",
     "output_type": "stream",
     "text": [
      "Epoch 1/74\n",
      "300/300 [==============================] - 20s 66ms/step - loss: 1.8577 - accuracy: 0.3888 - val_loss: 1.6543 - val_accuracy: 0.4452\n",
      "Epoch 2/74\n",
      "300/300 [==============================] - 20s 66ms/step - loss: 1.4834 - accuracy: 0.5137 - val_loss: 1.3772 - val_accuracy: 0.5619\n",
      "Epoch 3/74\n",
      "300/300 [==============================] - 20s 67ms/step - loss: 1.3591 - accuracy: 0.5617 - val_loss: 1.3024 - val_accuracy: 0.5855\n",
      "Epoch 4/74\n",
      "300/300 [==============================] - 20s 66ms/step - loss: 1.2278 - accuracy: 0.6117 - val_loss: 1.1274 - val_accuracy: 0.6488\n",
      "Epoch 5/74\n",
      "300/300 [==============================] - 20s 66ms/step - loss: 1.0459 - accuracy: 0.6621 - val_loss: 0.9019 - val_accuracy: 0.7045\n",
      "Epoch 6/74\n",
      "300/300 [==============================] - 20s 66ms/step - loss: 0.7946 - accuracy: 0.7516 - val_loss: 0.6876 - val_accuracy: 0.7966\n",
      "Epoch 7/74\n",
      "300/300 [==============================] - 20s 66ms/step - loss: 0.6303 - accuracy: 0.8176 - val_loss: 0.6097 - val_accuracy: 0.8163\n",
      "Epoch 8/74\n",
      "300/300 [==============================] - 20s 66ms/step - loss: 0.5324 - accuracy: 0.8525 - val_loss: 0.5917 - val_accuracy: 0.8072\n",
      "Epoch 9/74\n",
      "300/300 [==============================] - 20s 65ms/step - loss: 0.4225 - accuracy: 0.9009 - val_loss: 0.6149 - val_accuracy: 0.8039\n",
      "Epoch 10/74\n",
      "300/300 [==============================] - 20s 66ms/step - loss: 0.4068 - accuracy: 0.8953 - val_loss: 0.3699 - val_accuracy: 0.9093\n",
      "Epoch 11/74\n",
      "300/300 [==============================] - 20s 67ms/step - loss: 0.3153 - accuracy: 0.9325 - val_loss: 0.2970 - val_accuracy: 0.9399\n",
      "Epoch 12/74\n",
      "300/300 [==============================] - 20s 66ms/step - loss: 0.2690 - accuracy: 0.9456 - val_loss: 0.2835 - val_accuracy: 0.9344\n",
      "Epoch 13/74\n",
      "300/300 [==============================] - 20s 66ms/step - loss: 0.2812 - accuracy: 0.9308 - val_loss: 0.3745 - val_accuracy: 0.8828\n",
      "Epoch 14/74\n",
      "300/300 [==============================] - 13s 44ms/step - loss: 0.2091 - accuracy: 0.9591 - val_loss: 0.2234 - val_accuracy: 0.9498\n",
      "Epoch 15/74\n",
      "300/300 [==============================] - 7s 24ms/step - loss: 0.1968 - accuracy: 0.9577 - val_loss: 0.2143 - val_accuracy: 0.9467\n",
      "Epoch 16/74\n",
      "300/300 [==============================] - 7s 24ms/step - loss: 0.1553 - accuracy: 0.9711 - val_loss: 0.2020 - val_accuracy: 0.9490\n",
      "Epoch 17/74\n",
      "300/300 [==============================] - 7s 25ms/step - loss: 0.1842 - accuracy: 0.9547 - val_loss: 0.3106 - val_accuracy: 0.8936\n",
      "Epoch 18/74\n",
      "300/300 [==============================] - 8s 26ms/step - loss: 0.1189 - accuracy: 0.9794 - val_loss: 0.1203 - val_accuracy: 0.9766\n",
      "Epoch 19/74\n",
      "300/300 [==============================] - 8s 26ms/step - loss: 0.0880 - accuracy: 0.9874 - val_loss: 0.2748 - val_accuracy: 0.9097\n",
      "Epoch 20/74\n",
      "300/300 [==============================] - 8s 26ms/step - loss: 0.2063 - accuracy: 0.9389 - val_loss: 0.1090 - val_accuracy: 0.9786\n",
      "Epoch 21/74\n",
      "300/300 [==============================] - 8s 26ms/step - loss: 0.0531 - accuracy: 0.9966 - val_loss: 0.0670 - val_accuracy: 0.9918\n",
      "Epoch 22/74\n",
      "300/300 [==============================] - 8s 27ms/step - loss: 0.0917 - accuracy: 0.9792 - val_loss: 0.2857 - val_accuracy: 0.8981\n",
      "Epoch 23/74\n",
      "300/300 [==============================] - 8s 27ms/step - loss: 0.1352 - accuracy: 0.9622 - val_loss: 0.0813 - val_accuracy: 0.9839\n",
      "Epoch 24/74\n",
      "300/300 [==============================] - 8s 27ms/step - loss: 0.0446 - accuracy: 0.9954 - val_loss: 0.0425 - val_accuracy: 0.9957\n",
      "Epoch 25/74\n",
      "300/300 [==============================] - 8s 28ms/step - loss: 0.0319 - accuracy: 0.9974 - val_loss: 0.1588 - val_accuracy: 0.9503\n",
      "Epoch 26/74\n",
      "300/300 [==============================] - 8s 28ms/step - loss: 0.2447 - accuracy: 0.9190 - val_loss: 0.1155 - val_accuracy: 0.9695\n",
      "Epoch 27/74\n",
      "300/300 [==============================] - 8s 28ms/step - loss: 0.0368 - accuracy: 0.9967 - val_loss: 0.0373 - val_accuracy: 0.9950\n",
      "Epoch 28/74\n",
      "300/300 [==============================] - 8s 28ms/step - loss: 0.0184 - accuracy: 0.9999 - val_loss: 0.0271 - val_accuracy: 0.9969\n",
      "Epoch 29/74\n",
      "300/300 [==============================] - 8s 28ms/step - loss: 0.0131 - accuracy: 1.0000 - val_loss: 0.0230 - val_accuracy: 0.9975\n",
      "Epoch 30/74\n",
      "300/300 [==============================] - 8s 28ms/step - loss: 0.0113 - accuracy: 1.0000 - val_loss: 0.0229 - val_accuracy: 0.9970\n",
      "Epoch 31/74\n",
      "300/300 [==============================] - 8s 28ms/step - loss: 0.0101 - accuracy: 1.0000 - val_loss: 0.0270 - val_accuracy: 0.9949\n",
      "Epoch 32/74\n",
      "300/300 [==============================] - 9s 29ms/step - loss: 0.2907 - accuracy: 0.9121 - val_loss: 0.0820 - val_accuracy: 0.9789\n",
      "Epoch 33/74\n",
      "300/300 [==============================] - 8s 28ms/step - loss: 0.0310 - accuracy: 0.9962 - val_loss: 0.0221 - val_accuracy: 0.9980\n",
      "Epoch 34/74\n",
      "300/300 [==============================] - 9s 28ms/step - loss: 0.0121 - accuracy: 0.9999 - val_loss: 0.0170 - val_accuracy: 0.9986\n",
      "Epoch 35/74\n",
      "300/300 [==============================] - 9s 29ms/step - loss: 0.0085 - accuracy: 1.0000 - val_loss: 0.0152 - val_accuracy: 0.9983\n",
      "Epoch 36/74\n",
      "300/300 [==============================] - 8s 28ms/step - loss: 0.0069 - accuracy: 1.0000 - val_loss: 0.0137 - val_accuracy: 0.9985\n",
      "Epoch 37/74\n",
      "300/300 [==============================] - 9s 29ms/step - loss: 0.0059 - accuracy: 1.0000 - val_loss: 0.0124 - val_accuracy: 0.9983\n",
      "Epoch 38/74\n",
      "300/300 [==============================] - 8s 28ms/step - loss: 0.0052 - accuracy: 1.0000 - val_loss: 0.0135 - val_accuracy: 0.9978\n",
      "Epoch 39/74\n",
      "300/300 [==============================] - 9s 29ms/step - loss: 0.0045 - accuracy: 1.0000 - val_loss: 0.0111 - val_accuracy: 0.9983\n",
      "Epoch 40/74\n",
      "300/300 [==============================] - 8s 28ms/step - loss: 0.3557 - accuracy: 0.8981 - val_loss: 0.0677 - val_accuracy: 0.9851\n",
      "Epoch 41/74\n",
      "300/300 [==============================] - 9s 29ms/step - loss: 0.0290 - accuracy: 0.9968 - val_loss: 0.0349 - val_accuracy: 0.9943\n",
      "Epoch 42/74\n",
      "300/300 [==============================] - 8s 28ms/step - loss: 0.0187 - accuracy: 0.9982 - val_loss: 0.0633 - val_accuracy: 0.9841\n",
      "Epoch 43/74\n",
      "300/300 [==============================] - 9s 29ms/step - loss: 0.1327 - accuracy: 0.9574 - val_loss: 0.0394 - val_accuracy: 0.9925\n",
      "Epoch 44/74\n",
      "300/300 [==============================] - 9s 29ms/step - loss: 0.0116 - accuracy: 0.9994 - val_loss: 0.0187 - val_accuracy: 0.9972\n",
      "Epoch 45/74\n",
      "300/300 [==============================] - 9s 29ms/step - loss: 0.0287 - accuracy: 0.9928 - val_loss: 0.1658 - val_accuracy: 0.9465\n",
      "Epoch 46/74\n",
      "300/300 [==============================] - 9s 29ms/step - loss: 0.1032 - accuracy: 0.9668 - val_loss: 0.0421 - val_accuracy: 0.9907\n",
      "Epoch 47/74\n",
      "300/300 [==============================] - 9s 29ms/step - loss: 0.0138 - accuracy: 0.9986 - val_loss: 0.0130 - val_accuracy: 0.9985\n",
      "Epoch 48/74\n",
      "300/300 [==============================] - 9s 29ms/step - loss: 0.0050 - accuracy: 1.0000 - val_loss: 0.0085 - val_accuracy: 0.9991\n",
      "Epoch 49/74\n",
      "300/300 [==============================] - 9s 29ms/step - loss: 0.0039 - accuracy: 1.0000 - val_loss: 0.0077 - val_accuracy: 0.9991\n",
      "Epoch 50/74\n",
      "300/300 [==============================] - 9s 29ms/step - loss: 0.0033 - accuracy: 1.0000 - val_loss: 0.0074 - val_accuracy: 0.9991\n",
      "Epoch 51/74\n",
      "300/300 [==============================] - 9s 29ms/step - loss: 0.0029 - accuracy: 1.0000 - val_loss: 0.0067 - val_accuracy: 0.9991\n",
      "Epoch 52/74\n",
      "300/300 [==============================] - 9s 29ms/step - loss: 0.0026 - accuracy: 1.0000 - val_loss: 0.0063 - val_accuracy: 0.9992\n",
      "Epoch 53/74\n",
      "300/300 [==============================] - 9s 29ms/step - loss: 0.0023 - accuracy: 1.0000 - val_loss: 0.0058 - val_accuracy: 0.9993\n",
      "Epoch 54/74\n",
      "300/300 [==============================] - 9s 30ms/step - loss: 0.0020 - accuracy: 1.0000 - val_loss: 0.0056 - val_accuracy: 0.9991\n",
      "Epoch 55/74\n",
      "300/300 [==============================] - 9s 29ms/step - loss: 0.0018 - accuracy: 1.0000 - val_loss: 0.0052 - val_accuracy: 0.9991\n",
      "Epoch 56/74\n",
      "300/300 [==============================] - 9s 30ms/step - loss: 0.0016 - accuracy: 1.0000 - val_loss: 0.0047 - val_accuracy: 0.9996\n",
      "Epoch 57/74\n",
      "300/300 [==============================] - 9s 30ms/step - loss: 0.0014 - accuracy: 1.0000 - val_loss: 0.0051 - val_accuracy: 0.9991\n"
     ]
    },
    {
     "name": "stdout",
     "output_type": "stream",
     "text": [
      "Epoch 58/74\n",
      "300/300 [==============================] - 9s 29ms/step - loss: 0.0013 - accuracy: 1.0000 - val_loss: 0.0044 - val_accuracy: 0.9991\n",
      "Epoch 59/74\n",
      "300/300 [==============================] - 9s 29ms/step - loss: 0.0011 - accuracy: 1.0000 - val_loss: 0.0039 - val_accuracy: 0.9994\n",
      "Epoch 60/74\n",
      "300/300 [==============================] - 9s 29ms/step - loss: 0.2695 - accuracy: 0.9364 - val_loss: 0.6784 - val_accuracy: 0.7524\n",
      "Epoch 61/74\n",
      "300/300 [==============================] - 9s 30ms/step - loss: 0.1070 - accuracy: 0.9694 - val_loss: 0.0378 - val_accuracy: 0.9923\n",
      "Epoch 62/74\n",
      "300/300 [==============================] - 9s 29ms/step - loss: 0.0167 - accuracy: 0.9980 - val_loss: 0.0134 - val_accuracy: 0.9986\n",
      "Epoch 63/74\n",
      "300/300 [==============================] - 9s 29ms/step - loss: 0.0067 - accuracy: 0.9997 - val_loss: 0.0082 - val_accuracy: 0.9993\n",
      "Epoch 64/74\n",
      "300/300 [==============================] - 9s 29ms/step - loss: 0.0033 - accuracy: 1.0000 - val_loss: 0.0078 - val_accuracy: 0.9988\n",
      "Epoch 65/74\n",
      "300/300 [==============================] - 9s 30ms/step - loss: 0.1239 - accuracy: 0.9593 - val_loss: 0.1911 - val_accuracy: 0.9344\n",
      "Epoch 66/74\n",
      "300/300 [==============================] - 9s 29ms/step - loss: 0.0324 - accuracy: 0.9926 - val_loss: 0.0107 - val_accuracy: 0.9989\n",
      "Epoch 67/74\n",
      "300/300 [==============================] - 9s 29ms/step - loss: 0.0043 - accuracy: 1.0000 - val_loss: 0.0067 - val_accuracy: 0.9996\n",
      "Epoch 68/74\n",
      "300/300 [==============================] - 9s 30ms/step - loss: 0.0029 - accuracy: 1.0000 - val_loss: 0.0058 - val_accuracy: 0.9997\n",
      "Epoch 69/74\n",
      "300/300 [==============================] - 9s 29ms/step - loss: 0.0024 - accuracy: 1.0000 - val_loss: 0.0053 - val_accuracy: 0.9992\n",
      "Epoch 70/74\n",
      "300/300 [==============================] - 9s 29ms/step - loss: 0.0020 - accuracy: 1.0000 - val_loss: 0.0049 - val_accuracy: 0.9994\n",
      "Epoch 71/74\n",
      "300/300 [==============================] - 9s 29ms/step - loss: 0.0018 - accuracy: 1.0000 - val_loss: 0.0044 - val_accuracy: 0.9995\n",
      "Epoch 72/74\n",
      "300/300 [==============================] - 9s 30ms/step - loss: 0.0016 - accuracy: 1.0000 - val_loss: 0.0044 - val_accuracy: 0.9993\n",
      "Epoch 73/74\n",
      "300/300 [==============================] - 9s 29ms/step - loss: 0.0014 - accuracy: 1.0000 - val_loss: 0.0039 - val_accuracy: 0.9995\n",
      "Epoch 74/74\n",
      "300/300 [==============================] - 9s 30ms/step - loss: 0.0012 - accuracy: 1.0000 - val_loss: 0.0038 - val_accuracy: 0.9993\n"
     ]
    },
    {
     "data": {
      "image/png": "[encoded data removed]",
      "text/plain": [
       "<Figure size 1080x360 with 2 Axes>"
      ]
     },
     "metadata": {
      "needs_background": "light"
     },
     "output_type": "display_data"
    }
   ],
   "source": [
    "Epochs = 74\n",
    "Batch_size = 25\n",
    "\n",
    "# train\n",
    "hist = model.fit(x_train, y_train, \n",
    "                 batch_size=Batch_size, epochs=Epochs, \n",
    "                 validation_data=(x_val, y_val))\n",
    "\n",
    "#show history of progress\n",
    "def show_progress():\n",
    "    plt.figure(figsize=(15,5))\n",
    "    plt.subplot(121)\n",
    "    plt.plot(hist.history['accuracy'])\n",
    "    plt.plot(hist.history['val_accuracy'])\n",
    "    plt.title('model accuracy')\n",
    "    plt.ylabel('accuracy')\n",
    "    plt.xlabel('epoch')\n",
    "    plt.legend(['train', 'validation'], loc='upper left')\n",
    "    plt.subplot(122)\n",
    "    plt.plot(hist.history['loss'])\n",
    "    plt.plot(hist.history['val_loss'])\n",
    "    plt.title('model loss')\n",
    "    plt.ylabel('loss')\n",
    "    plt.xlabel('epoch')\n",
    "    plt.legend(['train', 'validation'], loc='upper right')\n",
    "    plt.show()\n",
    "\n",
    "show_progress()"
   ]
  },
  {
   "cell_type": "markdown",
   "metadata": {},
   "source": [
    "## Test model"
   ]
  },
  {
   "cell_type": "code",
   "execution_count": 11,
   "metadata": {},
   "outputs": [
    {
     "name": "stdout",
     "output_type": "stream",
     "text": [
      ".- -... -.-. -.. . ..-.                   abcdef  <->  abcdef\n",
      "-....- .... ... .-.. ..- -....-           -hslu-  <->  -hslu-\n",
      ".... .- .... .- .... .-                   hahaha  <->  hahaha\n",
      "-....- -....- -....- -....- -....- -....- ---zbb  <->  ------\n",
      "-..- -.-- --.. ..- ...- .--               xyzuvw  <->  xyzuvw\n",
      ".--. .. .--. .- .--. ---                  pipapo  <->  pipapo\n",
      ".... . .-.. .-.. --- -....-               hello-  <->  hello-\n",
      ".-- --- .-. .-.. -.. -....-               world-  <->  world-\n"
     ]
    }
   ],
   "source": [
    "test = ['abcdef', '-hslu-','hahaha','------','xyzuvw','pipapo','hello-','world-']\n",
    "        \n",
    "x = np.zeros((len(test), max_len_x, len(chars_in)))\n",
    "for i, token in enumerate(test):\n",
    "    x[i] = embedding_in.encode(morse_encode(token), max_len_x)\n",
    "\n",
    "pre = model.predict(x)\n",
    "\n",
    "for i in range(len(test)):\n",
    "    print(''.join([embedding_in.decode(code) for code in x[i]]),\n",
    "          ''.join([embedding_out.decode(code) for code in pre[i]]), ' <-> ', \n",
    "          ''.join(test[i]))"
   ]
  },
  {
   "cell_type": "markdown",
   "metadata": {},
   "source": [
    "## Save and load models"
   ]
  },
  {
   "cell_type": "code",
   "execution_count": 11,
   "metadata": {},
   "outputs": [],
   "source": [
    "model.save('model_best.h5')\n"
   ]
  },
  {
   "cell_type": "code",
   "execution_count": 3,
   "metadata": {},
   "outputs": [],
   "source": [
    "mx = load_model('model_best.h5')\n"
   ]
  }
 ],
 "metadata": {
  "kernelspec": {
   "display_name": "Python 3",
   "language": "python",
   "name": "python3"
  },
  "language_info": {
   "codemirror_mode": {
    "name": "ipython",
    "version": 3
   },
   "file_extension": ".py",
   "mimetype": "text/x-python",
   "name": "python",
   "nbconvert_exporter": "python",
   "pygments_lexer": "ipython3",
   "version": "3.7.3"
  }
 },
 "nbformat": 4,
 "nbformat_minor": 2
}
