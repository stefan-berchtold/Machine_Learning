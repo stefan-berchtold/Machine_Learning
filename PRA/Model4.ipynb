{
 "cells": [
  {
   "cell_type": "markdown",
   "metadata": {},
   "source": [
    "## Libraries "
   ]
  },
  {
   "cell_type": "code",
   "execution_count": 2,
   "metadata": {},
   "outputs": [],
   "source": [
    "import random\n",
    "import numpy as np\n",
    "import string\n",
    "import matplotlib.pyplot as plt\n",
    "from keras.models import Sequential, load_model\n",
    "from keras import layers"
   ]
  },
  {
   "cell_type": "markdown",
   "metadata": {},
   "source": [
    "## Morse dictionary"
   ]
  },
  {
   "cell_type": "code",
   "execution_count": 3,
   "metadata": {},
   "outputs": [],
   "source": [
    "# basic morse dictionary, we use '-' to mark word spaces\n",
    "\n",
    "alphabet = list('abcdefghijklmnopqrstuvwxyz-')\n",
    "values = ['.-', '-...', '-.-.', '-..', '.', '..-.', '--.', '....', '..', '.---', '-.-', \n",
    "          '.-..', '--', '-.','---', '.--.', '--.-', \n",
    "          '.-.', '...', '-', '..-', '...-', '.--', '-..-', '-.--', '--..','-....-']\n",
    "\n",
    "morse_dict = dict(zip(alphabet, values))\n",
    "ascii_dict = dict(map(reversed, morse_dict.items())) # inverse mapping\n",
    "\n",
    "# convert text to morse code\n",
    "def morse_encode(text):\n",
    "    t = ''.join([c for c in text.lower() if c in alphabet])\n",
    "    return ' '.join([''.join(morse_dict[i]) for i in t])\n",
    " \n",
    "# convert morse code to text\n",
    "def morse_decode(code):\n",
    "    return ''.join([ascii_dict[i] for i in code.split(' ')])"
   ]
  },
  {
   "cell_type": "markdown",
   "metadata": {},
   "source": [
    "## Generating data for training"
   ]
  },
  {
   "cell_type": "code",
   "execution_count": 4,
   "metadata": {},
   "outputs": [],
   "source": [
    "word_len = 6                                    # number of characters output\n",
    "\n",
    "max_len_x = len(max(values, key=len))*word_len+(word_len-1)  # number of morse symbols\n",
    "max_len_y = word_len\n",
    "    \n",
    "# generate data for training \n",
    "\n",
    "def generate_data (n):\n",
    "    output_list = [(''.join([random.choice(string.ascii_lowercase + '-') \n",
    "        for _ in range(word_len)])) \n",
    "            for _ in range(n)]\n",
    "    return  output_list, [morse_encode(s) for s in output_list]\n",
    "    \n",
    "output_list, input_list = generate_data(10000)"
   ]
  },
  {
   "cell_type": "markdown",
   "metadata": {},
   "source": [
    "## Embedding, simply my mapping a one-hot encoding"
   ]
  },
  {
   "cell_type": "code",
   "execution_count": 5,
   "metadata": {},
   "outputs": [],
   "source": [
    "class Embedding(object):\n",
    "    def __init__(self, chars):\n",
    "        self.chars = sorted(set(chars))\n",
    "        self.char_indices = dict((c, i) for i, c in\n",
    "                                            enumerate(self.chars))\n",
    "        self.indices_char = dict((i, c) for i, c in \n",
    "                                            enumerate(self.chars))\n",
    "    def encode(self, token, num_rows):\n",
    "        x = np.zeros((num_rows, len(self.chars)))   # zeros, except ..\n",
    "        for i, c in enumerate(token):               # one \n",
    "            x[i, self.char_indices[c]] = 1\n",
    "        return x\n",
    "    \n",
    "    def decode(self, x):\n",
    "        x = [x.argmax(axis=-1)]\n",
    "        return ''.join(self.indices_char[int(v)] for v in x)\n",
    "    "
   ]
  },
  {
   "cell_type": "markdown",
   "metadata": {},
   "source": [
    "## Prepare data for feeding to network, i.e. represent by one-hot encoding"
   ]
  },
  {
   "cell_type": "code",
   "execution_count": 6,
   "metadata": {},
   "outputs": [
    {
     "name": "stdout",
     "output_type": "stream",
     "text": [
      "...- .. -... .-. -.- .-.                  vibrkr\n",
      "-... --.- ... -... .--. ..                bqsbpi\n",
      "--.- .-. ..- ...- . -.-                   qruvek\n",
      "-.-. -.-- .--. ...- .-.. ..-.             cypvlf\n",
      "-.-. ..-. ... --.- -.. --                 cfsqdm\n"
     ]
    }
   ],
   "source": [
    "# character sets used at input (morse code) and output (text)\n",
    "\n",
    "chars_in = '-. '\n",
    "chars_out = ''.join(alphabet)\n",
    "\n",
    "embedding_in = Embedding(chars_in)\n",
    "embedding_out = Embedding(chars_out)\n",
    "\n",
    "# x : input to encoder, y : output from decoder\n",
    "x = np.zeros((len(input_list), max_len_x, len(chars_in)))\n",
    "y = np.zeros((len(output_list), max_len_y, len(chars_out)))\n",
    "\n",
    "for i, token in enumerate(input_list):\n",
    "    x[i] = embedding_in.encode(token, max_len_x)\n",
    "    \n",
    "for i, token in enumerate(output_list):\n",
    "    y[i] = embedding_out.encode(token, max_len_y)\n",
    "    \n",
    "# split data set : 3/4 for training, 1/4 for evaluation\n",
    "m = 3*len(x)// 4\n",
    "(x_train, x_val) = x[:m], x[m:]\n",
    "(y_train, y_val) = y[:m], y[m:]\n",
    "\n",
    "# show some examples ...\n",
    "for i in range(5):\n",
    "    print(''.join([embedding_in.decode(token) for token in x_train[i]]),\n",
    "          ''.join([embedding_out.decode(token) for token in y_train[i]]))"
   ]
  },
  {
   "cell_type": "markdown",
   "metadata": {},
   "source": [
    "## Create model"
   ]
  },
  {
   "cell_type": "code",
   "execution_count": 7,
   "metadata": {},
   "outputs": [
    {
     "name": "stdout",
     "output_type": "stream",
     "text": [
      "Model: \"sequential\"\n",
      "_________________________________________________________________\n",
      "Layer (type)                 Output Shape              Param #   \n",
      "=================================================================\n",
      "lstm (LSTM)                  (None, 200)               163200    \n",
      "_________________________________________________________________\n",
      "repeat_vector (RepeatVector) (None, 6, 200)            0         \n",
      "_________________________________________________________________\n",
      "lstm_1 (LSTM)                (None, 6, 200)            320800    \n",
      "_________________________________________________________________\n",
      "time_distributed (TimeDistri (None, 6, 27)             5427      \n",
      "_________________________________________________________________\n",
      "activation (Activation)      (None, 6, 27)             0         \n",
      "=================================================================\n",
      "Total params: 489,427\n",
      "Trainable params: 489,427\n",
      "Non-trainable params: 0\n",
      "_________________________________________________________________\n"
     ]
    }
   ],
   "source": [
    "latent_dim = 200\n",
    "\n",
    "model = Sequential()\n",
    "model.add(layers.LSTM(latent_dim, input_shape=(max_len_x,len(chars_in))))\n",
    "model.add(layers.RepeatVector(max_len_y))\n",
    "model.add(layers.LSTM(latent_dim, return_sequences=True))\n",
    "model.add(layers.TimeDistributed(layers.Dense(len(chars_out))))\n",
    "model.add(layers.Activation('softmax'))\n",
    "model.compile(loss='categorical_crossentropy', optimizer='adam', \n",
    "              metrics=['accuracy'])\n",
    "model.summary()"
   ]
  },
  {
   "cell_type": "markdown",
   "metadata": {},
   "source": [
    "## Train model"
   ]
  },
  {
   "cell_type": "code",
   "execution_count": 8,
   "metadata": {},
   "outputs": [
    {
     "name": "stdout",
     "output_type": "stream",
     "text": [
      "Epoch 1/74\n",
      "150/150 [==============================] - 6s 42ms/step - loss: 3.1799 - accuracy: 0.0707 - val_loss: 3.1167 - val_accuracy: 0.0861\n",
      "Epoch 2/74\n",
      "150/150 [==============================] - 6s 39ms/step - loss: 3.0619 - accuracy: 0.0959 - val_loss: 3.0097 - val_accuracy: 0.1037\n",
      "Epoch 3/74\n",
      "150/150 [==============================] - 6s 39ms/step - loss: 2.9666 - accuracy: 0.1130 - val_loss: 2.9450 - val_accuracy: 0.1220\n",
      "Epoch 4/74\n",
      "150/150 [==============================] - 6s 41ms/step - loss: 2.8651 - accuracy: 0.1376 - val_loss: 2.8443 - val_accuracy: 0.1452\n",
      "Epoch 5/74\n",
      "150/150 [==============================] - 6s 41ms/step - loss: 2.7712 - accuracy: 0.1680 - val_loss: 2.7292 - val_accuracy: 0.1824\n",
      "Epoch 6/74\n",
      "150/150 [==============================] - 6s 43ms/step - loss: 2.6560 - accuracy: 0.2016 - val_loss: 2.6220 - val_accuracy: 0.2069\n",
      "Epoch 7/74\n",
      "150/150 [==============================] - 6s 42ms/step - loss: 2.5523 - accuracy: 0.2319 - val_loss: 2.5631 - val_accuracy: 0.2261\n",
      "Epoch 8/74\n",
      "150/150 [==============================] - 6s 43ms/step - loss: 2.4487 - accuracy: 0.2575 - val_loss: 2.3959 - val_accuracy: 0.2764\n",
      "Epoch 9/74\n",
      "150/150 [==============================] - 7s 44ms/step - loss: 2.3446 - accuracy: 0.2892 - val_loss: 2.3344 - val_accuracy: 0.2964\n",
      "Epoch 10/74\n",
      "150/150 [==============================] - 7s 44ms/step - loss: 2.2665 - accuracy: 0.3211 - val_loss: 2.2306 - val_accuracy: 0.3357\n",
      "Epoch 11/74\n",
      "150/150 [==============================] - 7s 44ms/step - loss: 2.1661 - accuracy: 0.3467 - val_loss: 2.1305 - val_accuracy: 0.3610\n",
      "Epoch 12/74\n",
      "150/150 [==============================] - 6s 43ms/step - loss: 2.0238 - accuracy: 0.3903 - val_loss: 2.0312 - val_accuracy: 0.3901\n",
      "Epoch 13/74\n",
      "150/150 [==============================] - 7s 44ms/step - loss: 1.9453 - accuracy: 0.4186 - val_loss: 1.8894 - val_accuracy: 0.4440\n",
      "Epoch 14/74\n",
      "150/150 [==============================] - 7s 44ms/step - loss: 1.8570 - accuracy: 0.4492 - val_loss: 1.8485 - val_accuracy: 0.4476\n",
      "Epoch 15/74\n",
      "150/150 [==============================] - 6s 43ms/step - loss: 1.7381 - accuracy: 0.4870 - val_loss: 1.6716 - val_accuracy: 0.5132\n",
      "Epoch 16/74\n",
      "150/150 [==============================] - 7s 44ms/step - loss: 1.6482 - accuracy: 0.5122 - val_loss: 1.6102 - val_accuracy: 0.5287\n",
      "Epoch 17/74\n",
      "150/150 [==============================] - 6s 43ms/step - loss: 1.5353 - accuracy: 0.5565 - val_loss: 1.5752 - val_accuracy: 0.5222\n",
      "Epoch 18/74\n",
      "150/150 [==============================] - 6s 43ms/step - loss: 1.4605 - accuracy: 0.5670 - val_loss: 1.3869 - val_accuracy: 0.5868\n",
      "Epoch 19/74\n",
      "150/150 [==============================] - 7s 44ms/step - loss: 1.3190 - accuracy: 0.6155 - val_loss: 1.2778 - val_accuracy: 0.6402\n",
      "Epoch 20/74\n",
      "150/150 [==============================] - 7s 43ms/step - loss: 1.2729 - accuracy: 0.6244 - val_loss: 1.2205 - val_accuracy: 0.6427\n",
      "Epoch 21/74\n",
      "150/150 [==============================] - 7s 44ms/step - loss: 1.1478 - accuracy: 0.6677 - val_loss: 1.1544 - val_accuracy: 0.6602\n",
      "Epoch 22/74\n",
      "150/150 [==============================] - 7s 43ms/step - loss: 1.0797 - accuracy: 0.6832 - val_loss: 1.0398 - val_accuracy: 0.6968\n",
      "Epoch 23/74\n",
      "150/150 [==============================] - 7s 44ms/step - loss: 1.0329 - accuracy: 0.6961 - val_loss: 1.0116 - val_accuracy: 0.7034\n",
      "Epoch 24/74\n",
      "150/150 [==============================] - 7s 44ms/step - loss: 0.9545 - accuracy: 0.7241 - val_loss: 0.9657 - val_accuracy: 0.7153\n",
      "Epoch 25/74\n",
      "150/150 [==============================] - 7s 44ms/step - loss: 0.9528 - accuracy: 0.7204 - val_loss: 0.9614 - val_accuracy: 0.7155\n",
      "Epoch 26/74\n",
      "150/150 [==============================] - 7s 45ms/step - loss: 0.9411 - accuracy: 0.7216 - val_loss: 0.9164 - val_accuracy: 0.7277\n",
      "Epoch 27/74\n",
      "150/150 [==============================] - 7s 44ms/step - loss: 0.8567 - accuracy: 0.7548 - val_loss: 0.8413 - val_accuracy: 0.7563\n",
      "Epoch 28/74\n",
      "150/150 [==============================] - 7s 45ms/step - loss: 0.7977 - accuracy: 0.7738 - val_loss: 0.8771 - val_accuracy: 0.7358\n",
      "Epoch 29/74\n",
      "150/150 [==============================] - 7s 44ms/step - loss: 0.7761 - accuracy: 0.7720 - val_loss: 0.7197 - val_accuracy: 0.7975\n",
      "Epoch 30/74\n",
      "150/150 [==============================] - 7s 44ms/step - loss: 0.6326 - accuracy: 0.8248 - val_loss: 0.6182 - val_accuracy: 0.8235\n",
      "Epoch 31/74\n",
      "150/150 [==============================] - 7s 45ms/step - loss: 0.5794 - accuracy: 0.8359 - val_loss: 0.6036 - val_accuracy: 0.8185\n",
      "Epoch 32/74\n",
      "150/150 [==============================] - 7s 44ms/step - loss: 0.5502 - accuracy: 0.8440 - val_loss: 0.5812 - val_accuracy: 0.8245\n",
      "Epoch 33/74\n",
      "150/150 [==============================] - 7s 44ms/step - loss: 0.4780 - accuracy: 0.8674 - val_loss: 0.4511 - val_accuracy: 0.8677\n",
      "Epoch 34/74\n",
      "150/150 [==============================] - 7s 44ms/step - loss: 0.4045 - accuracy: 0.8957 - val_loss: 0.3803 - val_accuracy: 0.9019\n",
      "Epoch 35/74\n",
      "150/150 [==============================] - 7s 44ms/step - loss: 0.3279 - accuracy: 0.9282 - val_loss: 0.2953 - val_accuracy: 0.9377\n",
      "Epoch 36/74\n",
      "150/150 [==============================] - 7s 44ms/step - loss: 0.2825 - accuracy: 0.9399 - val_loss: 0.3204 - val_accuracy: 0.9157\n",
      "Epoch 37/74\n",
      "150/150 [==============================] - 7s 44ms/step - loss: 0.2537 - accuracy: 0.9496 - val_loss: 0.2390 - val_accuracy: 0.9545\n",
      "Epoch 38/74\n",
      "150/150 [==============================] - 7s 44ms/step - loss: 0.2146 - accuracy: 0.9597 - val_loss: 0.2520 - val_accuracy: 0.9425\n",
      "Epoch 39/74\n",
      "150/150 [==============================] - 7s 44ms/step - loss: 0.1861 - accuracy: 0.9696 - val_loss: 0.1936 - val_accuracy: 0.9669\n",
      "Epoch 40/74\n",
      "150/150 [==============================] - 7s 45ms/step - loss: 0.1809 - accuracy: 0.9678 - val_loss: 0.2497 - val_accuracy: 0.9406\n",
      "Epoch 41/74\n",
      "150/150 [==============================] - 7s 44ms/step - loss: 0.1841 - accuracy: 0.9622 - val_loss: 0.1462 - val_accuracy: 0.9780\n",
      "Epoch 42/74\n",
      "150/150 [==============================] - 7s 44ms/step - loss: 0.1129 - accuracy: 0.9899 - val_loss: 0.1279 - val_accuracy: 0.9854\n",
      "Epoch 43/74\n",
      "150/150 [==============================] - 7s 45ms/step - loss: 0.1979 - accuracy: 0.9487 - val_loss: 0.1924 - val_accuracy: 0.9555\n",
      "Epoch 44/74\n",
      "150/150 [==============================] - 7s 44ms/step - loss: 0.1115 - accuracy: 0.9865 - val_loss: 0.0971 - val_accuracy: 0.9895\n",
      "Epoch 45/74\n",
      "150/150 [==============================] - 7s 45ms/step - loss: 0.0786 - accuracy: 0.9945 - val_loss: 0.1006 - val_accuracy: 0.9853\n",
      "Epoch 46/74\n",
      "150/150 [==============================] - 7s 44ms/step - loss: 0.0887 - accuracy: 0.9885 - val_loss: 0.1165 - val_accuracy: 0.9784\n",
      "Epoch 47/74\n",
      "150/150 [==============================] - 7s 45ms/step - loss: 0.1221 - accuracy: 0.9743 - val_loss: 0.1958 - val_accuracy: 0.9469\n",
      "Epoch 48/74\n",
      "150/150 [==============================] - 7s 44ms/step - loss: 0.1313 - accuracy: 0.9705 - val_loss: 0.1272 - val_accuracy: 0.9704\n",
      "Epoch 49/74\n",
      "150/150 [==============================] - 7s 44ms/step - loss: 0.1005 - accuracy: 0.9810 - val_loss: 0.1547 - val_accuracy: 0.9585\n",
      "Epoch 50/74\n",
      "150/150 [==============================] - 7s 47ms/step - loss: 0.0845 - accuracy: 0.9853 - val_loss: 0.0633 - val_accuracy: 0.9929\n",
      "Epoch 51/74\n",
      "150/150 [==============================] - 7s 44ms/step - loss: 0.0366 - accuracy: 0.9990 - val_loss: 0.0446 - val_accuracy: 0.9965\n",
      "Epoch 52/74\n",
      "150/150 [==============================] - 7s 45ms/step - loss: 0.0261 - accuracy: 0.9999 - val_loss: 0.0347 - val_accuracy: 0.9976\n",
      "Epoch 53/74\n",
      "150/150 [==============================] - 7s 44ms/step - loss: 0.0211 - accuracy: 1.0000 - val_loss: 0.0317 - val_accuracy: 0.9974\n",
      "Epoch 54/74\n",
      "150/150 [==============================] - 7s 44ms/step - loss: 0.0189 - accuracy: 1.0000 - val_loss: 0.0287 - val_accuracy: 0.9977\n",
      "Epoch 55/74\n",
      "150/150 [==============================] - 7s 45ms/step - loss: 0.0162 - accuracy: 1.0000 - val_loss: 0.0277 - val_accuracy: 0.9971\n",
      "Epoch 56/74\n",
      "150/150 [==============================] - 7s 46ms/step - loss: 0.3617 - accuracy: 0.8851 - val_loss: 0.2068 - val_accuracy: 0.9333\n",
      "Epoch 57/74\n",
      "150/150 [==============================] - 7s 46ms/step - loss: 0.0801 - accuracy: 0.9848 - val_loss: 0.0564 - val_accuracy: 0.9915\n"
     ]
    },
    {
     "name": "stdout",
     "output_type": "stream",
     "text": [
      "Epoch 58/74\n",
      "150/150 [==============================] - 7s 44ms/step - loss: 0.0277 - accuracy: 0.9990 - val_loss: 0.0300 - val_accuracy: 0.9981\n",
      "Epoch 59/74\n",
      "150/150 [==============================] - 7s 45ms/step - loss: 0.0226 - accuracy: 0.9989 - val_loss: 0.0363 - val_accuracy: 0.9950\n",
      "Epoch 60/74\n",
      "150/150 [==============================] - 7s 44ms/step - loss: 0.0319 - accuracy: 0.9963 - val_loss: 0.0527 - val_accuracy: 0.9901\n",
      "Epoch 61/74\n",
      "150/150 [==============================] - 7s 44ms/step - loss: 0.0387 - accuracy: 0.9944 - val_loss: 0.0603 - val_accuracy: 0.9873\n",
      "Epoch 62/74\n",
      "150/150 [==============================] - 7s 46ms/step - loss: 0.0956 - accuracy: 0.9729 - val_loss: 0.1718 - val_accuracy: 0.9451\n",
      "Epoch 63/74\n",
      "150/150 [==============================] - 7s 45ms/step - loss: 0.1166 - accuracy: 0.9662 - val_loss: 0.0957 - val_accuracy: 0.9705\n",
      "Epoch 64/74\n",
      "150/150 [==============================] - 7s 46ms/step - loss: 0.0416 - accuracy: 0.9932 - val_loss: 0.0289 - val_accuracy: 0.9964\n",
      "Epoch 65/74\n",
      "150/150 [==============================] - 7s 45ms/step - loss: 0.0141 - accuracy: 0.9997 - val_loss: 0.0176 - val_accuracy: 0.9989\n",
      "Epoch 66/74\n",
      "150/150 [==============================] - 7s 47ms/step - loss: 0.0183 - accuracy: 0.9981 - val_loss: 0.0419 - val_accuracy: 0.9901\n",
      "Epoch 67/74\n",
      "150/150 [==============================] - 7s 45ms/step - loss: 0.0649 - accuracy: 0.9832 - val_loss: 0.1206 - val_accuracy: 0.9623\n",
      "Epoch 68/74\n",
      "150/150 [==============================] - 7s 47ms/step - loss: 0.1077 - accuracy: 0.9672 - val_loss: 0.0598 - val_accuracy: 0.9854\n",
      "Epoch 69/74\n",
      "150/150 [==============================] - 7s 50ms/step - loss: 0.0349 - accuracy: 0.9938 - val_loss: 0.0432 - val_accuracy: 0.9915\n",
      "Epoch 70/74\n",
      "150/150 [==============================] - 7s 48ms/step - loss: 0.0258 - accuracy: 0.9960 - val_loss: 0.0325 - val_accuracy: 0.9935\n",
      "Epoch 71/74\n",
      "150/150 [==============================] - 7s 49ms/step - loss: 0.0123 - accuracy: 0.9994 - val_loss: 0.0160 - val_accuracy: 0.9979\n",
      "Epoch 72/74\n",
      "150/150 [==============================] - 7s 46ms/step - loss: 0.0073 - accuracy: 0.9999 - val_loss: 0.0121 - val_accuracy: 0.9988\n",
      "Epoch 73/74\n",
      "150/150 [==============================] - 7s 47ms/step - loss: 0.0060 - accuracy: 1.0000 - val_loss: 0.0106 - val_accuracy: 0.9991\n",
      "Epoch 74/74\n",
      "150/150 [==============================] - 7s 45ms/step - loss: 0.0053 - accuracy: 1.0000 - val_loss: 0.0099 - val_accuracy: 0.9991\n"
     ]
    },
    {
     "data": {
      "image/png": "[encoded data removed]",
      "text/plain": [
       "<Figure size 1080x360 with 2 Axes>"
      ]
     },
     "metadata": {
      "needs_background": "light"
     },
     "output_type": "display_data"
    }
   ],
   "source": [
    "Epochs = 74\n",
    "Batch_size = 50\n",
    "\n",
    "# train\n",
    "hist = model.fit(x_train, y_train, \n",
    "                 batch_size=Batch_size, epochs=Epochs, \n",
    "                 validation_data=(x_val, y_val))\n",
    "\n",
    "#show history of progress\n",
    "def show_progress():\n",
    "    plt.figure(figsize=(15,5))\n",
    "    plt.subplot(121)\n",
    "    plt.plot(hist.history['accuracy'])\n",
    "    plt.plot(hist.history['val_accuracy'])\n",
    "    plt.title('model accuracy')\n",
    "    plt.ylabel('accuracy')\n",
    "    plt.xlabel('epoch')\n",
    "    plt.legend(['train', 'validation'], loc='upper left')\n",
    "    plt.subplot(122)\n",
    "    plt.plot(hist.history['loss'])\n",
    "    plt.plot(hist.history['val_loss'])\n",
    "    plt.title('model loss')\n",
    "    plt.ylabel('loss')\n",
    "    plt.xlabel('epoch')\n",
    "    plt.legend(['train', 'validation'], loc='upper right')\n",
    "    plt.show()\n",
    "\n",
    "show_progress()"
   ]
  },
  {
   "cell_type": "markdown",
   "metadata": {},
   "source": [
    "## Test model"
   ]
  },
  {
   "cell_type": "code",
   "execution_count": 15,
   "metadata": {},
   "outputs": [
    {
     "name": "stdout",
     "output_type": "stream",
     "text": [
      ".- -... -.-. -.. . ..-.                   abcdef  <->  abcdef\n",
      "-....- .... ... .-.. ..- -....-           -hslu-  <->  -hslu-\n",
      ".... .- .... .- .... .-                   hahaha  <->  hahaha\n",
      "-....- -....- -....- -....- -....- -....- ------  <->  ------\n",
      "-..- -.-- --.. ..- ...- .--               xyzuvw  <->  xyzuvw\n",
      ".--. .. .--. .- .--. ---                  pipapo  <->  pipapo\n",
      ".... . .-.. .-.. --- -....-               hello-  <->  hello-\n",
      ".-- --- .-. .-.. -.. -....-               world-  <->  world-\n",
      "-....- -....- -....- -....- ..-. ....     ----hh  <->  ----fh\n"
     ]
    }
   ],
   "source": [
    "test = ['abcdef', '-hslu-','hahaha','------','xyzuvw','pipapo','hello-','world-', '----fh']\n",
    "        \n",
    "x = np.zeros((len(test), max_len_x, len(chars_in)))\n",
    "for i, token in enumerate(test):\n",
    "    x[i] = embedding_in.encode(morse_encode(token), max_len_x)\n",
    "\n",
    "pre = model.predict(x)\n",
    "\n",
    "for i in range(len(test)):\n",
    "    print(''.join([embedding_in.decode(code) for code in x[i]]),\n",
    "          ''.join([embedding_out.decode(code) for code in pre[i]]), ' <-> ', \n",
    "          ''.join(test[i]))"
   ]
  },
  {
   "cell_type": "markdown",
   "metadata": {},
   "source": [
    "## Save and load models"
   ]
  },
  {
   "cell_type": "code",
   "execution_count": 11,
   "metadata": {},
   "outputs": [],
   "source": [
    "model.save('model_best.h5')\n"
   ]
  },
  {
   "cell_type": "code",
   "execution_count": 3,
   "metadata": {},
   "outputs": [],
   "source": [
    "mx = load_model('model_best.h5')\n"
   ]
  }
 ],
 "metadata": {
  "kernelspec": {
   "display_name": "Python 3",
   "language": "python",
   "name": "python3"
  },
  "language_info": {
   "codemirror_mode": {
    "name": "ipython",
    "version": 3
   },
   "file_extension": ".py",
   "mimetype": "text/x-python",
   "name": "python",
   "nbconvert_exporter": "python",
   "pygments_lexer": "ipython3",
   "version": "3.7.3"
  }
 },
 "nbformat": 4,
 "nbformat_minor": 2
}
