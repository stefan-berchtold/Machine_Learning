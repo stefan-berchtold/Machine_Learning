{
 "cells": [
  {
   "cell_type": "markdown",
   "metadata": {},
   "source": [
    "## Libraries "
   ]
  },
  {
   "cell_type": "code",
   "execution_count": 7,
   "metadata": {},
   "outputs": [],
   "source": [
    "import random\n",
    "import numpy as np\n",
    "import string\n",
    "import matplotlib.pyplot as plt\n",
    "from keras.models import Sequential, load_model\n",
    "from keras import layers"
   ]
  },
  {
   "cell_type": "markdown",
   "metadata": {},
   "source": [
    "## Morse dictionary"
   ]
  },
  {
   "cell_type": "code",
   "execution_count": 8,
   "metadata": {},
   "outputs": [],
   "source": [
    "# basic morse dictionary, we use '-' to mark word spaces\n",
    "\n",
    "alphabet = list('abcdefghijklmnopqrstuvwxyz-')\n",
    "values = ['.-', '-...', '-.-.', '-..', '.', '..-.', '--.', '....', '..', '.---', '-.-', \n",
    "          '.-..', '--', '-.','---', '.--.', '--.-', \n",
    "          '.-.', '...', '-', '..-', '...-', '.--', '-..-', '-.--', '--..','-....-']\n",
    "\n",
    "morse_dict = dict(zip(alphabet, values))\n",
    "ascii_dict = dict(map(reversed, morse_dict.items())) # inverse mapping\n",
    "\n",
    "# convert text to morse code\n",
    "def morse_encode(text):\n",
    "    t = ''.join([c for c in text.lower() if c in alphabet])\n",
    "    return ' '.join([''.join(morse_dict[i]) for i in t])\n",
    " \n",
    "# convert morse code to text\n",
    "def morse_decode(code):\n",
    "    return ''.join([ascii_dict[i] for i in code.split(' ')])"
   ]
  },
  {
   "cell_type": "markdown",
   "metadata": {},
   "source": [
    "## Generating data for training"
   ]
  },
  {
   "cell_type": "code",
   "execution_count": 9,
   "metadata": {},
   "outputs": [],
   "source": [
    "word_len = 6                                    # number of characters output\n",
    "\n",
    "max_len_x = len(max(values, key=len))*word_len+(word_len-1)  # number of morse symbols\n",
    "max_len_y = word_len\n",
    "    \n",
    "# generate data for training \n",
    "\n",
    "def generate_data (n):\n",
    "    output_list = [(''.join([random.choice(string.ascii_lowercase + '-') \n",
    "        for _ in range(word_len)])) \n",
    "            for _ in range(n)]\n",
    "    return  output_list, [morse_encode(s) for s in output_list]\n",
    "    \n",
    "output_list, input_list = generate_data(10000)"
   ]
  },
  {
   "cell_type": "markdown",
   "metadata": {},
   "source": [
    "## Embedding, simply my mapping a one-hot encoding"
   ]
  },
  {
   "cell_type": "code",
   "execution_count": 10,
   "metadata": {},
   "outputs": [],
   "source": [
    "class Embedding(object):\n",
    "    def __init__(self, chars):\n",
    "        self.chars = sorted(set(chars))\n",
    "        self.char_indices = dict((c, i) for i, c in\n",
    "                                            enumerate(self.chars))\n",
    "        self.indices_char = dict((i, c) for i, c in \n",
    "                                            enumerate(self.chars))\n",
    "    def encode(self, token, num_rows):\n",
    "        x = np.zeros((num_rows, len(self.chars)))   # zeros, except ..\n",
    "        for i, c in enumerate(token):               # one \n",
    "            x[i, self.char_indices[c]] = 1\n",
    "        return x\n",
    "    \n",
    "    def decode(self, x):\n",
    "        x = [x.argmax(axis=-1)]\n",
    "        return ''.join(self.indices_char[int(v)] for v in x)\n",
    "    "
   ]
  },
  {
   "cell_type": "markdown",
   "metadata": {},
   "source": [
    "## Prepare data for feeding to network, i.e. represent by one-hot encoding"
   ]
  },
  {
   "cell_type": "code",
   "execution_count": 11,
   "metadata": {},
   "outputs": [
    {
     "name": "stdout",
     "output_type": "stream",
     "text": [
      ".--. .. -.. - ..- .--.                    pidtup\n",
      "-.- .--- . -..- .-- .-                    kjexwa\n",
      ".. -- -..- -... ...- .-                   imxbva\n",
      "-- ... - ..-. --.- .-.                    mstfqr\n",
      "-- -. ..- .--- -. -...                    mnujnb\n"
     ]
    }
   ],
   "source": [
    "# character sets used at input (morse code) and output (text)\n",
    "\n",
    "chars_in = '-. '\n",
    "chars_out = ''.join(alphabet)\n",
    "\n",
    "embedding_in = Embedding(chars_in)\n",
    "embedding_out = Embedding(chars_out)\n",
    "\n",
    "# x : input to encoder, y : output from decoder\n",
    "x = np.zeros((len(input_list), max_len_x, len(chars_in)))\n",
    "y = np.zeros((len(output_list), max_len_y, len(chars_out)))\n",
    "\n",
    "for i, token in enumerate(input_list):\n",
    "    x[i] = embedding_in.encode(token, max_len_x)\n",
    "    \n",
    "for i, token in enumerate(output_list):\n",
    "    y[i] = embedding_out.encode(token, max_len_y)\n",
    "    \n",
    "# split data set : 3/4 for training, 1/4 for evaluation\n",
    "m = 3*len(x)// 4\n",
    "(x_train, x_val) = x[:m], x[m:]\n",
    "(y_train, y_val) = y[:m], y[m:]\n",
    "\n",
    "# show some examples ...\n",
    "for i in range(5):\n",
    "    print(''.join([embedding_in.decode(token) for token in x_train[i]]),\n",
    "          ''.join([embedding_out.decode(token) for token in y_train[i]]))"
   ]
  },
  {
   "cell_type": "markdown",
   "metadata": {},
   "source": [
    "## Create model"
   ]
  },
  {
   "cell_type": "code",
   "execution_count": 12,
   "metadata": {},
   "outputs": [
    {
     "name": "stdout",
     "output_type": "stream",
     "text": [
      "Model: \"sequential\"\n",
      "_________________________________________________________________\n",
      "Layer (type)                 Output Shape              Param #   \n",
      "=================================================================\n",
      "lstm (LSTM)                  (None, 200)               163200    \n",
      "_________________________________________________________________\n",
      "repeat_vector (RepeatVector) (None, 6, 200)            0         \n",
      "_________________________________________________________________\n",
      "lstm_1 (LSTM)                (None, 6, 200)            320800    \n",
      "_________________________________________________________________\n",
      "time_distributed (TimeDistri (None, 6, 27)             5427      \n",
      "_________________________________________________________________\n",
      "activation (Activation)      (None, 6, 27)             0         \n",
      "=================================================================\n",
      "Total params: 489,427\n",
      "Trainable params: 489,427\n",
      "Non-trainable params: 0\n",
      "_________________________________________________________________\n"
     ]
    }
   ],
   "source": [
    "latent_dim = 200\n",
    "\n",
    "model = Sequential()\n",
    "model.add(layers.LSTM(latent_dim, input_shape=(max_len_x,len(chars_in))))\n",
    "model.add(layers.RepeatVector(max_len_y))\n",
    "model.add(layers.LSTM(latent_dim, return_sequences=True))\n",
    "model.add(layers.TimeDistributed(layers.Dense(len(chars_out))))\n",
    "model.add(layers.Activation('softmax'))\n",
    "model.compile(loss='categorical_crossentropy', optimizer='adam', \n",
    "              metrics=['accuracy'])\n",
    "model.summary()"
   ]
  },
  {
   "cell_type": "markdown",
   "metadata": {},
   "source": [
    "## Train model"
   ]
  },
  {
   "cell_type": "code",
   "execution_count": 14,
   "metadata": {},
   "outputs": [
    {
     "name": "stdout",
     "output_type": "stream",
     "text": [
      "Epoch 1/20\n",
      "750/750 [==============================] - 19s 25ms/step - loss: 3.1137 - accuracy: 0.0817 - val_loss: 2.9986 - val_accuracy: 0.1072\n",
      "Epoch 2/20\n",
      "750/750 [==============================] - 16s 21ms/step - loss: 2.9440 - accuracy: 0.1164 - val_loss: 2.8590 - val_accuracy: 0.1436\n",
      "Epoch 3/20\n",
      "750/750 [==============================] - 16s 21ms/step - loss: 2.7406 - accuracy: 0.1687 - val_loss: 2.6309 - val_accuracy: 0.1937\n",
      "Epoch 4/20\n",
      "750/750 [==============================] - 16s 21ms/step - loss: 2.4936 - accuracy: 0.2364 - val_loss: 2.3990 - val_accuracy: 0.2647\n",
      "Epoch 5/20\n",
      "750/750 [==============================] - 16s 21ms/step - loss: 2.2892 - accuracy: 0.2904 - val_loss: 2.1462 - val_accuracy: 0.3349\n",
      "Epoch 6/20\n",
      "750/750 [==============================] - 16s 21ms/step - loss: 2.0060 - accuracy: 0.3719 - val_loss: 1.9392 - val_accuracy: 0.3913\n",
      "Epoch 7/20\n",
      "750/750 [==============================] - 16s 21ms/step - loss: 1.8613 - accuracy: 0.4231 - val_loss: 1.7854 - val_accuracy: 0.4520\n",
      "Epoch 8/20\n",
      "750/750 [==============================] - 16s 21ms/step - loss: 1.7184 - accuracy: 0.4660 - val_loss: 1.6599 - val_accuracy: 0.4815\n",
      "Epoch 9/20\n",
      "750/750 [==============================] - 16s 22ms/step - loss: 1.5380 - accuracy: 0.5143 - val_loss: 1.5340 - val_accuracy: 0.5083\n",
      "Epoch 10/20\n",
      "750/750 [==============================] - 15s 21ms/step - loss: 1.3368 - accuracy: 0.5748 - val_loss: 1.3297 - val_accuracy: 0.5789\n",
      "Epoch 11/20\n",
      "750/750 [==============================] - 16s 22ms/step - loss: 1.1739 - accuracy: 0.6278 - val_loss: 1.0658 - val_accuracy: 0.6652\n",
      "Epoch 12/20\n",
      "750/750 [==============================] - 16s 21ms/step - loss: 1.0428 - accuracy: 0.6700 - val_loss: 1.0538 - val_accuracy: 0.6586\n",
      "Epoch 13/20\n",
      "750/750 [==============================] - 16s 21ms/step - loss: 0.9779 - accuracy: 0.6871 - val_loss: 0.9385 - val_accuracy: 0.6943\n",
      "Epoch 14/20\n",
      "750/750 [==============================] - 16s 21ms/step - loss: 0.8898 - accuracy: 0.7143 - val_loss: 0.9346 - val_accuracy: 0.6974\n",
      "Epoch 15/20\n",
      "750/750 [==============================] - 16s 21ms/step - loss: 0.7944 - accuracy: 0.7450 - val_loss: 0.7947 - val_accuracy: 0.7382\n",
      "Epoch 16/20\n",
      "750/750 [==============================] - 16s 21ms/step - loss: 0.6924 - accuracy: 0.7727 - val_loss: 0.5835 - val_accuracy: 0.8178\n",
      "Epoch 17/20\n",
      "750/750 [==============================] - 16s 22ms/step - loss: 0.5608 - accuracy: 0.8202 - val_loss: 0.5204 - val_accuracy: 0.8311\n",
      "Epoch 18/20\n",
      "750/750 [==============================] - 16s 21ms/step - loss: 0.4457 - accuracy: 0.8653 - val_loss: 0.3906 - val_accuracy: 0.8838\n",
      "Epoch 19/20\n",
      "750/750 [==============================] - 15s 21ms/step - loss: 0.3468 - accuracy: 0.9042 - val_loss: 0.3408 - val_accuracy: 0.8981\n",
      "Epoch 20/20\n",
      "750/750 [==============================] - 16s 21ms/step - loss: 0.2900 - accuracy: 0.9216 - val_loss: 0.3657 - val_accuracy: 0.8882\n"
     ]
    },
    {
     "data": {
      "image/png": "[encoded data removed]",
      "text/plain": [
       "<Figure size 1080x360 with 2 Axes>"
      ]
     },
     "metadata": {
      "needs_background": "light"
     },
     "output_type": "display_data"
    }
   ],
   "source": [
    "Epochs = 20\n",
    "Batch_size = 10\n",
    "\n",
    "# train\n",
    "hist = model.fit(x_train, y_train, \n",
    "                 batch_size=Batch_size, epochs=Epochs, \n",
    "                 validation_data=(x_val, y_val))\n",
    "\n",
    "#show history of progress\n",
    "def show_progress():\n",
    "    plt.figure(figsize=(15,5))\n",
    "    plt.subplot(121)\n",
    "    plt.plot(hist.history['accuracy'])\n",
    "    plt.plot(hist.history['val_accuracy'])\n",
    "    plt.title('model accuracy')\n",
    "    plt.ylabel('accuracy')\n",
    "    plt.xlabel('epoch')\n",
    "    plt.legend(['train', 'validation'], loc='upper left')\n",
    "    plt.subplot(122)\n",
    "    plt.plot(hist.history['loss'])\n",
    "    plt.plot(hist.history['val_loss'])\n",
    "    plt.title('model loss')\n",
    "    plt.ylabel('loss')\n",
    "    plt.xlabel('epoch')\n",
    "    plt.legend(['train', 'validation'], loc='upper right')\n",
    "    plt.show()\n",
    "\n",
    "show_progress()"
   ]
  },
  {
   "cell_type": "markdown",
   "metadata": {},
   "source": [
    "## Test model"
   ]
  },
  {
   "cell_type": "code",
   "execution_count": 13,
   "metadata": {},
   "outputs": [
    {
     "name": "stdout",
     "output_type": "stream",
     "text": [
      ".- -... -.-. -.. . ..-.                   ffffff  <->  abcdef\n",
      "-....- .... ... .-.. ..- -....-           ffcppp  <->  -hslu-\n",
      ".... .- .... .- .... .-                   ffffff  <->  hahaha\n",
      "-....- -....- -....- -....- -....- -....- nnnnnn  <->  ------\n",
      "-..- -.-- --.. ..- ...- .--               fppppp  <->  xyzuvw\n",
      ".--. .. .--. .- .--. ---                  dddddd  <->  pipapo\n",
      ".... . .-.. .-.. --- -....-               ffpppp  <->  hello-\n",
      ".-- --- .-. .-.. -.. -....-               ffff--  <->  world-\n"
     ]
    }
   ],
   "source": [
    "test = ['abcdef', '-hslu-','hahaha','------','xyzuvw','pipapo','hello-','world-']\n",
    "        \n",
    "x = np.zeros((len(test), max_len_x, len(chars_in)))\n",
    "for i, token in enumerate(test):\n",
    "    x[i] = embedding_in.encode(morse_encode(token), max_len_x)\n",
    "\n",
    "pre = model.predict(x)\n",
    "\n",
    "for i in range(len(test)):\n",
    "    print(''.join([embedding_in.decode(code) for code in x[i]]),\n",
    "          ''.join([embedding_out.decode(code) for code in pre[i]]), ' <-> ', \n",
    "          ''.join(test[i]))"
   ]
  },
  {
   "cell_type": "markdown",
   "metadata": {},
   "source": [
    "## Save and load models"
   ]
  },
  {
   "cell_type": "code",
   "execution_count": 18,
   "metadata": {},
   "outputs": [],
   "source": [
    "model.save('model_5-7.h5')\n",
    "\n",
    "mx = load_model('model_5-7.h5')\n"
   ]
  },
  {
   "cell_type": "code",
   "execution_count": 3,
   "metadata": {},
   "outputs": [],
   "source": [
    "\n"
   ]
  }
 ],
 "metadata": {
  "kernelspec": {
   "display_name": "Python 3",
   "language": "python",
   "name": "python3"
  },
  "language_info": {
   "codemirror_mode": {
    "name": "ipython",
    "version": 3
   },
   "file_extension": ".py",
   "mimetype": "text/x-python",
   "name": "python",
   "nbconvert_exporter": "python",
   "pygments_lexer": "ipython3",
   "version": "3.7.3"
  }
 },
 "nbformat": 4,
 "nbformat_minor": 2
}
