{
 "cells": [
  {
   "cell_type": "markdown",
   "metadata": {},
   "source": [
    "## Packages loaded"
   ]
  },
  {
   "cell_type": "code",
   "execution_count": 579,
   "metadata": {},
   "outputs": [],
   "source": [
    "import numpy as np\n",
    "import matplotlib.pyplot as plt\n",
    "\n",
    "from scipy import signal\n",
    "from scipy.io import wavfile\n",
    "\n",
    "from hidden_markov import hmm"
   ]
  },
  {
   "cell_type": "markdown",
   "metadata": {},
   "source": [
    "## Get morse and ascii dictionaries"
   ]
  },
  {
   "cell_type": "code",
   "execution_count": 580,
   "metadata": {},
   "outputs": [],
   "source": [
    "alphabet = list('abcdefghijklmnopqrstuvwxyz-')\n",
    "values = ['.-', '-...', '-.-.', '-..', '.', '..-.', '--.', '....', '..', '.---', '-.-', \n",
    "          '.-..', '--', '-.','---', '.--.', '--.-', \n",
    "          '.-.', '...', '-', '..-', '...-', '.--', '-..-', '-.--', '--..','-....-']\n",
    "\n",
    "morse_dict = dict(zip(alphabet, values))\n",
    "ascii_dict = dict(map(reversed, morse_dict.items()))"
   ]
  },
  {
   "cell_type": "code",
   "execution_count": 581,
   "metadata": {},
   "outputs": [
    {
     "name": "stdout",
     "output_type": "stream",
     "text": [
      "{'a': '.-', 'b': '-...', 'c': '-.-.', 'd': '-..', 'e': '.', 'f': '..-.', 'g': '--.', 'h': '....', 'i': '..', 'j': '.---', 'k': '-.-', 'l': '.-..', 'm': '--', 'n': '-.', 'o': '---', 'p': '.--.', 'q': '--.-', 'r': '.-.', 's': '...', 't': '-', 'u': '..-', 'v': '...-', 'w': '.--', 'x': '-..-', 'y': '-.--', 'z': '--..', '-': '-....-'}\n"
     ]
    }
   ],
   "source": [
    "print(morse_dict)"
   ]
  },
  {
   "cell_type": "code",
   "execution_count": 582,
   "metadata": {},
   "outputs": [
    {
     "name": "stdout",
     "output_type": "stream",
     "text": [
      "{'.-': 'a', '-...': 'b', '-.-.': 'c', '-..': 'd', '.': 'e', '..-.': 'f', '--.': 'g', '....': 'h', '..': 'i', '.---': 'j', '-.-': 'k', '.-..': 'l', '--': 'm', '-.': 'n', '---': 'o', '.--.': 'p', '--.-': 'q', '.-.': 'r', '...': 's', '-': 't', '..-': 'u', '...-': 'v', '.--': 'w', '-..-': 'x', '-.--': 'y', '--..': 'z', '-....-': '-'}\n"
     ]
    }
   ],
   "source": [
    "print(ascii_dict)"
   ]
  },
  {
   "cell_type": "markdown",
   "metadata": {},
   "source": [
    "## Functions to convert text to morse code and vice versa"
   ]
  },
  {
   "cell_type": "code",
   "execution_count": 583,
   "metadata": {},
   "outputs": [],
   "source": [
    "def morse_encode(text):\n",
    "    return ' '.join([''.join(morse_dict.get(i, '')) for i in text.lower()])\n",
    " \n",
    "# convert morse code to text\n",
    "def morse_decode(code):\n",
    "    return ''.join([ascii_dict.get(i, '') for i in code.split(' ')])"
   ]
  },
  {
   "cell_type": "code",
   "execution_count": 584,
   "metadata": {},
   "outputs": [],
   "source": [
    "text = \"hallo welt\""
   ]
  },
  {
   "cell_type": "code",
   "execution_count": 585,
   "metadata": {},
   "outputs": [
    {
     "data": {
      "text/plain": [
       "'.... .- .-.. .-.. ---  .-- . .-.. -'"
      ]
     },
     "execution_count": 585,
     "metadata": {},
     "output_type": "execute_result"
    }
   ],
   "source": [
    "morse_encode(text)"
   ]
  },
  {
   "cell_type": "code",
   "execution_count": 586,
   "metadata": {},
   "outputs": [],
   "source": [
    "code ='.... .- .-.. .-.. ---  .-- . .-.. -'"
   ]
  },
  {
   "cell_type": "code",
   "execution_count": 587,
   "metadata": {},
   "outputs": [
    {
     "data": {
      "text/plain": [
       "'hallowelt'"
      ]
     },
     "execution_count": 587,
     "metadata": {},
     "output_type": "execute_result"
    }
   ],
   "source": [
    "morse_decode(code)"
   ]
  },
  {
   "cell_type": "markdown",
   "metadata": {},
   "source": [
    "## Read file and plot the spectogramm"
   ]
  },
  {
   "cell_type": "code",
   "execution_count": 588,
   "metadata": {},
   "outputs": [],
   "source": [
    "fs, data = wavfile.read('C:/home/stefan/PRA/morse.wav')\n",
    "\n",
    "# spectral representation\n",
    "f, t, S = signal.spectrogram(data, fs)"
   ]
  },
  {
   "cell_type": "code",
   "execution_count": 589,
   "metadata": {},
   "outputs": [
    {
     "data": {
      "image/png": "[encoded data removed]",
      "text/plain": [
       "<Figure size 432x288 with 1 Axes>"
      ]
     },
     "metadata": {
      "needs_background": "light"
     },
     "output_type": "display_data"
    }
   ],
   "source": [
    "plt.figure(0) # spectrogram\n",
    "plt.pcolormesh(t, f, S)\n",
    "plt.ylabel('frequency [Hz]')\n",
    "plt.xlabel('time [sec]')\n",
    "plt.title('spectrogram')\n",
    "plt.show()"
   ]
  },
  {
   "cell_type": "markdown",
   "metadata": {},
   "source": [
    "## Convert to binary sequence and plot "
   ]
  },
  {
   "cell_type": "code",
   "execution_count": 590,
   "metadata": {},
   "outputs": [],
   "source": [
    "def choose_freq_c(S, threshold=0.975):\n",
    "    '''Return the indexes of S that meet the threshold.\n",
    "    Threshold will be used to select the quantiles\n",
    "    '''\n",
    "    indices = []\n",
    "    sums = []\n",
    "    for i, intensity in enumerate(S):\n",
    "        sums.append(sum(intensity))\n",
    "    limiter = np.quantile(sums, threshold)\n",
    "    for i, intensity_sum in enumerate(sums):\n",
    "        if intensity_sum >= limiter:\n",
    "            indices.append(i)\n",
    "    return indices\n",
    "\n",
    "def transform_binary(S, threshold=0.5):\n",
    "    '''Return binary representation\n",
    "    '''\n",
    "    steps = np.mean(S, axis=0)\n",
    "    #steps = S[np.argmax(np.sum(S, axis=1)),:]\n",
    "    return list(map(lambda x: 1 if x >= np.quantile(steps, threshold) else 0, steps))"
   ]
  },
  {
   "cell_type": "code",
   "execution_count": 591,
   "metadata": {},
   "outputs": [],
   "source": [
    "f_index = choose_freq_c(S)\n",
    "binary_data = transform_binary(S[f_index,:])"
   ]
  },
  {
   "cell_type": "code",
   "execution_count": 592,
   "metadata": {},
   "outputs": [
    {
     "data": {
      "image/png": "[encoded data removed]",
      "text/plain": [
       "<Figure size 432x288 with 1 Axes>"
      ]
     },
     "metadata": {
      "needs_background": "light"
     },
     "output_type": "display_data"
    }
   ],
   "source": [
    "plt.figure(1)    # binary sequence\n",
    "plt.plot(t,binary_data,'ro', markersize=1)\n",
    "plt.ylabel('signal')\n",
    "plt.xlabel('time [sec]')\n",
    "plt.title('binary signal')\n",
    "plt.show()\n"
   ]
  },
  {
   "cell_type": "markdown",
   "metadata": {},
   "source": [
    "## Initialize the Hidden Markov Model"
   ]
  },
  {
   "cell_type": "code",
   "execution_count": 593,
   "metadata": {},
   "outputs": [],
   "source": [
    "states = ('.1','.2','-1','-2','-3','-4','-5','-6',' 1',' 2','_1','_2','_3','_4','_5','_6','x')\n",
    "symbols = (True,False)\n",
    "\n",
    "# morse symbols correspondig to states\n",
    "state_values = ['.','','-','','','','','','','',' ','','','','','','']\n",
    "state_dict = dict(zip(states, state_values))\n",
    "\n",
    "# convert state sequence to morse symbols, remove trailing or leading spaces\n",
    "def state_decode(sequence):\n",
    "    return (''.join([''.join(state_dict[i]) for i in sequence])).strip()\n",
    " \n",
    "#==============================================================================\n",
    "# set up and run hidden markov model\n",
    "    \n",
    "# we assume that we do not start in the middle of a symbol\n",
    "initial = np.matrix([\n",
    "        [1, 0, 1, 0, 0, 0, 0, 0, 1, 0, 1, 0, 0, 0, 0, 0, 0]\n",
    "    ])\n",
    "\n",
    "##__TODO__ define transition matrix\n",
    "# state  .1 .2 -1 -2 -3 -4 -5 -6  1  2 _1 _2 _3 _4 _5 _6 x    \n",
    "transition = np.matrix([\n",
    "            [0, 1, 0, 0, 0, 0, 0, 0, 0, 0, 0, 0, 0, 0, 0, 0, 0], # .1 \n",
    "            [0, 0, 0, 0, 0, 0, 0, 0, 1, 0, 1, 0, 0, 0, 0, 0, 1], # .2 nominal length\n",
    "            [0, 0, 0, 1, 0, 0, 0, 0, 0, 0, 0, 0, 0, 0, 0, 0, 0], # -1\n",
    "            [0, 0, 0, 0, 1, 0, 0, 0, 0, 0, 0, 0, 0, 0, 0, 0, 0], # -2\n",
    "            [0, 0, 0, 0, 0, 1, 0, 0, 0, 0, 0, 0, 0, 0, 0, 0, 0], # -3\n",
    "            [0, 0, 0, 0, 0, 0, 1, 0, 0, 0, 0, 0, 0, 0, 0, 0, 0], # -4\n",
    "            [0, 0, 0, 0, 0, 0, 0, 1, 0, 0, 0, 0, 0, 0, 0, 0, 0], # -5  \n",
    "            [0, 0, 0, 0, 0, 0, 0, 0, 1, 0, 1, 0, 0, 0, 0, 0, 1], # -6 nominal length\n",
    "            [0, 0, 0, 0, 0, 0, 0, 0, 0, 1, 0, 0, 0, 0, 0, 0, 0], #  1\n",
    "            [1, 0, 1, 0, 0, 0, 0, 0, 0, 0, 0, 0, 0, 0, 0, 0, 1], #  2 nominal length\n",
    "            [0, 0, 0, 0, 0, 0, 0, 0, 0, 0, 0, 1, 0, 0, 0, 0, 0], # _1\n",
    "            [0, 0, 0, 0, 0, 0, 0, 0, 0, 0, 0, 0, 1, 0, 0, 0, 0], # _2\n",
    "            [0, 0, 0, 0, 0, 0, 0, 0, 0, 0, 0, 0, 0, 1, 0, 0, 0], # _3\n",
    "            [0, 0, 0, 0, 0, 0, 0, 0, 0, 0, 0, 0, 0, 0, 1, 0, 0], # _4\n",
    "            [0, 0, 0, 0, 0, 0, 0, 0, 0, 0, 0, 0, 0, 0, 0, 1, 0], # _5\n",
    "            [1, 0, 1, 0, 0, 0, 0, 0, 0, 0, 0, 0, 0, 0, 0, 0, 1], # _6 nominal length\n",
    "            [1, 0, 1, 0, 0, 0, 0, 0, 1, 0, 1, 0, 0, 0, 0, 0, 0]  # x  indifferent     \n",
    "        ])\n",
    "# emission probabilities\n",
    "emission = np.matrix([\n",
    "        [1, 1, 1, 1, 1, 1, 1, 1, 0, 0, 0, 0, 0, 0, 0, 0, 1], # emitting 'True'\n",
    "        [0, 0, 0, 0, 0, 0, 0, 0, 1, 1, 1, 1, 1, 1, 1, 1, 1]  # emitting 'False'\n",
    "    ]).transpose() \n",
    "  \n",
    "    \n",
    "# scale as probabilities, e.g. that components sum up to 1\n",
    "initial = initial / np.sum(initial, axis=1).reshape((-1, 1))\n",
    "transition = transition / np.sum(transition, axis=1).reshape((-1, 1))\n",
    "emission = emission / np.sum(emission, axis=1).reshape((-1, 1))\n"
   ]
  },
  {
   "cell_type": "markdown",
   "metadata": {},
   "source": [
    "The transition matrix was found by tiral and error"
   ]
  },
  {
   "cell_type": "markdown",
   "metadata": {},
   "source": [
    "## Develop model and print result"
   ]
  },
  {
   "cell_type": "code",
   "execution_count": 594,
   "metadata": {},
   "outputs": [
    {
     "name": "stdout",
     "output_type": "stream",
     "text": [
      "Decoded string => congratulations-you-did-very-well <=\n"
     ]
    }
   ],
   "source": [
    "model = hmm(states, symbols, initial, transition, emission)\n",
    "\n",
    "# run viterbi decoder\n",
    "state_sequence = model.viterbi(binary_data)\n",
    "\n",
    "result = morse_decode(state_decode(state_sequence))\n",
    "\n",
    "print('Decoded string =>',result,'<=')"
   ]
  },
  {
   "cell_type": "markdown",
   "metadata": {},
   "source": [
    "## Repeat the same steps with noisy audio "
   ]
  },
  {
   "cell_type": "code",
   "execution_count": 608,
   "metadata": {},
   "outputs": [],
   "source": [
    "fsx, datax = wavfile.read('C:/home/stefan/PRA/morse_noise_0,000001.wav')\n",
    "\n",
    "# spectral representation\n",
    "fx, tx, Sx = signal.spectrogram(datax, fsx)"
   ]
  },
  {
   "cell_type": "code",
   "execution_count": 596,
   "metadata": {},
   "outputs": [],
   "source": [
    "f_indexx = choose_freq_c(Sx)\n",
    "binary_datax = transform_binary(Sx[f_indexx,:])"
   ]
  },
  {
   "cell_type": "code",
   "execution_count": 597,
   "metadata": {},
   "outputs": [
    {
     "data": {
      "image/png": "[encoded data removed]",
      "text/plain": [
       "<Figure size 432x288 with 1 Axes>"
      ]
     },
     "metadata": {
      "needs_background": "light"
     },
     "output_type": "display_data"
    }
   ],
   "source": [
    "plt.figure(2) # spectrogram\n",
    "plt.pcolormesh(tx, fx, Sx)\n",
    "plt.ylabel('frequency [Hz]')\n",
    "plt.xlabel('time [sec]')\n",
    "plt.title('spectrogram')\n",
    "plt.show()"
   ]
  },
  {
   "cell_type": "code",
   "execution_count": 598,
   "metadata": {},
   "outputs": [
    {
     "data": {
      "image/png": "[encoded data removed]",
      "text/plain": [
       "<Figure size 432x288 with 1 Axes>"
      ]
     },
     "metadata": {
      "needs_background": "light"
     },
     "output_type": "display_data"
    }
   ],
   "source": [
    "plt.figure(3)    # binary sequence\n",
    "plt.plot(t,binary_datax,'ro', markersize=1)\n",
    "plt.ylabel('signal')\n",
    "plt.xlabel('time [sec]')\n",
    "plt.title('binary signal')\n",
    "plt.show()"
   ]
  },
  {
   "cell_type": "code",
   "execution_count": 599,
   "metadata": {},
   "outputs": [
    {
     "name": "stdout",
     "output_type": "stream",
     "text": [
      "Decoded string => kongratulttions-yoadid-vry-werr <=\n"
     ]
    }
   ],
   "source": [
    "modelx = hmm(states, symbols, initial, transition, emission)\n",
    "\n",
    "# run viterbi decoder\n",
    "state_sequencex = model.viterbi(binary_datax)\n",
    "\n",
    "result = morse_decode(state_decode(state_sequencex))\n",
    "\n",
    "print('Decoded string =>',result,'<=')"
   ]
  },
  {
   "cell_type": "markdown",
   "metadata": {},
   "source": [
    "Even with the smallest possible amplitude of the white noise(0,000001), one could choose, except zero) in audacity, the algorithm degrades that much that the morse code can not be translated into characters.\n"
   ]
  },
  {
   "cell_type": "markdown",
   "metadata": {},
   "source": [
    "## Baum-Welch algorithm"
   ]
  },
  {
   "cell_type": "markdown",
   "metadata": {},
   "source": [
    "Even though I attempted to use the Baum-Welch algorithm it somehow did not work. After trying to fit the given data into the algorithm, the same error occured: ValueError: operands could not be broadcast together with shapes (17,2) (1,17) \n",
    "A Google Search resultet in changing the line 349 of hmm_class.py to emProbNew = emProbNew/ np.reshape(em_norm.transpose(),[-1,1]), which does not seem like a good solution. Maybe it needs further investigation."
   ]
  },
  {
   "cell_type": "code",
   "execution_count": 600,
   "metadata": {},
   "outputs": [],
   "source": [
    "unique, counts = np.unique(binary_datax, return_counts=True)"
   ]
  },
  {
   "cell_type": "code",
   "execution_count": 601,
   "metadata": {},
   "outputs": [],
   "source": [
    "count = list(zip(unique, counts))"
   ]
  },
  {
   "cell_type": "code",
   "execution_count": 602,
   "metadata": {},
   "outputs": [
    {
     "name": "stdout",
     "output_type": "stream",
     "text": [
      "[(0, 387), (1, 388)]\n"
     ]
    }
   ],
   "source": [
    "print(count)"
   ]
  },
  {
   "cell_type": "code",
   "execution_count": 603,
   "metadata": {},
   "outputs": [],
   "source": [
    "lower_50 = tuple(binary_datax[:387])\n",
    "upper_50 = tuple(binary_datax[388:])\n",
    "\n",
    "obs = []\n",
    "obs.extend([lower_50, upper_50])"
   ]
  },
  {
   "cell_type": "code",
   "execution_count": 604,
   "metadata": {},
   "outputs": [],
   "source": [
    "count = [387,388]\n",
    "num_iter = 100"
   ]
  },
  {
   "cell_type": "code",
   "execution_count": 607,
   "metadata": {},
   "outputs": [
    {
     "ename": "ValueError",
     "evalue": "operands could not be broadcast together with shapes (17,2) (1,17) ",
     "output_type": "error",
     "traceback": [
      "\u001b[1;31m---------------------------------------------------------------------------\u001b[0m",
      "\u001b[1;31mValueError\u001b[0m                                Traceback (most recent call last)",
      "\u001b[1;32m<ipython-input-607-f4ee4c7acd6d>\u001b[0m in \u001b[0;36m<module>\u001b[1;34m\u001b[0m\n\u001b[1;32m----> 1\u001b[1;33m \u001b[0mmodelx\u001b[0m\u001b[1;33m.\u001b[0m\u001b[0mtrain_hmm\u001b[0m\u001b[1;33m(\u001b[0m\u001b[0mobs\u001b[0m\u001b[1;33m,\u001b[0m \u001b[0mnum_iter\u001b[0m\u001b[1;33m,\u001b[0m \u001b[0mcount\u001b[0m\u001b[1;33m)\u001b[0m\u001b[1;33m\u001b[0m\u001b[1;33m\u001b[0m\u001b[0m\n\u001b[0m",
      "\u001b[1;32mC:\\ProgramData\\Anaconda3\\lib\\site-packages\\hidden_markov\\hmm_class.py\u001b[0m in \u001b[0;36mtrain_hmm\u001b[1;34m(self, observation_list, iterations, quantities)\u001b[0m\n\u001b[0;32m    347\u001b[0m             \u001b[0mstart_norm\u001b[0m \u001b[1;33m=\u001b[0m \u001b[0mstartProbNew\u001b[0m\u001b[1;33m.\u001b[0m\u001b[0msum\u001b[0m\u001b[1;33m(\u001b[0m\u001b[0maxis\u001b[0m \u001b[1;33m=\u001b[0m \u001b[1;36m1\u001b[0m\u001b[1;33m)\u001b[0m\u001b[1;33m\u001b[0m\u001b[1;33m\u001b[0m\u001b[0m\n\u001b[0;32m    348\u001b[0m \u001b[1;33m\u001b[0m\u001b[0m\n\u001b[1;32m--> 349\u001b[1;33m             \u001b[0memProbNew\u001b[0m \u001b[1;33m=\u001b[0m \u001b[0memProbNew\u001b[0m\u001b[1;33m/\u001b[0m \u001b[0mem_norm\u001b[0m\u001b[1;33m.\u001b[0m\u001b[0mtranspose\u001b[0m\u001b[1;33m(\u001b[0m\u001b[1;33m)\u001b[0m\u001b[1;33m\u001b[0m\u001b[1;33m\u001b[0m\u001b[0m\n\u001b[0m\u001b[0;32m    350\u001b[0m             \u001b[0mstartProbNew\u001b[0m \u001b[1;33m=\u001b[0m \u001b[0mstartProbNew\u001b[0m\u001b[1;33m/\u001b[0m \u001b[0mstart_norm\u001b[0m\u001b[1;33m.\u001b[0m\u001b[0mtranspose\u001b[0m\u001b[1;33m(\u001b[0m\u001b[1;33m)\u001b[0m\u001b[1;33m\u001b[0m\u001b[1;33m\u001b[0m\u001b[0m\n\u001b[0;32m    351\u001b[0m             \u001b[0mtransProbNew\u001b[0m \u001b[1;33m=\u001b[0m \u001b[0mtransProbNew\u001b[0m\u001b[1;33m/\u001b[0m \u001b[0mtrans_norm\u001b[0m\u001b[1;33m.\u001b[0m\u001b[0mtranspose\u001b[0m\u001b[1;33m(\u001b[0m\u001b[1;33m)\u001b[0m\u001b[1;33m\u001b[0m\u001b[1;33m\u001b[0m\u001b[0m\n",
      "\u001b[1;31mValueError\u001b[0m: operands could not be broadcast together with shapes (17,2) (1,17) "
     ]
    }
   ],
   "source": [
    "modelx.train_hmm(obs, num_iter, count)\n"
   ]
  }
 ],
 "metadata": {
  "kernelspec": {
   "display_name": "Python 3",
   "language": "python",
   "name": "python3"
  },
  "language_info": {
   "codemirror_mode": {
    "name": "ipython",
    "version": 3
   },
   "file_extension": ".py",
   "mimetype": "text/x-python",
   "name": "python",
   "nbconvert_exporter": "python",
   "pygments_lexer": "ipython3",
   "version": "3.7.3"
  }
 },
 "nbformat": 4,
 "nbformat_minor": 2
}
