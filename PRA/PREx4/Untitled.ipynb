{
 "cells": [
  {
   "cell_type": "markdown",
   "metadata": {},
   "source": [
    "## Libraries Imported for this exercise"
   ]
  },
  {
   "cell_type": "code",
   "execution_count": 2,
   "metadata": {},
   "outputs": [],
   "source": [
    "import numpy as np\n",
    "import matplotlib.pyplot as plt\n",
    "\n",
    "from scipy import signal\n",
    "from scipy.io import wavfile\n",
    "\n",
    "#from hidden_markov import hmm"
   ]
  },
  {
   "cell_type": "markdown",
   "metadata": {},
   "source": [
    "## Alphabet and morse code"
   ]
  },
  {
   "cell_type": "code",
   "execution_count": 4,
   "metadata": {},
   "outputs": [],
   "source": [
    "alphabet = list('abcdefghijklmnopqrstuvwxyz-')\n",
    "values = ['.-', '-...', '-.-.', '-..', '.', '..-.', '--.', '....', '..', '.---', '-.-', \n",
    "          '.-..', '--', '-.','---', '.--.', '--.-', \n",
    "          '.-.', '...', '-', '..-', '...-', '.--', '-..-', '-.--', '--..','-....-']\n",
    "\n",
    "morse_dict = dict(zip(alphabet, values))\n",
    "ascii_dict = dict(map(reversed, morse_dict.items())) # inverse mapping\n",
    "\n",
    "# convert text to morse code\n",
    "def morse_encode(text):\n",
    "    return ' '.join([''.join(morse_dict.get(i, '')) for i in text.lower()])\n",
    " \n",
    "# convert morse code to text\n",
    "def morse_decode(code):\n",
    "    return ''.join([ascii_dict.get(i, '') for i in code.split(' ')])"
   ]
  },
  {
   "cell_type": "code",
   "execution_count": 10,
   "metadata": {},
   "outputs": [
    {
     "data": {
      "image/png": "[encoded data removed]",
      "text/plain": [
       "<Figure size 432x288 with 1 Axes>"
      ]
     },
     "metadata": {
      "needs_background": "light"
     },
     "output_type": "display_data"
    }
   ],
   "source": [
    "fs, data = wavfile.read('C:/home/stefan/PRA/morse.wav')\n",
    "\n",
    "# spectral representation\n",
    "f, t, S = signal.spectrogram(data, fs)\n",
    "\n",
    "plt.figure(0) # spectrogram\n",
    "plt.pcolormesh(t, f, S)\n",
    "plt.ylabel('frequency [Hz]')\n",
    "plt.xlabel('time [sec]')\n",
    "plt.title('spectrogram')\n",
    "plt.show()"
   ]
  },
  {
   "cell_type": "code",
   "execution_count": 39,
   "metadata": {},
   "outputs": [
    {
     "name": "stdout",
     "output_type": "stream",
     "text": [
      "[   0.     31.25   62.5    93.75  125.    156.25  187.5   218.75  250.\n",
      "  281.25  312.5   343.75  375.    406.25  437.5   468.75  500.    531.25\n",
      "  562.5   593.75  625.    656.25  687.5   718.75  750.    781.25  812.5\n",
      "  843.75  875.    906.25  937.5   968.75 1000.   1031.25 1062.5  1093.75\n",
      " 1125.   1156.25 1187.5  1218.75 1250.   1281.25 1312.5  1343.75 1375.\n",
      " 1406.25 1437.5  1468.75 1500.   1531.25 1562.5  1593.75 1625.   1656.25\n",
      " 1687.5  1718.75 1750.   1781.25 1812.5  1843.75 1875.   1906.25 1937.5\n",
      " 1968.75 2000.   2031.25 2062.5  2093.75 2125.   2156.25 2187.5  2218.75\n",
      " 2250.   2281.25 2312.5  2343.75 2375.   2406.25 2437.5  2468.75 2500.\n",
      " 2531.25 2562.5  2593.75 2625.   2656.25 2687.5  2718.75 2750.   2781.25\n",
      " 2812.5  2843.75 2875.   2906.25 2937.5  2968.75 3000.   3031.25 3062.5\n",
      " 3093.75 3125.   3156.25 3187.5  3218.75 3250.   3281.25 3312.5  3343.75\n",
      " 3375.   3406.25 3437.5  3468.75 3500.   3531.25 3562.5  3593.75 3625.\n",
      " 3656.25 3687.5  3718.75 3750.   3781.25 3812.5  3843.75 3875.   3906.25\n",
      " 3937.5  3968.75 4000.  ]\n"
     ]
    }
   ],
   "source": [
    "print(f\n",
    "     )"
   ]
  },
  {
   "cell_type": "code",
   "execution_count": 16,
   "metadata": {},
   "outputs": [
    {
     "name": "stdout",
     "output_type": "stream",
     "text": [
      "8000\n"
     ]
    }
   ],
   "source": [
    "print(fs)"
   ]
  },
  {
   "cell_type": "code",
   "execution_count": 15,
   "metadata": {},
   "outputs": [
    {
     "data": {
      "image/png": "[encoded data removed]",
      "text/plain": [
       "<Figure size 432x288 with 1 Axes>"
      ]
     },
     "metadata": {
      "needs_background": "light"
     },
     "output_type": "display_data"
    }
   ],
   "source": [
    "plt.hist(data)\n",
    "plt.show()"
   ]
  },
  {
   "cell_type": "code",
   "execution_count": 8,
   "metadata": {},
   "outputs": [
    {
     "ename": "IndexError",
     "evalue": "index 600 is out of bounds for axis 0 with size 129",
     "output_type": "error",
     "traceback": [
      "\u001b[1;31m---------------------------------------------------------------------------\u001b[0m",
      "\u001b[1;31mIndexError\u001b[0m                                Traceback (most recent call last)",
      "\u001b[1;32m<ipython-input-8-2d54f46720b4>\u001b[0m in \u001b[0;36m<module>\u001b[1;34m\u001b[0m\n\u001b[0;32m      1\u001b[0m \u001b[0mf_index\u001b[0m \u001b[1;33m=\u001b[0m \u001b[1;36m600\u001b[0m   \u001b[1;31m# select frequency components closest to 600 Hz\u001b[0m\u001b[1;33m\u001b[0m\u001b[1;33m\u001b[0m\u001b[0m\n\u001b[0;32m      2\u001b[0m \u001b[1;33m\u001b[0m\u001b[0m\n\u001b[1;32m----> 3\u001b[1;33m \u001b[0mbinary_data\u001b[0m \u001b[1;33m=\u001b[0m \u001b[0mS\u001b[0m\u001b[1;33m[\u001b[0m\u001b[0mf_index\u001b[0m\u001b[1;33m,\u001b[0m\u001b[1;33m:\u001b[0m\u001b[1;33m]\u001b[0m   \u001b[1;31m# convert to binary data\u001b[0m\u001b[1;33m\u001b[0m\u001b[1;33m\u001b[0m\u001b[0m\n\u001b[0m\u001b[0;32m      4\u001b[0m \u001b[1;33m\u001b[0m\u001b[0m\n\u001b[0;32m      5\u001b[0m \u001b[0mplt\u001b[0m\u001b[1;33m.\u001b[0m\u001b[0mfigure\u001b[0m\u001b[1;33m(\u001b[0m\u001b[1;36m1\u001b[0m\u001b[1;33m)\u001b[0m    \u001b[1;31m# binary sequence\u001b[0m\u001b[1;33m\u001b[0m\u001b[1;33m\u001b[0m\u001b[0m\n",
      "\u001b[1;31mIndexError\u001b[0m: index 600 is out of bounds for axis 0 with size 129"
     ]
    }
   ],
   "source": [
    "f_index = 600   # select frequency components closest to 600 Hz\n",
    "\n",
    "#binary_data = S[f_index,:]   # convert to binary data\n",
    "w.readframes(w.getnframes())\n",
    "plt.figure(1)    # binary sequence\n",
    "plt.plot(t,binary_data,'ro', markersize=1)\n",
    "plt.ylabel('signal')\n",
    "plt.xlabel('time [sec]')\n",
    "plt.title('binary signal')\n",
    "plt.show()"
   ]
  },
  {
   "cell_type": "code",
   "execution_count": null,
   "metadata": {},
   "outputs": [],
   "source": []
  },
  {
   "cell_type": "code",
   "execution_count": null,
   "metadata": {},
   "outputs": [],
   "source": []
  },
  {
   "cell_type": "code",
   "execution_count": null,
   "metadata": {},
   "outputs": [],
   "source": []
  },
  {
   "cell_type": "code",
   "execution_count": null,
   "metadata": {},
   "outputs": [],
   "source": []
  },
  {
   "cell_type": "code",
   "execution_count": null,
   "metadata": {},
   "outputs": [],
   "source": []
  }
 ],
 "metadata": {
  "kernelspec": {
   "display_name": "Python 3",
   "language": "python",
   "name": "python3"
  },
  "language_info": {
   "codemirror_mode": {
    "name": "ipython",
    "version": 3
   },
   "file_extension": ".py",
   "mimetype": "text/x-python",
   "name": "python",
   "nbconvert_exporter": "python",
   "pygments_lexer": "ipython3",
   "version": "3.7.3"
  }
 },
 "nbformat": 4,
 "nbformat_minor": 2
}
