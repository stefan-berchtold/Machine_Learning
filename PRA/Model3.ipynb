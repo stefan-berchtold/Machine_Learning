{
 "cells": [
  {
   "cell_type": "markdown",
   "metadata": {},
   "source": [
    "## Libraries "
   ]
  },
  {
   "cell_type": "code",
   "execution_count": 1,
   "metadata": {},
   "outputs": [],
   "source": [
    "import random\n",
    "import numpy as np\n",
    "import string\n",
    "import matplotlib.pyplot as plt\n",
    "from keras.models import Sequential, load_model\n",
    "from keras import layers"
   ]
  },
  {
   "cell_type": "markdown",
   "metadata": {},
   "source": [
    "## Morse dictionary"
   ]
  },
  {
   "cell_type": "code",
   "execution_count": 2,
   "metadata": {},
   "outputs": [],
   "source": [
    "# basic morse dictionary, we use '-' to mark word spaces\n",
    "\n",
    "alphabet = list('abcdefghijklmnopqrstuvwxyz-')\n",
    "values = ['.-', '-...', '-.-.', '-..', '.', '..-.', '--.', '....', '..', '.---', '-.-', \n",
    "          '.-..', '--', '-.','---', '.--.', '--.-', \n",
    "          '.-.', '...', '-', '..-', '...-', '.--', '-..-', '-.--', '--..','-....-']\n",
    "\n",
    "morse_dict = dict(zip(alphabet, values))\n",
    "ascii_dict = dict(map(reversed, morse_dict.items())) # inverse mapping\n",
    "\n",
    "# convert text to morse code\n",
    "def morse_encode(text):\n",
    "    t = ''.join([c for c in text.lower() if c in alphabet])\n",
    "    return ' '.join([''.join(morse_dict[i]) for i in t])\n",
    " \n",
    "# convert morse code to text\n",
    "def morse_decode(code):\n",
    "    return ''.join([ascii_dict[i] for i in code.split(' ')])"
   ]
  },
  {
   "cell_type": "markdown",
   "metadata": {},
   "source": [
    "## Generating data for training"
   ]
  },
  {
   "cell_type": "code",
   "execution_count": 3,
   "metadata": {},
   "outputs": [],
   "source": [
    "word_len = 6                                    # number of characters output\n",
    "\n",
    "max_len_x = len(max(values, key=len))*word_len+(word_len-1)  # number of morse symbols\n",
    "max_len_y = word_len\n",
    "    \n",
    "# generate data for training \n",
    "\n",
    "def generate_data (n):\n",
    "    output_list = [(''.join([random.choice(string.ascii_lowercase + '-') \n",
    "        for _ in range(word_len)])) \n",
    "            for _ in range(n)]\n",
    "    return  output_list, [morse_encode(s) for s in output_list]\n",
    "    \n",
    "output_list, input_list = generate_data(10000)"
   ]
  },
  {
   "cell_type": "markdown",
   "metadata": {},
   "source": [
    "## Embedding, simply my mapping a one-hot encoding"
   ]
  },
  {
   "cell_type": "code",
   "execution_count": 4,
   "metadata": {},
   "outputs": [],
   "source": [
    "class Embedding(object):\n",
    "    def __init__(self, chars):\n",
    "        self.chars = sorted(set(chars))\n",
    "        self.char_indices = dict((c, i) for i, c in\n",
    "                                            enumerate(self.chars))\n",
    "        self.indices_char = dict((i, c) for i, c in \n",
    "                                            enumerate(self.chars))\n",
    "    def encode(self, token, num_rows):\n",
    "        x = np.zeros((num_rows, len(self.chars)))   # zeros, except ..\n",
    "        for i, c in enumerate(token):               # one \n",
    "            x[i, self.char_indices[c]] = 1\n",
    "        return x\n",
    "    \n",
    "    def decode(self, x):\n",
    "        x = [x.argmax(axis=-1)]\n",
    "        return ''.join(self.indices_char[int(v)] for v in x)\n",
    "    "
   ]
  },
  {
   "cell_type": "markdown",
   "metadata": {},
   "source": [
    "## Prepare data for feeding to network, i.e. represent by one-hot encoding"
   ]
  },
  {
   "cell_type": "code",
   "execution_count": 5,
   "metadata": {},
   "outputs": [
    {
     "name": "stdout",
     "output_type": "stream",
     "text": [
      "-- .-. -....- ... ...- -                  mr-svt\n",
      "-.-. ..- .... --- -....- -..              cuho-d\n",
      ".-. - -.- -..- --.. .-.                   rtkxzr\n",
      "-..- .-- --.. ...- ..- --.-               xwzvuq\n",
      "-.-- -.-. -..- .. --.- .--                ycxiqw\n"
     ]
    }
   ],
   "source": [
    "# character sets used at input (morse code) and output (text)\n",
    "\n",
    "chars_in = '-. '\n",
    "chars_out = ''.join(alphabet)\n",
    "\n",
    "embedding_in = Embedding(chars_in)\n",
    "embedding_out = Embedding(chars_out)\n",
    "\n",
    "# x : input to encoder, y : output from decoder\n",
    "x = np.zeros((len(input_list), max_len_x, len(chars_in)))\n",
    "y = np.zeros((len(output_list), max_len_y, len(chars_out)))\n",
    "\n",
    "for i, token in enumerate(input_list):\n",
    "    x[i] = embedding_in.encode(token, max_len_x)\n",
    "    \n",
    "for i, token in enumerate(output_list):\n",
    "    y[i] = embedding_out.encode(token, max_len_y)\n",
    "    \n",
    "# split data set : 3/4 for training, 1/4 for evaluation\n",
    "m = 3*len(x)// 4\n",
    "(x_train, x_val) = x[:m], x[m:]\n",
    "(y_train, y_val) = y[:m], y[m:]\n",
    "\n",
    "# show some examples ...\n",
    "for i in range(5):\n",
    "    print(''.join([embedding_in.decode(token) for token in x_train[i]]),\n",
    "          ''.join([embedding_out.decode(token) for token in y_train[i]]))"
   ]
  },
  {
   "cell_type": "markdown",
   "metadata": {},
   "source": [
    "## Create model"
   ]
  },
  {
   "cell_type": "code",
   "execution_count": 6,
   "metadata": {},
   "outputs": [
    {
     "name": "stdout",
     "output_type": "stream",
     "text": [
      "Model: \"sequential\"\n",
      "_________________________________________________________________\n",
      "Layer (type)                 Output Shape              Param #   \n",
      "=================================================================\n",
      "lstm (LSTM)                  (None, 200)               163200    \n",
      "_________________________________________________________________\n",
      "repeat_vector (RepeatVector) (None, 6, 200)            0         \n",
      "_________________________________________________________________\n",
      "lstm_1 (LSTM)                (None, 6, 200)            320800    \n",
      "_________________________________________________________________\n",
      "time_distributed (TimeDistri (None, 6, 27)             5427      \n",
      "_________________________________________________________________\n",
      "activation (Activation)      (None, 6, 27)             0         \n",
      "=================================================================\n",
      "Total params: 489,427\n",
      "Trainable params: 489,427\n",
      "Non-trainable params: 0\n",
      "_________________________________________________________________\n"
     ]
    }
   ],
   "source": [
    "latent_dim = 200\n",
    "\n",
    "model = Sequential()\n",
    "model.add(layers.LSTM(latent_dim, input_shape=(max_len_x,len(chars_in))))\n",
    "model.add(layers.RepeatVector(max_len_y))\n",
    "model.add(layers.LSTM(latent_dim, return_sequences=True))\n",
    "model.add(layers.TimeDistributed(layers.Dense(len(chars_out))))\n",
    "model.add(layers.Activation('softmax'))\n",
    "model.compile(loss='categorical_crossentropy', optimizer='adam', \n",
    "              metrics=['accuracy'])\n",
    "model.summary()"
   ]
  },
  {
   "cell_type": "markdown",
   "metadata": {},
   "source": [
    "## Train model"
   ]
  },
  {
   "cell_type": "code",
   "execution_count": 7,
   "metadata": {},
   "outputs": [
    {
     "name": "stdout",
     "output_type": "stream",
     "text": [
      "Epoch 1/100\n",
      "750/750 [==============================] - 13s 17ms/step - loss: 3.1467 - accuracy: 0.0762 - val_loss: 3.1201 - val_accuracy: 0.0757\n",
      "Epoch 2/100\n",
      "750/750 [==============================] - 14s 18ms/step - loss: 3.0421 - accuracy: 0.1010 - val_loss: 2.9079 - val_accuracy: 0.1449\n",
      "Epoch 3/100\n",
      "750/750 [==============================] - 14s 18ms/step - loss: 2.8057 - accuracy: 0.1783 - val_loss: 2.6599 - val_accuracy: 0.2231\n",
      "Epoch 4/100\n",
      "750/750 [==============================] - 14s 19ms/step - loss: 2.6133 - accuracy: 0.2317 - val_loss: 2.5715 - val_accuracy: 0.2401\n",
      "Epoch 5/100\n",
      "750/750 [==============================] - 15s 19ms/step - loss: 2.4986 - accuracy: 0.2570 - val_loss: 2.3972 - val_accuracy: 0.2829\n",
      "Epoch 6/100\n",
      "750/750 [==============================] - 15s 20ms/step - loss: 2.3835 - accuracy: 0.2867 - val_loss: 2.3144 - val_accuracy: 0.3015\n",
      "Epoch 7/100\n",
      "750/750 [==============================] - 15s 20ms/step - loss: 2.2669 - accuracy: 0.3194 - val_loss: 2.1902 - val_accuracy: 0.3419\n",
      "Epoch 8/100\n",
      "750/750 [==============================] - 16s 21ms/step - loss: 2.0954 - accuracy: 0.3683 - val_loss: 2.1639 - val_accuracy: 0.3373\n",
      "Epoch 9/100\n",
      "750/750 [==============================] - 15s 20ms/step - loss: 1.9337 - accuracy: 0.4174 - val_loss: 1.8988 - val_accuracy: 0.4124\n",
      "Epoch 10/100\n",
      "750/750 [==============================] - 15s 20ms/step - loss: 1.8241 - accuracy: 0.4438 - val_loss: 1.8345 - val_accuracy: 0.4342\n",
      "Epoch 11/100\n",
      "750/750 [==============================] - 15s 20ms/step - loss: 1.6629 - accuracy: 0.4872 - val_loss: 1.6003 - val_accuracy: 0.5015\n",
      "Epoch 12/100\n",
      "750/750 [==============================] - 15s 20ms/step - loss: 1.5421 - accuracy: 0.5214 - val_loss: 1.4539 - val_accuracy: 0.5435\n",
      "Epoch 13/100\n",
      "750/750 [==============================] - 15s 20ms/step - loss: 1.4122 - accuracy: 0.5595 - val_loss: 1.3693 - val_accuracy: 0.5715\n",
      "Epoch 14/100\n",
      "750/750 [==============================] - 15s 20ms/step - loss: 1.2935 - accuracy: 0.5908 - val_loss: 1.2594 - val_accuracy: 0.5859\n",
      "Epoch 15/100\n",
      "750/750 [==============================] - 15s 20ms/step - loss: 1.1259 - accuracy: 0.6343 - val_loss: 1.2094 - val_accuracy: 0.5815\n",
      "Epoch 16/100\n",
      "750/750 [==============================] - 15s 20ms/step - loss: 1.0101 - accuracy: 0.6611 - val_loss: 1.0054 - val_accuracy: 0.6531\n",
      "Epoch 17/100\n",
      "750/750 [==============================] - 15s 20ms/step - loss: 0.9161 - accuracy: 0.6887 - val_loss: 0.9127 - val_accuracy: 0.6836\n",
      "Epoch 18/100\n",
      "750/750 [==============================] - 16s 21ms/step - loss: 0.8607 - accuracy: 0.7018 - val_loss: 0.8551 - val_accuracy: 0.6911\n",
      "Epoch 19/100\n",
      "750/750 [==============================] - 16s 21ms/step - loss: 0.7736 - accuracy: 0.7336 - val_loss: 0.7667 - val_accuracy: 0.7277\n",
      "Epoch 20/100\n",
      "750/750 [==============================] - 16s 21ms/step - loss: 0.7016 - accuracy: 0.7622 - val_loss: 0.6956 - val_accuracy: 0.7497\n",
      "Epoch 21/100\n",
      "750/750 [==============================] - 16s 21ms/step - loss: 0.5945 - accuracy: 0.8057 - val_loss: 0.6361 - val_accuracy: 0.7777\n",
      "Epoch 22/100\n",
      "750/750 [==============================] - 17s 22ms/step - loss: 0.5490 - accuracy: 0.8187 - val_loss: 0.5665 - val_accuracy: 0.8102\n",
      "Epoch 23/100\n",
      "750/750 [==============================] - 15s 21ms/step - loss: 0.4972 - accuracy: 0.8356 - val_loss: 0.5419 - val_accuracy: 0.8095\n",
      "Epoch 24/100\n",
      "750/750 [==============================] - 16s 22ms/step - loss: 0.4646 - accuracy: 0.8470 - val_loss: 0.4603 - val_accuracy: 0.8424\n",
      "Epoch 25/100\n",
      "750/750 [==============================] - 17s 23ms/step - loss: 0.4294 - accuracy: 0.8576 - val_loss: 0.4778 - val_accuracy: 0.8333\n",
      "Epoch 26/100\n",
      "750/750 [==============================] - 16s 21ms/step - loss: 0.3741 - accuracy: 0.8802 - val_loss: 0.4152 - val_accuracy: 0.8579\n",
      "Epoch 27/100\n",
      "750/750 [==============================] - 15s 21ms/step - loss: 0.3544 - accuracy: 0.8853 - val_loss: 0.3652 - val_accuracy: 0.8745\n",
      "Epoch 28/100\n",
      "750/750 [==============================] - 15s 21ms/step - loss: 0.3163 - accuracy: 0.9015 - val_loss: 0.3618 - val_accuracy: 0.8785\n",
      "Epoch 29/100\n",
      "750/750 [==============================] - 16s 21ms/step - loss: 0.2186 - accuracy: 0.9441 - val_loss: 0.2125 - val_accuracy: 0.9433\n",
      "Epoch 30/100\n",
      "750/750 [==============================] - 15s 20ms/step - loss: 0.2068 - accuracy: 0.9445 - val_loss: 0.1602 - val_accuracy: 0.9629\n",
      "Epoch 31/100\n",
      "750/750 [==============================] - 15s 20ms/step - loss: 0.1625 - accuracy: 0.9607 - val_loss: 0.1258 - val_accuracy: 0.9750\n",
      "Epoch 32/100\n",
      "750/750 [==============================] - 15s 20ms/step - loss: 0.1561 - accuracy: 0.9597 - val_loss: 0.1618 - val_accuracy: 0.9599\n",
      "Epoch 33/100\n",
      "750/750 [==============================] - 15s 20ms/step - loss: 0.1223 - accuracy: 0.9713 - val_loss: 0.1708 - val_accuracy: 0.9508\n",
      "Epoch 34/100\n",
      "750/750 [==============================] - 15s 21ms/step - loss: 0.1309 - accuracy: 0.9658 - val_loss: 0.1900 - val_accuracy: 0.9430\n",
      "Epoch 35/100\n",
      "750/750 [==============================] - 16s 21ms/step - loss: 0.1192 - accuracy: 0.9685 - val_loss: 0.1244 - val_accuracy: 0.9663\n",
      "Epoch 36/100\n",
      "750/750 [==============================] - 16s 21ms/step - loss: 0.0995 - accuracy: 0.9754 - val_loss: 0.1354 - val_accuracy: 0.9603\n",
      "Epoch 37/100\n",
      "750/750 [==============================] - 16s 21ms/step - loss: 0.1149 - accuracy: 0.9680 - val_loss: 0.1538 - val_accuracy: 0.9530\n",
      "Epoch 38/100\n",
      "750/750 [==============================] - 16s 21ms/step - loss: 0.0857 - accuracy: 0.9776 - val_loss: 0.2520 - val_accuracy: 0.9174\n",
      "Epoch 39/100\n",
      "750/750 [==============================] - 16s 21ms/step - loss: 0.0810 - accuracy: 0.9789 - val_loss: 0.2431 - val_accuracy: 0.9192\n",
      "Epoch 40/100\n",
      "750/750 [==============================] - 16s 22ms/step - loss: 0.1020 - accuracy: 0.9709 - val_loss: 0.2000 - val_accuracy: 0.9315\n",
      "Epoch 41/100\n",
      "750/750 [==============================] - 16s 21ms/step - loss: 0.0513 - accuracy: 0.9880 - val_loss: 0.1226 - val_accuracy: 0.9618\n",
      "Epoch 42/100\n",
      "750/750 [==============================] - 16s 21ms/step - loss: 0.1033 - accuracy: 0.9682 - val_loss: 0.0386 - val_accuracy: 0.9926\n",
      "Epoch 43/100\n",
      "750/750 [==============================] - 16s 22ms/step - loss: 0.0813 - accuracy: 0.9771 - val_loss: 0.0409 - val_accuracy: 0.9922\n",
      "Epoch 44/100\n",
      "750/750 [==============================] - 16s 21ms/step - loss: 0.0679 - accuracy: 0.9805 - val_loss: 0.2642 - val_accuracy: 0.9060\n",
      "Epoch 45/100\n",
      "750/750 [==============================] - 16s 22ms/step - loss: 0.0578 - accuracy: 0.9850 - val_loss: 0.0506 - val_accuracy: 0.9877\n",
      "Epoch 46/100\n",
      "750/750 [==============================] - 16s 22ms/step - loss: 0.0787 - accuracy: 0.9763 - val_loss: 0.1240 - val_accuracy: 0.9592\n",
      "Epoch 47/100\n",
      "750/750 [==============================] - 16s 21ms/step - loss: 0.0402 - accuracy: 0.9905 - val_loss: 0.0239 - val_accuracy: 0.9958\n",
      "Epoch 48/100\n",
      "750/750 [==============================] - 16s 21ms/step - loss: 0.0921 - accuracy: 0.9716 - val_loss: 0.0649 - val_accuracy: 0.9825\n",
      "Epoch 49/100\n",
      "750/750 [==============================] - 16s 22ms/step - loss: 0.0260 - accuracy: 0.9951 - val_loss: 0.0652 - val_accuracy: 0.9815\n",
      "Epoch 50/100\n",
      "750/750 [==============================] - 16s 21ms/step - loss: 0.0837 - accuracy: 0.9749 - val_loss: 0.0178 - val_accuracy: 0.9981\n",
      "Epoch 51/100\n",
      "750/750 [==============================] - 16s 21ms/step - loss: 0.0456 - accuracy: 0.9877 - val_loss: 0.1322 - val_accuracy: 0.9568\n",
      "Epoch 52/100\n",
      "750/750 [==============================] - 16s 21ms/step - loss: 0.0582 - accuracy: 0.9839 - val_loss: 0.0682 - val_accuracy: 0.9813\n",
      "Epoch 53/100\n",
      "750/750 [==============================] - 16s 21ms/step - loss: 0.0722 - accuracy: 0.9780 - val_loss: 0.0820 - val_accuracy: 0.9758\n",
      "Epoch 54/100\n",
      "750/750 [==============================] - 16s 21ms/step - loss: 0.0331 - accuracy: 0.9924 - val_loss: 0.0467 - val_accuracy: 0.9877\n",
      "Epoch 55/100\n",
      "750/750 [==============================] - 16s 21ms/step - loss: 0.0663 - accuracy: 0.9806 - val_loss: 0.0238 - val_accuracy: 0.9951\n",
      "Epoch 56/100\n",
      "750/750 [==============================] - 16s 21ms/step - loss: 0.0430 - accuracy: 0.9875 - val_loss: 0.1728 - val_accuracy: 0.9403\n",
      "Epoch 57/100\n"
     ]
    },
    {
     "name": "stdout",
     "output_type": "stream",
     "text": [
      "750/750 [==============================] - 15s 21ms/step - loss: 0.0434 - accuracy: 0.9874 - val_loss: 0.0343 - val_accuracy: 0.9914\n",
      "Epoch 58/100\n",
      "750/750 [==============================] - 16s 22ms/step - loss: 0.0640 - accuracy: 0.9801 - val_loss: 0.1507 - val_accuracy: 0.9489\n",
      "Epoch 59/100\n",
      "750/750 [==============================] - 16s 21ms/step - loss: 0.0233 - accuracy: 0.9947 - val_loss: 0.0088 - val_accuracy: 0.9991\n",
      "Epoch 60/100\n",
      "750/750 [==============================] - 16s 21ms/step - loss: 0.0739 - accuracy: 0.9764 - val_loss: 0.0423 - val_accuracy: 0.9887\n",
      "Epoch 61/100\n",
      "750/750 [==============================] - 15s 20ms/step - loss: 0.0103 - accuracy: 0.9986 - val_loss: 0.0082 - val_accuracy: 0.9992\n",
      "Epoch 62/100\n",
      "750/750 [==============================] - 16s 21ms/step - loss: 0.0782 - accuracy: 0.9759 - val_loss: 0.2075 - val_accuracy: 0.9378\n",
      "Epoch 63/100\n",
      "750/750 [==============================] - 16s 21ms/step - loss: 0.0238 - accuracy: 0.9947 - val_loss: 0.0092 - val_accuracy: 0.9991\n",
      "Epoch 64/100\n",
      "750/750 [==============================] - 16s 21ms/step - loss: 0.0461 - accuracy: 0.9854 - val_loss: 0.2215 - val_accuracy: 0.9265\n",
      "Epoch 65/100\n",
      "750/750 [==============================] - 16s 21ms/step - loss: 0.0388 - accuracy: 0.9894 - val_loss: 0.0373 - val_accuracy: 0.9892\n",
      "Epoch 66/100\n",
      "750/750 [==============================] - 16s 21ms/step - loss: 0.0391 - accuracy: 0.9888 - val_loss: 0.1344 - val_accuracy: 0.9538\n",
      "Epoch 67/100\n",
      "750/750 [==============================] - 16s 21ms/step - loss: 0.0281 - accuracy: 0.9926 - val_loss: 0.0302 - val_accuracy: 0.9925\n",
      "Epoch 68/100\n",
      "750/750 [==============================] - 16s 21ms/step - loss: 0.0518 - accuracy: 0.9839 - val_loss: 0.0205 - val_accuracy: 0.9948\n",
      "Epoch 69/100\n",
      "750/750 [==============================] - 16s 21ms/step - loss: 0.0225 - accuracy: 0.9938 - val_loss: 0.1456 - val_accuracy: 0.9493\n",
      "Epoch 70/100\n",
      "750/750 [==============================] - 16s 21ms/step - loss: 0.0390 - accuracy: 0.9884 - val_loss: 0.0086 - val_accuracy: 0.9987\n",
      "Epoch 71/100\n",
      "750/750 [==============================] - 16s 21ms/step - loss: 0.0024 - accuracy: 1.0000 - val_loss: 0.0043 - val_accuracy: 0.9996\n",
      "Epoch 72/100\n",
      "750/750 [==============================] - 16s 22ms/step - loss: 0.0015 - accuracy: 1.0000 - val_loss: 0.0035 - val_accuracy: 0.9997\n",
      "Epoch 73/100\n",
      "750/750 [==============================] - 16s 21ms/step - loss: 0.0011 - accuracy: 1.0000 - val_loss: 0.0030 - val_accuracy: 0.9997\n",
      "Epoch 74/100\n",
      "750/750 [==============================] - 16s 21ms/step - loss: 8.8067e-04 - accuracy: 1.0000 - val_loss: 0.0024 - val_accuracy: 0.9999\n",
      "Epoch 75/100\n",
      "750/750 [==============================] - 16s 21ms/step - loss: 6.9524e-04 - accuracy: 1.0000 - val_loss: 0.0022 - val_accuracy: 0.9999\n",
      "Epoch 76/100\n",
      "750/750 [==============================] - 16s 21ms/step - loss: 5.5670e-04 - accuracy: 1.0000 - val_loss: 0.0020 - val_accuracy: 0.9999\n",
      "Epoch 77/100\n",
      "750/750 [==============================] - 16s 21ms/step - loss: 4.3176e-04 - accuracy: 1.0000 - val_loss: 0.0018 - val_accuracy: 0.9998\n",
      "Epoch 78/100\n",
      "750/750 [==============================] - 16s 21ms/step - loss: 3.3387e-04 - accuracy: 1.0000 - val_loss: 0.0017 - val_accuracy: 0.9997\n",
      "Epoch 79/100\n",
      "750/750 [==============================] - 16s 21ms/step - loss: 0.1860 - accuracy: 0.9613 - val_loss: 0.1682 - val_accuracy: 0.9450\n",
      "Epoch 80/100\n",
      "750/750 [==============================] - 17s 22ms/step - loss: 0.0321 - accuracy: 0.9919 - val_loss: 0.0211 - val_accuracy: 0.9947\n",
      "Epoch 81/100\n",
      "750/750 [==============================] - 16s 21ms/step - loss: 0.0199 - accuracy: 0.9944 - val_loss: 0.0994 - val_accuracy: 0.9676\n",
      "Epoch 82/100\n",
      "750/750 [==============================] - 16s 21ms/step - loss: 0.0408 - accuracy: 0.9871 - val_loss: 0.0222 - val_accuracy: 0.9933\n",
      "Epoch 83/100\n",
      "750/750 [==============================] - 16s 21ms/step - loss: 0.0320 - accuracy: 0.9907 - val_loss: 0.1382 - val_accuracy: 0.9530\n",
      "Epoch 84/100\n",
      "750/750 [==============================] - 16s 21ms/step - loss: 0.0392 - accuracy: 0.9882 - val_loss: 0.0423 - val_accuracy: 0.9865\n",
      "Epoch 85/100\n",
      "750/750 [==============================] - 16s 21ms/step - loss: 0.0065 - accuracy: 0.9989 - val_loss: 0.0054 - val_accuracy: 0.9993\n",
      "Epoch 86/100\n",
      "750/750 [==============================] - 16s 21ms/step - loss: 0.0550 - accuracy: 0.9828 - val_loss: 0.0352 - val_accuracy: 0.9894\n",
      "Epoch 87/100\n",
      "750/750 [==============================] - 16s 21ms/step - loss: 0.0054 - accuracy: 0.9992 - val_loss: 0.0038 - val_accuracy: 0.9995\n",
      "Epoch 88/100\n",
      "750/750 [==============================] - 16s 22ms/step - loss: 0.0548 - accuracy: 0.9832 - val_loss: 0.0664 - val_accuracy: 0.9785\n",
      "Epoch 89/100\n",
      "750/750 [==============================] - 16s 21ms/step - loss: 0.0174 - accuracy: 0.9951 - val_loss: 0.0189 - val_accuracy: 0.9956\n",
      "Epoch 90/100\n",
      "750/750 [==============================] - 16s 21ms/step - loss: 0.0438 - accuracy: 0.9861 - val_loss: 0.0605 - val_accuracy: 0.9809\n",
      "Epoch 91/100\n",
      "750/750 [==============================] - 16s 22ms/step - loss: 0.0120 - accuracy: 0.9973 - val_loss: 0.0044 - val_accuracy: 0.9995\n",
      "Epoch 92/100\n",
      "750/750 [==============================] - 16s 22ms/step - loss: 0.0503 - accuracy: 0.9844 - val_loss: 0.0240 - val_accuracy: 0.9931\n",
      "Epoch 93/100\n",
      "750/750 [==============================] - 15s 21ms/step - loss: 0.0069 - accuracy: 0.9988 - val_loss: 0.0053 - val_accuracy: 0.9991\n",
      "Epoch 94/100\n",
      "750/750 [==============================] - 16s 21ms/step - loss: 0.0014 - accuracy: 1.0000 - val_loss: 0.0096 - val_accuracy: 0.9977\n",
      "Epoch 95/100\n",
      "750/750 [==============================] - 17s 23ms/step - loss: 0.0011 - accuracy: 1.0000 - val_loss: 0.0027 - val_accuracy: 0.9995\n",
      "Epoch 96/100\n",
      "750/750 [==============================] - 16s 21ms/step - loss: 6.5109e-04 - accuracy: 1.0000 - val_loss: 0.0020 - val_accuracy: 0.9996\n",
      "Epoch 97/100\n",
      "750/750 [==============================] - 16s 21ms/step - loss: 4.9431e-04 - accuracy: 1.0000 - val_loss: 0.0018 - val_accuracy: 0.9997\n",
      "Epoch 98/100\n",
      "750/750 [==============================] - 16s 21ms/step - loss: 3.9053e-04 - accuracy: 1.0000 - val_loss: 0.0016 - val_accuracy: 0.9996\n",
      "Epoch 99/100\n",
      "750/750 [==============================] - 15s 20ms/step - loss: 3.1001e-04 - accuracy: 1.0000 - val_loss: 0.0013 - val_accuracy: 0.9999\n",
      "Epoch 100/100\n",
      "750/750 [==============================] - 15s 20ms/step - loss: 2.4564e-04 - accuracy: 1.0000 - val_loss: 0.0015 - val_accuracy: 0.9997\n"
     ]
    },
    {
     "data": {
      "image/png": "[encoded data removed]",
      "text/plain": [
       "<Figure size 1080x360 with 2 Axes>"
      ]
     },
     "metadata": {
      "needs_background": "light"
     },
     "output_type": "display_data"
    }
   ],
   "source": [
    "Epochs = 100\n",
    "Batch_size = 10\n",
    "\n",
    "# train\n",
    "hist = model.fit(x_train, y_train, \n",
    "                 batch_size=Batch_size, epochs=Epochs, \n",
    "                 validation_data=(x_val, y_val))\n",
    "\n",
    "#show history of progress\n",
    "def show_progress():\n",
    "    plt.figure(figsize=(15,5))\n",
    "    plt.subplot(121)\n",
    "    plt.plot(hist.history['accuracy'])\n",
    "    plt.plot(hist.history['val_accuracy'])\n",
    "    plt.title('model accuracy')\n",
    "    plt.ylabel('accuracy')\n",
    "    plt.xlabel('epoch')\n",
    "    plt.legend(['train', 'validation'], loc='upper left')\n",
    "    plt.subplot(122)\n",
    "    plt.plot(hist.history['loss'])\n",
    "    plt.plot(hist.history['val_loss'])\n",
    "    plt.title('model loss')\n",
    "    plt.ylabel('loss')\n",
    "    plt.xlabel('epoch')\n",
    "    plt.legend(['train', 'validation'], loc='upper right')\n",
    "    plt.show()\n",
    "\n",
    "show_progress()"
   ]
  },
  {
   "cell_type": "markdown",
   "metadata": {},
   "source": [
    "## Test model"
   ]
  },
  {
   "cell_type": "code",
   "execution_count": 8,
   "metadata": {},
   "outputs": [
    {
     "name": "stdout",
     "output_type": "stream",
     "text": [
      ".- -... -.-. -.. . ..-.                   abcdef  <->  abcdef\n",
      "-....- .... ... .-.. ..- -....-           -hslu-  <->  -hslu-\n",
      ".... .- .... .- .... .-                   hahaha  <->  hahaha\n",
      "-....- -....- -....- -....- -....- -....- ----fh  <->  ------\n",
      "-..- -.-- --.. ..- ...- .--               xyzuvw  <->  xyzuvw\n",
      ".--. .. .--. .- .--. ---                  pipapo  <->  pipapo\n",
      ".... . .-.. .-.. --- -....-               hello-  <->  hello-\n",
      ".-- --- .-. .-.. -.. -....-               world-  <->  world-\n"
     ]
    }
   ],
   "source": [
    "test = ['abcdef', '-hslu-','hahaha','------','xyzuvw','pipapo','hello-','world-']\n",
    "        \n",
    "x = np.zeros((len(test), max_len_x, len(chars_in)))\n",
    "for i, token in enumerate(test):\n",
    "    x[i] = embedding_in.encode(morse_encode(token), max_len_x)\n",
    "\n",
    "pre = model.predict(x)\n",
    "\n",
    "for i in range(len(test)):\n",
    "    print(''.join([embedding_in.decode(code) for code in x[i]]),\n",
    "          ''.join([embedding_out.decode(code) for code in pre[i]]), ' <-> ', \n",
    "          ''.join(test[i]))"
   ]
  },
  {
   "cell_type": "markdown",
   "metadata": {},
   "source": [
    "## Save and load models"
   ]
  },
  {
   "cell_type": "code",
   "execution_count": 18,
   "metadata": {},
   "outputs": [],
   "source": [
    "model.save('model_5-7.h5')\n",
    "\n",
    "mx = load_model('model_5-7.h5')\n"
   ]
  },
  {
   "cell_type": "code",
   "execution_count": 3,
   "metadata": {},
   "outputs": [],
   "source": [
    "\n"
   ]
  }
 ],
 "metadata": {
  "kernelspec": {
   "display_name": "Python 3",
   "language": "python",
   "name": "python3"
  },
  "language_info": {
   "codemirror_mode": {
    "name": "ipython",
    "version": 3
   },
   "file_extension": ".py",
   "mimetype": "text/x-python",
   "name": "python",
   "nbconvert_exporter": "python",
   "pygments_lexer": "ipython3",
   "version": "3.7.3"
  }
 },
 "nbformat": 4,
 "nbformat_minor": 2
}
