{
 "cells": [
  {
   "cell_type": "markdown",
   "metadata": {},
   "source": [
    "## Libraries "
   ]
  },
  {
   "cell_type": "code",
   "execution_count": 35,
   "metadata": {},
   "outputs": [],
   "source": [
    "import random\n",
    "import numpy as np\n",
    "import string\n",
    "import matplotlib.pyplot as plt\n",
    "from keras.models import Sequential, load_model\n",
    "from keras import layers"
   ]
  },
  {
   "cell_type": "markdown",
   "metadata": {},
   "source": [
    "## Morse dictionary"
   ]
  },
  {
   "cell_type": "code",
   "execution_count": 36,
   "metadata": {},
   "outputs": [],
   "source": [
    "# basic morse dictionary, we use '-' to mark word spaces\n",
    "\n",
    "alphabet = list('abcdefghijklmnopqrstuvwxyz-')\n",
    "values = ['.-', '-...', '-.-.', '-..', '.', '..-.', '--.', '....', '..', '.---', '-.-', \n",
    "          '.-..', '--', '-.','---', '.--.', '--.-', \n",
    "          '.-.', '...', '-', '..-', '...-', '.--', '-..-', '-.--', '--..','-....-']\n",
    "\n",
    "morse_dict = dict(zip(alphabet, values))\n",
    "ascii_dict = dict(map(reversed, morse_dict.items())) # inverse mapping\n",
    "\n",
    "# convert text to morse code\n",
    "def morse_encode(text):\n",
    "    t = ''.join([c for c in text.lower() if c in alphabet])\n",
    "    return ' '.join([''.join(morse_dict[i]) for i in t])\n",
    " \n",
    "# convert morse code to text\n",
    "def morse_decode(code):\n",
    "    return ''.join([ascii_dict[i] for i in code.split(' ')])"
   ]
  },
  {
   "cell_type": "markdown",
   "metadata": {},
   "source": [
    "## Generating data for training"
   ]
  },
  {
   "cell_type": "code",
   "execution_count": 37,
   "metadata": {},
   "outputs": [],
   "source": [
    "word_len = 6                                    # number of characters output\n",
    "\n",
    "max_len_x = len(max(values, key=len))*word_len+(word_len-1)  # number of morse symbols\n",
    "max_len_y = word_len\n",
    "    \n",
    "# generate data for training \n",
    "\n",
    "def generate_data (n):\n",
    "    output_list = [(''.join([random.choice(string.ascii_lowercase + '-') \n",
    "        for _ in range(word_len)])) \n",
    "            for _ in range(n)]\n",
    "    return  output_list, [morse_encode(s) for s in output_list]\n",
    "    \n",
    "output_list, input_list = generate_data(10000)"
   ]
  },
  {
   "cell_type": "markdown",
   "metadata": {},
   "source": [
    "## Embedding, simply my mapping a one-hot encoding"
   ]
  },
  {
   "cell_type": "code",
   "execution_count": 38,
   "metadata": {},
   "outputs": [],
   "source": [
    "class Embedding(object):\n",
    "    def __init__(self, chars):\n",
    "        self.chars = sorted(set(chars))\n",
    "        self.char_indices = dict((c, i) for i, c in\n",
    "                                            enumerate(self.chars))\n",
    "        self.indices_char = dict((i, c) for i, c in \n",
    "                                            enumerate(self.chars))\n",
    "    def encode(self, token, num_rows):\n",
    "        x = np.zeros((num_rows, len(self.chars)))   # zeros, except ..\n",
    "        for i, c in enumerate(token):               # one \n",
    "            x[i, self.char_indices[c]] = 1\n",
    "        return x\n",
    "    \n",
    "    def decode(self, x):\n",
    "        x = [x.argmax(axis=-1)]\n",
    "        return ''.join(self.indices_char[int(v)] for v in x)\n",
    "    "
   ]
  },
  {
   "cell_type": "markdown",
   "metadata": {},
   "source": [
    "## Prepare data for feeding to network, i.e. represent by one-hot encoding"
   ]
  },
  {
   "cell_type": "code",
   "execution_count": 39,
   "metadata": {},
   "outputs": [
    {
     "name": "stdout",
     "output_type": "stream",
     "text": [
      "--.- .-.. -. ... --.- .                   qlnsqe\n",
      "--.- --. ... --.. --.- .--.               qgszqp\n",
      "-.. -- . ...- -- -..-                     dmevmx\n",
      "..-. --.. .--- .-. .- .--.                fzjrap\n",
      "..- -....- .-- ..-. -..- .--.             u-wfxp\n"
     ]
    }
   ],
   "source": [
    "# character sets used at input (morse code) and output (text)\n",
    "\n",
    "chars_in = '-. '\n",
    "chars_out = ''.join(alphabet)\n",
    "\n",
    "embedding_in = Embedding(chars_in)\n",
    "embedding_out = Embedding(chars_out)\n",
    "\n",
    "# x : input to encoder, y : output from decoder\n",
    "x = np.zeros((len(input_list), max_len_x, len(chars_in)))\n",
    "y = np.zeros((len(output_list), max_len_y, len(chars_out)))\n",
    "\n",
    "for i, token in enumerate(input_list):\n",
    "    x[i] = embedding_in.encode(token, max_len_x)\n",
    "    \n",
    "for i, token in enumerate(output_list):\n",
    "    y[i] = embedding_out.encode(token, max_len_y)\n",
    "    \n",
    "# split data set : 3/4 for training, 1/4 for evaluation\n",
    "m = 3*len(x)// 4\n",
    "(x_train, x_val) = x[:m], x[m:]\n",
    "(y_train, y_val) = y[:m], y[m:]\n",
    "\n",
    "# show some examples ...\n",
    "for i in range(5):\n",
    "    print(''.join([embedding_in.decode(token) for token in x_train[i]]),\n",
    "          ''.join([embedding_out.decode(token) for token in y_train[i]]))"
   ]
  },
  {
   "cell_type": "markdown",
   "metadata": {},
   "source": [
    "## Create model"
   ]
  },
  {
   "cell_type": "code",
   "execution_count": 40,
   "metadata": {},
   "outputs": [
    {
     "name": "stdout",
     "output_type": "stream",
     "text": [
      "Model: \"sequential_3\"\n",
      "_________________________________________________________________\n",
      "Layer (type)                 Output Shape              Param #   \n",
      "=================================================================\n",
      "lstm_6 (LSTM)                (None, 300)               364800    \n",
      "_________________________________________________________________\n",
      "repeat_vector_3 (RepeatVecto (None, 6, 300)            0         \n",
      "_________________________________________________________________\n",
      "lstm_7 (LSTM)                (None, 6, 300)            721200    \n",
      "_________________________________________________________________\n",
      "time_distributed_3 (TimeDist (None, 6, 27)             8127      \n",
      "_________________________________________________________________\n",
      "activation_3 (Activation)    (None, 6, 27)             0         \n",
      "=================================================================\n",
      "Total params: 1,094,127\n",
      "Trainable params: 1,094,127\n",
      "Non-trainable params: 0\n",
      "_________________________________________________________________\n"
     ]
    }
   ],
   "source": [
    "latent_dim = 300\n",
    "\n",
    "model = Sequential()\n",
    "model.add(layers.LSTM(latent_dim, input_shape=(max_len_x,len(chars_in))))\n",
    "model.add(layers.RepeatVector(max_len_y))\n",
    "model.add(layers.LSTM(latent_dim, return_sequences=True))\n",
    "model.add(layers.TimeDistributed(layers.Dense(len(chars_out))))\n",
    "model.add(layers.Activation('softmax'))\n",
    "model.compile(loss='categorical_crossentropy', optimizer='adam', \n",
    "              metrics=['accuracy'])\n",
    "model.summary()"
   ]
  },
  {
   "cell_type": "markdown",
   "metadata": {},
   "source": [
    "## Train model"
   ]
  },
  {
   "cell_type": "code",
   "execution_count": 41,
   "metadata": {},
   "outputs": [
    {
     "name": "stdout",
     "output_type": "stream",
     "text": [
      "Epoch 1/50\n",
      "150/150 [==============================] - 19s 126ms/step - loss: 3.1692 - accuracy: 0.0764 - val_loss: 3.1161 - val_accuracy: 0.0829\n",
      "Epoch 2/50\n",
      "150/150 [==============================] - 18s 122ms/step - loss: 3.0918 - accuracy: 0.0868 - val_loss: 3.0316 - val_accuracy: 0.0991\n",
      "Epoch 3/50\n",
      "150/150 [==============================] - 19s 125ms/step - loss: 2.9802 - accuracy: 0.1074 - val_loss: 2.9414 - val_accuracy: 0.1209\n",
      "Epoch 4/50\n",
      "150/150 [==============================] - 19s 127ms/step - loss: 2.8863 - accuracy: 0.1371 - val_loss: 2.7963 - val_accuracy: 0.1743\n",
      "Epoch 5/50\n",
      "150/150 [==============================] - 19s 128ms/step - loss: 2.7494 - accuracy: 0.1830 - val_loss: 2.7133 - val_accuracy: 0.1941\n",
      "Epoch 6/50\n",
      "150/150 [==============================] - 19s 128ms/step - loss: 2.6322 - accuracy: 0.2225 - val_loss: 2.5629 - val_accuracy: 0.2334\n",
      "Epoch 7/50\n",
      "150/150 [==============================] - 20s 134ms/step - loss: 2.5413 - accuracy: 0.2334 - val_loss: 2.4606 - val_accuracy: 0.2583\n",
      "Epoch 8/50\n",
      "150/150 [==============================] - 20s 134ms/step - loss: 2.3995 - accuracy: 0.2744 - val_loss: 2.3311 - val_accuracy: 0.2939\n",
      "Epoch 9/50\n",
      "150/150 [==============================] - 21s 138ms/step - loss: 2.2728 - accuracy: 0.3172 - val_loss: 2.2360 - val_accuracy: 0.3272\n",
      "Epoch 10/50\n",
      "150/150 [==============================] - 20s 133ms/step - loss: 2.1958 - accuracy: 0.3442 - val_loss: 2.1616 - val_accuracy: 0.3503\n",
      "Epoch 11/50\n",
      "150/150 [==============================] - 21s 137ms/step - loss: 2.1381 - accuracy: 0.3587 - val_loss: 2.1613 - val_accuracy: 0.3361\n",
      "Epoch 12/50\n",
      "150/150 [==============================] - 21s 137ms/step - loss: 2.0154 - accuracy: 0.3934 - val_loss: 1.9270 - val_accuracy: 0.4162\n",
      "Epoch 13/50\n",
      "150/150 [==============================] - 21s 141ms/step - loss: 1.8693 - accuracy: 0.4261 - val_loss: 1.7583 - val_accuracy: 0.4606\n",
      "Epoch 14/50\n",
      "150/150 [==============================] - 20s 136ms/step - loss: 1.6957 - accuracy: 0.4880 - val_loss: 1.6565 - val_accuracy: 0.4963\n",
      "Epoch 15/50\n",
      "150/150 [==============================] - 20s 136ms/step - loss: 1.6073 - accuracy: 0.5187 - val_loss: 1.6140 - val_accuracy: 0.5170\n",
      "Epoch 16/50\n",
      "150/150 [==============================] - 21s 139ms/step - loss: 1.5388 - accuracy: 0.5420 - val_loss: 1.5009 - val_accuracy: 0.5502\n",
      "Epoch 17/50\n",
      "150/150 [==============================] - 20s 136ms/step - loss: 1.4816 - accuracy: 0.5556 - val_loss: 1.4650 - val_accuracy: 0.5493\n",
      "Epoch 18/50\n",
      "150/150 [==============================] - 21s 141ms/step - loss: 1.3868 - accuracy: 0.5782 - val_loss: 1.3429 - val_accuracy: 0.5993\n",
      "Epoch 19/50\n",
      "150/150 [==============================] - 21s 142ms/step - loss: 1.2848 - accuracy: 0.6107 - val_loss: 1.2279 - val_accuracy: 0.6295\n",
      "Epoch 20/50\n",
      "150/150 [==============================] - 21s 137ms/step - loss: 1.1677 - accuracy: 0.6413 - val_loss: 1.1659 - val_accuracy: 0.6317\n",
      "Epoch 21/50\n",
      "150/150 [==============================] - 21s 141ms/step - loss: 1.0582 - accuracy: 0.6713 - val_loss: 1.0155 - val_accuracy: 0.6792\n",
      "Epoch 22/50\n",
      "150/150 [==============================] - 21s 139ms/step - loss: 0.9666 - accuracy: 0.6994 - val_loss: 0.9777 - val_accuracy: 0.6951\n",
      "Epoch 23/50\n",
      "150/150 [==============================] - 22s 144ms/step - loss: 0.8979 - accuracy: 0.7209 - val_loss: 0.9506 - val_accuracy: 0.6978\n",
      "Epoch 24/50\n",
      "150/150 [==============================] - 21s 137ms/step - loss: 0.8468 - accuracy: 0.7331 - val_loss: 0.7972 - val_accuracy: 0.7524\n",
      "Epoch 25/50\n",
      "150/150 [==============================] - 21s 139ms/step - loss: 0.7258 - accuracy: 0.7737 - val_loss: 0.7105 - val_accuracy: 0.7679\n",
      "Epoch 26/50\n",
      "150/150 [==============================] - 21s 139ms/step - loss: 0.6338 - accuracy: 0.7988 - val_loss: 0.5767 - val_accuracy: 0.8183\n",
      "Epoch 27/50\n",
      "150/150 [==============================] - 21s 137ms/step - loss: 0.5714 - accuracy: 0.8180 - val_loss: 0.5585 - val_accuracy: 0.8191\n",
      "Epoch 28/50\n",
      "150/150 [==============================] - 21s 138ms/step - loss: 0.4455 - accuracy: 0.8695 - val_loss: 0.4524 - val_accuracy: 0.8643\n",
      "Epoch 29/50\n",
      "150/150 [==============================] - 21s 140ms/step - loss: 0.3780 - accuracy: 0.8967 - val_loss: 0.4553 - val_accuracy: 0.8586\n",
      "Epoch 30/50\n",
      "150/150 [==============================] - 21s 138ms/step - loss: 0.3117 - accuracy: 0.9209 - val_loss: 0.2745 - val_accuracy: 0.9395\n",
      "Epoch 31/50\n",
      "150/150 [==============================] - 21s 139ms/step - loss: 0.2605 - accuracy: 0.9390 - val_loss: 0.2683 - val_accuracy: 0.9348\n",
      "Epoch 32/50\n",
      "150/150 [==============================] - 21s 139ms/step - loss: 0.1715 - accuracy: 0.9720 - val_loss: 0.1814 - val_accuracy: 0.9683\n",
      "Epoch 33/50\n",
      "150/150 [==============================] - 21s 141ms/step - loss: 0.1647 - accuracy: 0.9708 - val_loss: 0.2295 - val_accuracy: 0.9409\n",
      "Epoch 34/50\n",
      "150/150 [==============================] - 21s 138ms/step - loss: 0.1483 - accuracy: 0.9736 - val_loss: 0.1560 - val_accuracy: 0.9695\n",
      "Epoch 35/50\n",
      "150/150 [==============================] - 21s 139ms/step - loss: 0.1573 - accuracy: 0.9675 - val_loss: 0.1897 - val_accuracy: 0.9510\n",
      "Epoch 36/50\n",
      "150/150 [==============================] - 21s 139ms/step - loss: 0.1244 - accuracy: 0.9767 - val_loss: 0.1294 - val_accuracy: 0.9746\n",
      "Epoch 37/50\n",
      "150/150 [==============================] - 21s 142ms/step - loss: 0.0969 - accuracy: 0.9842 - val_loss: 0.1158 - val_accuracy: 0.9762\n",
      "Epoch 38/50\n",
      "150/150 [==============================] - 23s 152ms/step - loss: 0.0935 - accuracy: 0.9828 - val_loss: 0.1317 - val_accuracy: 0.9689\n",
      "Epoch 39/50\n",
      "150/150 [==============================] - 21s 142ms/step - loss: 0.1152 - accuracy: 0.9743 - val_loss: 0.1150 - val_accuracy: 0.9745\n",
      "Epoch 40/50\n",
      "150/150 [==============================] - 37s 246ms/step - loss: 0.0705 - accuracy: 0.9894 - val_loss: 0.0793 - val_accuracy: 0.9860\n",
      "Epoch 41/50\n",
      "150/150 [==============================] - 42s 282ms/step - loss: 0.0521 - accuracy: 0.9934 - val_loss: 0.0899 - val_accuracy: 0.9798\n",
      "Epoch 42/50\n",
      "150/150 [==============================] - 42s 280ms/step - loss: 0.0899 - accuracy: 0.9793 - val_loss: 0.1585 - val_accuracy: 0.9519\n",
      "Epoch 43/50\n",
      "150/150 [==============================] - 42s 278ms/step - loss: 0.1339 - accuracy: 0.9619 - val_loss: 0.1306 - val_accuracy: 0.9655\n",
      "Epoch 44/50\n",
      "150/150 [==============================] - 42s 278ms/step - loss: 0.0546 - accuracy: 0.9904 - val_loss: 0.0607 - val_accuracy: 0.9883\n",
      "Epoch 45/50\n",
      "150/150 [==============================] - 42s 277ms/step - loss: 0.0293 - accuracy: 0.9974 - val_loss: 0.0446 - val_accuracy: 0.9923\n",
      "Epoch 46/50\n",
      "150/150 [==============================] - 42s 278ms/step - loss: 0.0291 - accuracy: 0.9969 - val_loss: 0.0467 - val_accuracy: 0.9919\n",
      "Epoch 47/50\n",
      "150/150 [==============================] - 42s 278ms/step - loss: 0.0846 - accuracy: 0.9765 - val_loss: 0.2879 - val_accuracy: 0.9056\n",
      "Epoch 48/50\n",
      "150/150 [==============================] - 42s 278ms/step - loss: 0.1264 - accuracy: 0.9629 - val_loss: 0.0912 - val_accuracy: 0.9764\n",
      "Epoch 49/50\n",
      "150/150 [==============================] - 42s 280ms/step - loss: 0.0254 - accuracy: 0.9972 - val_loss: 0.0294 - val_accuracy: 0.9959\n",
      "Epoch 50/50\n",
      "150/150 [==============================] - 42s 282ms/step - loss: 0.0104 - accuracy: 0.9999 - val_loss: 0.0186 - val_accuracy: 0.9984\n"
     ]
    },
    {
     "data": {
      "image/png": "[encoded data removed]",
      "text/plain": [
       "<Figure size 1080x360 with 2 Axes>"
      ]
     },
     "metadata": {
      "needs_background": "light"
     },
     "output_type": "display_data"
    }
   ],
   "source": [
    "Epochs = 50\n",
    "Batch_size = 50\n",
    "\n",
    "\n",
    "# train\n",
    "hist = model.fit(x_train, y_train, \n",
    "                 batch_size=Batch_size, epochs=Epochs, \n",
    "                 validation_data=(x_val, y_val))\n",
    "\n",
    "#show history of progress\n",
    "def show_progress():\n",
    "    plt.figure(figsize=(15,5))\n",
    "    plt.subplot(121)\n",
    "    plt.plot(hist.history['accuracy'])\n",
    "    plt.plot(hist.history['val_accuracy'])\n",
    "    plt.title('model accuracy')\n",
    "    plt.ylabel('accuracy')\n",
    "    plt.xlabel('epoch')\n",
    "    plt.legend(['train', 'validation'], loc='upper left')\n",
    "    plt.subplot(122)\n",
    "    plt.plot(hist.history['loss'])\n",
    "    plt.plot(hist.history['val_loss'])\n",
    "    plt.title('model loss')\n",
    "    plt.ylabel('loss')\n",
    "    plt.xlabel('epoch')\n",
    "    plt.legend(['train', 'validation'], loc='upper right')\n",
    "    plt.show()\n",
    "\n",
    "show_progress()"
   ]
  },
  {
   "cell_type": "markdown",
   "metadata": {},
   "source": [
    "## Test model"
   ]
  },
  {
   "cell_type": "code",
   "execution_count": 45,
   "metadata": {},
   "outputs": [
    {
     "name": "stdout",
     "output_type": "stream",
     "text": [
      ".- -... -.-. -.. . ..-.                   abcdef  <->  abcdef\n",
      "-....- .... ... .-.. ..- -....-           -hslu-  <->  -hslu-\n",
      ".... .- .... .- .... .-                   hahaha  <->  hahaha\n",
      "-....- -....- -....- -....- -....- -....- ----bh  <->  ------\n",
      "-..- -.-- --.. ..- ...- .--               xyzuvw  <->  xyzuvw\n",
      ".--. .. .--. .- .--. ---                  pipapo  <->  pipapo\n",
      ".... . .-.. .-.. --- -....-               hello-  <->  hello-\n",
      ".-- --- .-. .-.. -.. -....-               world-  <->  world-\n",
      "-....- -....- -....- -....- ..-. ....     ----bh  <->  ----fh\n",
      "-....- -....- -....- -....- -... -...     ----bs  <->  ----bb\n"
     ]
    }
   ],
   "source": [
    "test = ['abcdef', '-hslu-','hahaha','------','xyzuvw','pipapo','hello-','world-', '----fh','----bb' ]\n",
    "        \n",
    "x = np.zeros((len(test), max_len_x, len(chars_in)))\n",
    "for i, token in enumerate(test):\n",
    "    x[i] = embedding_in.encode(morse_encode(token), max_len_x)\n",
    "\n",
    "pre = model.predict(x)\n",
    "\n",
    "for i in range(len(test)):\n",
    "    print(''.join([embedding_in.decode(code) for code in x[i]]),\n",
    "          ''.join([embedding_out.decode(code) for code in pre[i]]), ' <-> ', \n",
    "          ''.join(test[i]))"
   ]
  },
  {
   "cell_type": "markdown",
   "metadata": {},
   "source": [
    "## Save and load models"
   ]
  },
  {
   "cell_type": "code",
   "execution_count": 43,
   "metadata": {},
   "outputs": [],
   "source": [
    "model.save('model_best.h5')\n"
   ]
  },
  {
   "cell_type": "code",
   "execution_count": 44,
   "metadata": {},
   "outputs": [],
   "source": [
    "mx = load_model('model_best.h5')\n"
   ]
  }
 ],
 "metadata": {
  "kernelspec": {
   "display_name": "Python 3",
   "language": "python",
   "name": "python3"
  },
  "language_info": {
   "codemirror_mode": {
    "name": "ipython",
    "version": 3
   },
   "file_extension": ".py",
   "mimetype": "text/x-python",
   "name": "python",
   "nbconvert_exporter": "python",
   "pygments_lexer": "ipython3",
   "version": "3.7.3"
  }
 },
 "nbformat": 4,
 "nbformat_minor": 2
}
