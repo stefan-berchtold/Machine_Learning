{
 "cells": [
  {
   "cell_type": "code",
   "execution_count": null,
   "metadata": {},
   "outputs": [],
   "source": []
  },
  {
   "cell_type": "code",
   "execution_count": 28,
   "metadata": {},
   "outputs": [],
   "source": [
    "import random\n",
    "import numpy as np\n",
    "import string\n",
    "import matplotlib.pyplot as plt\n",
    "from keras.models import Sequential, load_model\n",
    "from keras import layers\n"
   ]
  },
  {
   "cell_type": "code",
   "execution_count": null,
   "metadata": {},
   "outputs": [],
   "source": []
  },
  {
   "cell_type": "code",
   "execution_count": 29,
   "metadata": {},
   "outputs": [],
   "source": [
    "alphabet = list('abcdefghijklmnopqrstuvwxyz-')\n",
    "values = ['.-', '-...', '-.-.', '-..', '.', '..-.', '--.', '....', '..', '.---', '-.-', \n",
    "          '.-..', '--', '-.','---', '.--.', '--.-', \n",
    "          '.-.', '...', '-', '..-', '...-', '.--', '-..-', '-.--', '--..','-....-']\n",
    "\n",
    "morse_dict = dict(zip(alphabet, values))\n",
    "ascii_dict = dict(map(reversed, morse_dict.items())) # inverse mapping\n",
    "\n",
    "# convert text to morse code\n",
    "def morse_encode(text):\n",
    "    t = ''.join([c for c in text.lower() if c in alphabet])\n",
    "    return ' '.join([''.join(morse_dict[i]) for i in t])\n",
    " \n",
    "# convert morse code to text\n",
    "def morse_decode(code):\n",
    "    return ''.join([ascii_dict[i] for i in code.split(' ')])"
   ]
  },
  {
   "cell_type": "code",
   "execution_count": null,
   "metadata": {},
   "outputs": [],
   "source": []
  },
  {
   "cell_type": "code",
   "execution_count": 30,
   "metadata": {},
   "outputs": [],
   "source": [
    "word_len = 6                                    # number of characters output\n",
    "\n",
    "max_len_x = len(max(values, key=len))*word_len+(word_len-1)  # number of morse symbols\n",
    "max_len_y = word_len\n",
    "    \n",
    "# generate data for training \n",
    "\n",
    "def generate_data (n):\n",
    "    output_list = [(''.join([random.choice(string.ascii_lowercase + '-') \n",
    "        for _ in range(word_len)])) \n",
    "            for _ in range(n)]\n",
    "    return  output_list, [morse_encode(s) for s in output_list]\n",
    "    \n",
    "output_list, input_list = generate_data(10000)"
   ]
  },
  {
   "cell_type": "code",
   "execution_count": null,
   "metadata": {},
   "outputs": [],
   "source": []
  },
  {
   "cell_type": "code",
   "execution_count": 31,
   "metadata": {},
   "outputs": [],
   "source": [
    "class Embedding(object):\n",
    "    def __init__(self, chars):\n",
    "        self.chars = sorted(set(chars))\n",
    "        self.char_indices = dict((c, i) for i, c in\n",
    "                                            enumerate(self.chars))\n",
    "        self.indices_char = dict((i, c) for i, c in \n",
    "                                            enumerate(self.chars))\n",
    "    def encode(self, token, num_rows):\n",
    "        x = np.zeros((num_rows, len(self.chars)))   # zeros, except ..\n",
    "        for i, c in enumerate(token):               # one \n",
    "            x[i, self.char_indices[c]] = 1\n",
    "        return x\n",
    "    \n",
    "    def decode(self, x):\n",
    "        x = [x.argmax(axis=-1)]\n",
    "        return ''.join(self.indices_char[int(v)] for v in x)\n",
    "    "
   ]
  },
  {
   "cell_type": "code",
   "execution_count": null,
   "metadata": {},
   "outputs": [],
   "source": []
  },
  {
   "cell_type": "code",
   "execution_count": 32,
   "metadata": {},
   "outputs": [
    {
     "name": "stdout",
     "output_type": "stream",
     "text": [
      "..- .-. -....- . -.- -                    ur-ekt\n",
      "--- -- -..- --.- -. ....                  omxqnh\n",
      "-- --. .-. --. --.. --..                  mgrgzz\n",
      "-.. ...- -.- -. --.. --..                 dvknzz\n",
      ".--- ... -... .--. --.. .---              jsbpzj\n"
     ]
    }
   ],
   "source": [
    "# character sets used at input (morse code) and output (text)\n",
    "\n",
    "chars_in = '-. '\n",
    "chars_out = ''.join(alphabet)\n",
    "\n",
    "embedding_in = Embedding(chars_in)\n",
    "embedding_out = Embedding(chars_out)\n",
    "\n",
    "# x : input to encoder, y : output from decoder\n",
    "x = np.zeros((len(input_list), max_len_x, len(chars_in)))\n",
    "y = np.zeros((len(output_list), max_len_y, len(chars_out)))\n",
    "\n",
    "for i, token in enumerate(input_list):\n",
    "    x[i] = embedding_in.encode(token, max_len_x)\n",
    "    \n",
    "for i, token in enumerate(output_list):\n",
    "    y[i] = embedding_out.encode(token, max_len_y)\n",
    "    \n",
    "# split data set : 3/4 for training, 1/4 for evaluation\n",
    "m = 3*len(x)// 4\n",
    "(x_train, x_val) = x[:m], x[m:]\n",
    "(y_train, y_val) = y[:m], y[m:]\n",
    "\n",
    "# show some examples ...\n",
    "for i in range(5):\n",
    "    print(''.join([embedding_in.decode(token) for token in x_train[i]]),\n",
    "          ''.join([embedding_out.decode(token) for token in y_train[i]]))"
   ]
  },
  {
   "cell_type": "code",
   "execution_count": null,
   "metadata": {},
   "outputs": [],
   "source": []
  },
  {
   "cell_type": "code",
   "execution_count": 33,
   "metadata": {},
   "outputs": [
    {
     "name": "stdout",
     "output_type": "stream",
     "text": [
      "Model: \"sequential_2\"\n",
      "_________________________________________________________________\n",
      "Layer (type)                 Output Shape              Param #   \n",
      "=================================================================\n",
      "lstm_4 (LSTM)                (None, 200)               163200    \n",
      "_________________________________________________________________\n",
      "repeat_vector_2 (RepeatVecto (None, 6, 200)            0         \n",
      "_________________________________________________________________\n",
      "lstm_5 (LSTM)                (None, 6, 200)            320800    \n",
      "_________________________________________________________________\n",
      "time_distributed_2 (TimeDist (None, 6, 27)             5427      \n",
      "_________________________________________________________________\n",
      "activation_2 (Activation)    (None, 6, 27)             0         \n",
      "=================================================================\n",
      "Total params: 489,427\n",
      "Trainable params: 489,427\n",
      "Non-trainable params: 0\n",
      "_________________________________________________________________\n"
     ]
    }
   ],
   "source": [
    "latent_dim = 200\n",
    "\n",
    "model = Sequential()\n",
    "model.add(layers.LSTM(latent_dim, input_shape=(max_len_x,len(chars_in))))\n",
    "model.add(layers.RepeatVector(max_len_y))\n",
    "model.add(layers.LSTM(latent_dim, return_sequences=True))\n",
    "model.add(layers.TimeDistributed(layers.Dense(len(chars_out))))\n",
    "model.add(layers.Activation('softmax'))\n",
    "model.compile(loss='categorical_crossentropy', optimizer='adam', \n",
    "              metrics=['accuracy'])\n",
    "model.summary()"
   ]
  },
  {
   "cell_type": "code",
   "execution_count": null,
   "metadata": {},
   "outputs": [],
   "source": []
  },
  {
   "cell_type": "code",
   "execution_count": 34,
   "metadata": {},
   "outputs": [
    {
     "name": "stdout",
     "output_type": "stream",
     "text": [
      "Epoch 1/50\n",
      "750/750 [==============================] - 13s 17ms/step - loss: 3.1236 - accuracy: 0.0799 - val_loss: 3.0107 - val_accuracy: 0.0980\n",
      "Epoch 2/50\n",
      "750/750 [==============================] - 13s 17ms/step - loss: 2.9482 - accuracy: 0.1160 - val_loss: 2.9035 - val_accuracy: 0.1289\n",
      "Epoch 3/50\n",
      "750/750 [==============================] - 13s 18ms/step - loss: 2.7400 - accuracy: 0.1668 - val_loss: 2.5818 - val_accuracy: 0.2167\n",
      "Epoch 4/50\n",
      "750/750 [==============================] - 14s 19ms/step - loss: 2.4822 - accuracy: 0.2370 - val_loss: 2.3763 - val_accuracy: 0.2631\n",
      "Epoch 5/50\n",
      "750/750 [==============================] - 14s 19ms/step - loss: 2.2760 - accuracy: 0.2909 - val_loss: 2.1047 - val_accuracy: 0.3268\n",
      "Epoch 6/50\n",
      "750/750 [==============================] - 14s 19ms/step - loss: 2.0277 - accuracy: 0.3617 - val_loss: 1.9130 - val_accuracy: 0.4002\n",
      "Epoch 7/50\n",
      "750/750 [==============================] - 15s 20ms/step - loss: 1.8672 - accuracy: 0.4137 - val_loss: 1.8794 - val_accuracy: 0.4020\n",
      "Epoch 8/50\n",
      "750/750 [==============================] - 15s 20ms/step - loss: 1.7123 - accuracy: 0.4489 - val_loss: 1.6234 - val_accuracy: 0.4621\n",
      "Epoch 9/50\n",
      "750/750 [==============================] - 15s 20ms/step - loss: 1.5166 - accuracy: 0.5062 - val_loss: 1.5296 - val_accuracy: 0.5003\n",
      "Epoch 10/50\n",
      "750/750 [==============================] - 15s 20ms/step - loss: 1.3602 - accuracy: 0.5600 - val_loss: 1.2859 - val_accuracy: 0.5806\n",
      "Epoch 11/50\n",
      "750/750 [==============================] - 15s 20ms/step - loss: 1.2567 - accuracy: 0.5949 - val_loss: 1.1890 - val_accuracy: 0.6187\n",
      "Epoch 12/50\n",
      "750/750 [==============================] - 15s 20ms/step - loss: 1.1550 - accuracy: 0.6294 - val_loss: 1.1129 - val_accuracy: 0.6465\n",
      "Epoch 13/50\n",
      "750/750 [==============================] - 15s 19ms/step - loss: 1.0789 - accuracy: 0.6492 - val_loss: 1.0568 - val_accuracy: 0.6455\n",
      "Epoch 14/50\n",
      "750/750 [==============================] - 14s 19ms/step - loss: 0.9531 - accuracy: 0.6862 - val_loss: 0.8607 - val_accuracy: 0.7150\n",
      "Epoch 15/50\n",
      "750/750 [==============================] - 15s 19ms/step - loss: 0.8382 - accuracy: 0.7188 - val_loss: 0.7705 - val_accuracy: 0.7409\n",
      "Epoch 16/50\n",
      "750/750 [==============================] - 15s 20ms/step - loss: 0.6977 - accuracy: 0.7640 - val_loss: 0.6501 - val_accuracy: 0.7751\n",
      "Epoch 17/50\n",
      "750/750 [==============================] - 15s 20ms/step - loss: 0.6196 - accuracy: 0.7909 - val_loss: 0.6197 - val_accuracy: 0.7841\n",
      "Epoch 18/50\n",
      "750/750 [==============================] - 15s 20ms/step - loss: 0.5488 - accuracy: 0.8178 - val_loss: 0.4623 - val_accuracy: 0.8611\n",
      "Epoch 19/50\n",
      "750/750 [==============================] - 15s 20ms/step - loss: 0.4376 - accuracy: 0.8653 - val_loss: 0.4743 - val_accuracy: 0.8528\n",
      "Epoch 20/50\n",
      "750/750 [==============================] - 15s 20ms/step - loss: 0.3622 - accuracy: 0.8954 - val_loss: 0.3175 - val_accuracy: 0.9187\n",
      "Epoch 21/50\n",
      "750/750 [==============================] - 15s 20ms/step - loss: 0.2953 - accuracy: 0.9195 - val_loss: 0.3209 - val_accuracy: 0.9055\n",
      "Epoch 22/50\n",
      "750/750 [==============================] - 15s 20ms/step - loss: 0.2694 - accuracy: 0.9260 - val_loss: 0.3183 - val_accuracy: 0.8972\n",
      "Epoch 23/50\n",
      "750/750 [==============================] - 15s 20ms/step - loss: 0.2296 - accuracy: 0.9408 - val_loss: 0.1647 - val_accuracy: 0.9647\n",
      "Epoch 24/50\n",
      "750/750 [==============================] - 15s 20ms/step - loss: 0.1834 - accuracy: 0.9544 - val_loss: 0.1868 - val_accuracy: 0.9503\n",
      "Epoch 25/50\n",
      "750/750 [==============================] - 15s 20ms/step - loss: 0.1942 - accuracy: 0.9472 - val_loss: 0.1780 - val_accuracy: 0.9496\n",
      "Epoch 26/50\n",
      "750/750 [==============================] - 15s 20ms/step - loss: 0.1647 - accuracy: 0.9554 - val_loss: 0.1491 - val_accuracy: 0.9577\n",
      "Epoch 27/50\n",
      "750/750 [==============================] - 15s 20ms/step - loss: 0.1504 - accuracy: 0.9602 - val_loss: 0.1699 - val_accuracy: 0.9517\n",
      "Epoch 28/50\n",
      "750/750 [==============================] - 15s 20ms/step - loss: 0.1610 - accuracy: 0.9539 - val_loss: 0.1332 - val_accuracy: 0.9651\n",
      "Epoch 29/50\n",
      "750/750 [==============================] - 16s 21ms/step - loss: 0.1295 - accuracy: 0.9642 - val_loss: 0.1171 - val_accuracy: 0.9665\n",
      "Epoch 30/50\n",
      "750/750 [==============================] - 15s 20ms/step - loss: 0.1064 - accuracy: 0.9720 - val_loss: 0.0884 - val_accuracy: 0.9780\n",
      "Epoch 31/50\n",
      "750/750 [==============================] - 15s 20ms/step - loss: 0.1267 - accuracy: 0.9634 - val_loss: 0.1448 - val_accuracy: 0.9579\n",
      "Epoch 32/50\n",
      "750/750 [==============================] - 15s 20ms/step - loss: 0.0939 - accuracy: 0.9745 - val_loss: 0.1434 - val_accuracy: 0.9603\n",
      "Epoch 33/50\n",
      "750/750 [==============================] - 15s 20ms/step - loss: 0.1233 - accuracy: 0.9631 - val_loss: 0.1103 - val_accuracy: 0.9697\n",
      "Epoch 34/50\n",
      "750/750 [==============================] - 15s 20ms/step - loss: 0.0925 - accuracy: 0.9744 - val_loss: 0.1006 - val_accuracy: 0.9699\n",
      "Epoch 35/50\n",
      "750/750 [==============================] - 15s 20ms/step - loss: 0.0983 - accuracy: 0.9717 - val_loss: 0.1005 - val_accuracy: 0.9709\n",
      "Epoch 36/50\n",
      "750/750 [==============================] - 15s 20ms/step - loss: 0.0809 - accuracy: 0.9772 - val_loss: 0.1854 - val_accuracy: 0.9414\n",
      "Epoch 37/50\n",
      "750/750 [==============================] - 15s 20ms/step - loss: 0.0700 - accuracy: 0.9813 - val_loss: 0.0501 - val_accuracy: 0.9879\n",
      "Epoch 38/50\n",
      "750/750 [==============================] - 15s 20ms/step - loss: 0.0930 - accuracy: 0.9727 - val_loss: 0.1008 - val_accuracy: 0.9696\n",
      "Epoch 39/50\n",
      "750/750 [==============================] - 15s 20ms/step - loss: 0.0722 - accuracy: 0.9796 - val_loss: 0.0838 - val_accuracy: 0.9749\n",
      "Epoch 40/50\n",
      "750/750 [==============================] - 15s 20ms/step - loss: 0.0756 - accuracy: 0.9777 - val_loss: 0.0512 - val_accuracy: 0.9872\n",
      "Epoch 41/50\n",
      "750/750 [==============================] - 15s 20ms/step - loss: 0.0720 - accuracy: 0.9800 - val_loss: 0.2108 - val_accuracy: 0.9283\n",
      "Epoch 42/50\n",
      "750/750 [==============================] - 15s 20ms/step - loss: 0.0638 - accuracy: 0.9817 - val_loss: 0.0367 - val_accuracy: 0.9910\n",
      "Epoch 43/50\n",
      "750/750 [==============================] - 15s 20ms/step - loss: 0.0850 - accuracy: 0.9744 - val_loss: 0.0591 - val_accuracy: 0.9839\n",
      "Epoch 44/50\n",
      "750/750 [==============================] - 15s 20ms/step - loss: 0.0476 - accuracy: 0.9868 - val_loss: 0.0642 - val_accuracy: 0.9823\n",
      "Epoch 45/50\n",
      "750/750 [==============================] - 15s 20ms/step - loss: 0.0732 - accuracy: 0.9786 - val_loss: 0.0578 - val_accuracy: 0.9845\n",
      "Epoch 46/50\n",
      "750/750 [==============================] - 15s 20ms/step - loss: 0.0530 - accuracy: 0.9842 - val_loss: 0.0675 - val_accuracy: 0.9801\n",
      "Epoch 47/50\n",
      "750/750 [==============================] - 15s 20ms/step - loss: 0.0566 - accuracy: 0.9843 - val_loss: 0.0976 - val_accuracy: 0.9673\n",
      "Epoch 48/50\n",
      "750/750 [==============================] - 16s 21ms/step - loss: 0.0531 - accuracy: 0.9845 - val_loss: 0.0177 - val_accuracy: 0.9964\n",
      "Epoch 49/50\n",
      "750/750 [==============================] - 15s 20ms/step - loss: 0.0890 - accuracy: 0.9721 - val_loss: 0.0646 - val_accuracy: 0.9806\n",
      "Epoch 50/50\n",
      "750/750 [==============================] - 15s 20ms/step - loss: 0.0249 - accuracy: 0.9944 - val_loss: 0.0173 - val_accuracy: 0.9964\n"
     ]
    },
    {
     "data": {
      "image/png": "[encoded data removed]",
      "text/plain": [
       "<Figure size 1080x360 with 2 Axes>"
      ]
     },
     "metadata": {
      "needs_background": "light"
     },
     "output_type": "display_data"
    }
   ],
   "source": [
    "Epochs = 50\n",
    "Batch_size = 10\n",
    "\n",
    "# train\n",
    "hist = model.fit(x_train, y_train, \n",
    "                 batch_size=Batch_size, epochs=Epochs, \n",
    "                 validation_data=(x_val, y_val))\n",
    "\n",
    "#show history of progress\n",
    "def show_progress():\n",
    "    plt.figure(figsize=(15,5))\n",
    "    plt.subplot(121)\n",
    "    plt.plot(hist.history['accuracy'])\n",
    "    plt.plot(hist.history['val_accuracy'])\n",
    "    plt.title('model accuracy')\n",
    "    plt.ylabel('accuracy')\n",
    "    plt.xlabel('epoch')\n",
    "    plt.legend(['train', 'validation'], loc='upper left')\n",
    "    plt.subplot(122)\n",
    "    plt.plot(hist.history['loss'])\n",
    "    plt.plot(hist.history['val_loss'])\n",
    "    plt.title('model loss')\n",
    "    plt.ylabel('loss')\n",
    "    plt.xlabel('epoch')\n",
    "    plt.legend(['train', 'validation'], loc='upper right')\n",
    "    plt.show()\n",
    "\n",
    "show_progress()"
   ]
  },
  {
   "cell_type": "code",
   "execution_count": null,
   "metadata": {},
   "outputs": [],
   "source": []
  },
  {
   "cell_type": "code",
   "execution_count": 35,
   "metadata": {},
   "outputs": [
    {
     "name": "stdout",
     "output_type": "stream",
     "text": [
      ".- -... -.-. -.. . ..-.                   abcdef  <->  abcdef\n",
      "-....- .... ... .-.. ..- -....-           -hslu-  <->  -hslu-\n",
      ".... .- .... .- .... .-                   hahaha  <->  hahaha\n",
      "-....- -....- -....- -....- -....- -....- ----hs  <->  ------\n",
      "-..- -.-- --.. ..- ...- .--               xyzuvw  <->  xyzuvw\n",
      ".--. .. .--. .- .--. ---                  pipapo  <->  pipapo\n",
      ".... . .-.. .-.. --- -....-               hello-  <->  hello-\n",
      ".-- --- .-. .-.. -.. -....-               world-  <->  world-\n"
     ]
    }
   ],
   "source": [
    "test = ['abcdef', '-hslu-','hahaha','------','xyzuvw','pipapo','hello-','world-']\n",
    "        \n",
    "x = np.zeros((len(test), max_len_x, len(chars_in)))\n",
    "for i, token in enumerate(test):\n",
    "    x[i] = embedding_in.encode(morse_encode(token), max_len_x)\n",
    "\n",
    "pre = model.predict(x)\n",
    "\n",
    "for i in range(len(test)):\n",
    "    print(''.join([embedding_in.decode(code) for code in x[i]]),\n",
    "          ''.join([embedding_out.decode(code) for code in pre[i]]), ' <-> ', \n",
    "          ''.join(test[i]))"
   ]
  },
  {
   "cell_type": "code",
   "execution_count": null,
   "metadata": {},
   "outputs": [],
   "source": []
  }
 ],
 "metadata": {
  "kernelspec": {
   "display_name": "Python 3",
   "language": "python",
   "name": "python3"
  },
  "language_info": {
   "codemirror_mode": {
    "name": "ipython",
    "version": 3
   },
   "file_extension": ".py",
   "mimetype": "text/x-python",
   "name": "python",
   "nbconvert_exporter": "python",
   "pygments_lexer": "ipython3",
   "version": "3.7.3"
  }
 },
 "nbformat": 4,
 "nbformat_minor": 2
}
